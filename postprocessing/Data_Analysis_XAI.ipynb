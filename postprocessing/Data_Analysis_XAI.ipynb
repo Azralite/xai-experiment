{
  "cells": [
    {
      "attachments": {},
      "cell_type": "markdown",
      "metadata": {},
      "source": [
        "# XAI Experiment Data Analysis"
      ]
    },
    {
      "cell_type": "code",
      "execution_count": 1,
      "metadata": {},
      "outputs": [],
      "source": [
        "import json\n",
        "import pandas as pd\n",
        "import requests\n",
        "import io\n",
        "from urllib.request import urlopen\n",
        "import json\n",
        "import logging\n",
        "import seaborn as sns\n",
        "import matplotlib.pyplot as plt\n",
        "import numpy as np\n",
        "import json_normalize\n",
        "import pingouin as pg\n",
        "import scikit_posthocs as sp\n",
        "import scipy"
      ]
    },
    {
      "cell_type": "code",
      "execution_count": 2,
      "metadata": {},
      "outputs": [],
      "source": [
        "%reload_ext autoreload\n",
        "%autoreload 2"
      ]
    },
    {
      "attachments": {},
      "cell_type": "markdown",
      "metadata": {},
      "source": [
        "## Import and preprocess data"
      ]
    },
    {
      "attachments": {},
      "cell_type": "markdown",
      "metadata": {},
      "source": [
        "### Read questionnaire data"
      ]
    },
    {
      "cell_type": "code",
      "execution_count": 3,
      "metadata": {},
      "outputs": [],
      "source": [
        "df = pd.read_csv('data/data_cleaned.csv')"
      ]
    },
    {
      "attachments": {},
      "cell_type": "markdown",
      "metadata": {},
      "source": [
        "### Read news items"
      ]
    },
    {
      "cell_type": "code",
      "execution_count": 4,
      "metadata": {},
      "outputs": [],
      "source": [
        "newsitems = pd.read_csv('../preprocessing/news-items.csv')"
      ]
    },
    {
      "cell_type": "code",
      "execution_count": 5,
      "metadata": {},
      "outputs": [
        {
          "data": {
            "text/plain": [
              "float"
            ]
          },
          "execution_count": 5,
          "metadata": {},
          "output_type": "execute_result"
        }
      ],
      "source": [
        "type(newsitems['xaiFeatures/presence'][1])"
      ]
    },
    {
      "cell_type": "code",
      "execution_count": 6,
      "metadata": {},
      "outputs": [
        {
          "data": {
            "text/html": [
              "<div>\n",
              "<style scoped>\n",
              "    .dataframe tbody tr th:only-of-type {\n",
              "        vertical-align: middle;\n",
              "    }\n",
              "\n",
              "    .dataframe tbody tr th {\n",
              "        vertical-align: top;\n",
              "    }\n",
              "\n",
              "    .dataframe thead th {\n",
              "        text-align: right;\n",
              "    }\n",
              "</style>\n",
              "<table border=\"1\" class=\"dataframe\">\n",
              "  <thead>\n",
              "    <tr style=\"text-align: right;\">\n",
              "      <th></th>\n",
              "      <th>id</th>\n",
              "      <th>group</th>\n",
              "      <th>isFalsePositive</th>\n",
              "      <th>isTrueNegative</th>\n",
              "      <th>isQualification</th>\n",
              "      <th>title</th>\n",
              "      <th>subtitle</th>\n",
              "      <th>content</th>\n",
              "      <th>source</th>\n",
              "      <th>category</th>\n",
              "      <th>...</th>\n",
              "      <th>xaiFeatures/generalFactuality</th>\n",
              "      <th>xaiFeatures/generalTense</th>\n",
              "      <th>xaiFeatures/highlightedContent/text</th>\n",
              "      <th>xaiFeatures/highlightedContent/factuality</th>\n",
              "      <th>xaiFeatures/highlightedContent/tense</th>\n",
              "      <th>xaiFeatures/naturalLanguageExplanation</th>\n",
              "      <th>controlQuestion/question</th>\n",
              "      <th>controlQuestion/correctAnswer</th>\n",
              "      <th>controlQuestion/wrongAnswers/001</th>\n",
              "      <th>controlQuestion/wrongAnswers/002</th>\n",
              "    </tr>\n",
              "  </thead>\n",
              "  <tbody>\n",
              "    <tr>\n",
              "      <th>0</th>\n",
              "      <td>1.0</td>\n",
              "      <td>2.0</td>\n",
              "      <td>False</td>\n",
              "      <td>False</td>\n",
              "      <td>False</td>\n",
              "      <td>Improving energy efficiency</td>\n",
              "      <td>SDG 5 / Code 252, https://www.velatia.com/wp-c...</td>\n",
              "      <td>Despite the progress made in recent decades, &lt;...</td>\n",
              "      <td>NaN</td>\n",
              "      <td>Electrical system manufacturers</td>\n",
              "      <td>...</td>\n",
              "      <td>high</td>\n",
              "      <td>present</td>\n",
              "      <td>There is still a long way to go on gender equa...</td>\n",
              "      <td>high</td>\n",
              "      <td>future</td>\n",
              "      <td>The text mentions SDG 5 (Gender Equality) by a...</td>\n",
              "      <td>What did Velatia complete in 2021 regarding ge...</td>\n",
              "      <td>Velatia self-diagnosed their performance, incl...</td>\n",
              "      <td>Velatia fired 100 man to achieve gender equality.</td>\n",
              "      <td>Velatia collaborated with Google to promote ge...</td>\n",
              "    </tr>\n",
              "    <tr>\n",
              "      <th>1</th>\n",
              "      <td>NaN</td>\n",
              "      <td>NaN</td>\n",
              "      <td>NaN</td>\n",
              "      <td>NaN</td>\n",
              "      <td>NaN</td>\n",
              "      <td>NaN</td>\n",
              "      <td>NaN</td>\n",
              "      <td>NaN</td>\n",
              "      <td>NaN</td>\n",
              "      <td>NaN</td>\n",
              "      <td>...</td>\n",
              "      <td>NaN</td>\n",
              "      <td>NaN</td>\n",
              "      <td>firm determination to incorporate a culture of...</td>\n",
              "      <td>high</td>\n",
              "      <td>future</td>\n",
              "      <td>NaN</td>\n",
              "      <td>NaN</td>\n",
              "      <td>NaN</td>\n",
              "      <td>NaN</td>\n",
              "      <td>NaN</td>\n",
              "    </tr>\n",
              "    <tr>\n",
              "      <th>2</th>\n",
              "      <td>NaN</td>\n",
              "      <td>NaN</td>\n",
              "      <td>NaN</td>\n",
              "      <td>NaN</td>\n",
              "      <td>NaN</td>\n",
              "      <td>NaN</td>\n",
              "      <td>NaN</td>\n",
              "      <td>NaN</td>\n",
              "      <td>NaN</td>\n",
              "      <td>NaN</td>\n",
              "      <td>...</td>\n",
              "      <td>NaN</td>\n",
              "      <td>NaN</td>\n",
              "      <td>empower its women</td>\n",
              "      <td>medium</td>\n",
              "      <td>present</td>\n",
              "      <td>NaN</td>\n",
              "      <td>NaN</td>\n",
              "      <td>NaN</td>\n",
              "      <td>NaN</td>\n",
              "      <td>NaN</td>\n",
              "    </tr>\n",
              "    <tr>\n",
              "      <th>3</th>\n",
              "      <td>NaN</td>\n",
              "      <td>NaN</td>\n",
              "      <td>NaN</td>\n",
              "      <td>NaN</td>\n",
              "      <td>NaN</td>\n",
              "      <td>NaN</td>\n",
              "      <td>NaN</td>\n",
              "      <td>NaN</td>\n",
              "      <td>NaN</td>\n",
              "      <td>NaN</td>\n",
              "      <td>...</td>\n",
              "      <td>NaN</td>\n",
              "      <td>NaN</td>\n",
              "      <td>equality plans initiated in previous years</td>\n",
              "      <td>high</td>\n",
              "      <td>past</td>\n",
              "      <td>NaN</td>\n",
              "      <td>NaN</td>\n",
              "      <td>NaN</td>\n",
              "      <td>NaN</td>\n",
              "      <td>NaN</td>\n",
              "    </tr>\n",
              "    <tr>\n",
              "      <th>4</th>\n",
              "      <td>NaN</td>\n",
              "      <td>NaN</td>\n",
              "      <td>NaN</td>\n",
              "      <td>NaN</td>\n",
              "      <td>NaN</td>\n",
              "      <td>NaN</td>\n",
              "      <td>NaN</td>\n",
              "      <td>NaN</td>\n",
              "      <td>NaN</td>\n",
              "      <td>NaN</td>\n",
              "      <td>...</td>\n",
              "      <td>NaN</td>\n",
              "      <td>NaN</td>\n",
              "      <td>include aspects such as payroll records and wo...</td>\n",
              "      <td>high</td>\n",
              "      <td>future</td>\n",
              "      <td>NaN</td>\n",
              "      <td>NaN</td>\n",
              "      <td>NaN</td>\n",
              "      <td>NaN</td>\n",
              "      <td>NaN</td>\n",
              "    </tr>\n",
              "    <tr>\n",
              "      <th>5</th>\n",
              "      <td>NaN</td>\n",
              "      <td>NaN</td>\n",
              "      <td>NaN</td>\n",
              "      <td>NaN</td>\n",
              "      <td>NaN</td>\n",
              "      <td>NaN</td>\n",
              "      <td>NaN</td>\n",
              "      <td>NaN</td>\n",
              "      <td>NaN</td>\n",
              "      <td>NaN</td>\n",
              "      <td>...</td>\n",
              "      <td>NaN</td>\n",
              "      <td>NaN</td>\n",
              "      <td>awareness-raising campaigns</td>\n",
              "      <td>medium</td>\n",
              "      <td>future</td>\n",
              "      <td>NaN</td>\n",
              "      <td>NaN</td>\n",
              "      <td>NaN</td>\n",
              "      <td>NaN</td>\n",
              "      <td>NaN</td>\n",
              "    </tr>\n",
              "    <tr>\n",
              "      <th>6</th>\n",
              "      <td>NaN</td>\n",
              "      <td>NaN</td>\n",
              "      <td>NaN</td>\n",
              "      <td>NaN</td>\n",
              "      <td>NaN</td>\n",
              "      <td>NaN</td>\n",
              "      <td>NaN</td>\n",
              "      <td>NaN</td>\n",
              "      <td>NaN</td>\n",
              "      <td>NaN</td>\n",
              "      <td>...</td>\n",
              "      <td>NaN</td>\n",
              "      <td>NaN</td>\n",
              "      <td>placing special emphasis on promoting the inco...</td>\n",
              "      <td>low</td>\n",
              "      <td>future</td>\n",
              "      <td>NaN</td>\n",
              "      <td>NaN</td>\n",
              "      <td>NaN</td>\n",
              "      <td>NaN</td>\n",
              "      <td>NaN</td>\n",
              "    </tr>\n",
              "    <tr>\n",
              "      <th>7</th>\n",
              "      <td>2.0</td>\n",
              "      <td>2.0</td>\n",
              "      <td>False</td>\n",
              "      <td>False</td>\n",
              "      <td>False</td>\n",
              "      <td>Improving energy efficiency</td>\n",
              "      <td>SDG 7 / code 319 / Danfoss</td>\n",
              "      <td>To reach carbon neutrality, energy-efficient t...</td>\n",
              "      <td>NaN</td>\n",
              "      <td>Customer goods / shops</td>\n",
              "      <td>...</td>\n",
              "      <td>high</td>\n",
              "      <td>past</td>\n",
              "      <td>NaN</td>\n",
              "      <td>NaN</td>\n",
              "      <td>NaN</td>\n",
              "      <td>The text mentions SDG 7 (Affordable and Clean ...</td>\n",
              "      <td>What is a key solution mentioned in the text f...</td>\n",
              "      <td>Prioritizing electrification in the mobility s...</td>\n",
              "      <td>Focusing only on coal energy supply</td>\n",
              "      <td>Using nuclear power</td>\n",
              "    </tr>\n",
              "    <tr>\n",
              "      <th>8</th>\n",
              "      <td>3.0</td>\n",
              "      <td>2.0</td>\n",
              "      <td>False</td>\n",
              "      <td>False</td>\n",
              "      <td>False</td>\n",
              "      <td>Electrolux SDG Report</td>\n",
              "      <td>SDG 7, Code : 1623</td>\n",
              "      <td>We additionally strive to contribute to other ...</td>\n",
              "      <td>Electrolux</td>\n",
              "      <td>Customer goods / shops</td>\n",
              "      <td>...</td>\n",
              "      <td>low</td>\n",
              "      <td>present</td>\n",
              "      <td>We have specific focus on gender diversity and...</td>\n",
              "      <td>medium</td>\n",
              "      <td>present</td>\n",
              "      <td>The text mentions SDG 5 (Gender Equality) by s...</td>\n",
              "      <td>Which of the following statements is true abou...</td>\n",
              "      <td>The company promotes gender diversity and work...</td>\n",
              "      <td>The company only focuses on promoting health a...</td>\n",
              "      <td>The Electrolux Food Foundation and Feed the Pl...</td>\n",
              "    </tr>\n",
              "    <tr>\n",
              "      <th>9</th>\n",
              "      <td>NaN</td>\n",
              "      <td>NaN</td>\n",
              "      <td>NaN</td>\n",
              "      <td>NaN</td>\n",
              "      <td>NaN</td>\n",
              "      <td>NaN</td>\n",
              "      <td>NaN</td>\n",
              "      <td>NaN</td>\n",
              "      <td>NaN</td>\n",
              "      <td>NaN</td>\n",
              "      <td>...</td>\n",
              "      <td>NaN</td>\n",
              "      <td>NaN</td>\n",
              "      <td>Our social investment projects also often empo...</td>\n",
              "      <td>low</td>\n",
              "      <td>future</td>\n",
              "      <td>NaN</td>\n",
              "      <td>NaN</td>\n",
              "      <td>NaN</td>\n",
              "      <td>NaN</td>\n",
              "      <td>NaN</td>\n",
              "    </tr>\n",
              "    <tr>\n",
              "      <th>10</th>\n",
              "      <td>4.0</td>\n",
              "      <td>2.0</td>\n",
              "      <td>False</td>\n",
              "      <td>False</td>\n",
              "      <td>False</td>\n",
              "      <td>Better water consumption in agriculture</td>\n",
              "      <td>No SDG , Code : 207</td>\n",
              "      <td>We help reduce water consumption through the u...</td>\n",
              "      <td>NaN</td>\n",
              "      <td>Customer goods / shops</td>\n",
              "      <td>...</td>\n",
              "      <td>high</td>\n",
              "      <td>past</td>\n",
              "      <td>NaN</td>\n",
              "      <td>NaN</td>\n",
              "      <td>NaN</td>\n",
              "      <td>The text indirectly refers to both SDG 5 (Gend...</td>\n",
              "      <td>How does the company reduce water consumption ...</td>\n",
              "      <td>By utilizing advanced ICT solutions in agricul...</td>\n",
              "      <td>By increasing the use of fertilizers.</td>\n",
              "      <td>By implementing traditional farming methods.</td>\n",
              "    </tr>\n",
              "    <tr>\n",
              "      <th>11</th>\n",
              "      <td>5.0</td>\n",
              "      <td>2.0</td>\n",
              "      <td>True</td>\n",
              "      <td>False</td>\n",
              "      <td>False</td>\n",
              "      <td>Sustainability in science</td>\n",
              "      <td>False Pos / code 286</td>\n",
              "      <td>As planetary health impacts public health, we ...</td>\n",
              "      <td>Trustworthy Source</td>\n",
              "      <td>Customer goods / shops</td>\n",
              "      <td>...</td>\n",
              "      <td>high</td>\n",
              "      <td>past</td>\n",
              "      <td>Our company purpose - Breakthroughs that chang...</td>\n",
              "      <td>high</td>\n",
              "      <td>present</td>\n",
              "      <td>This text mention SDG 5. It refers to gender e...</td>\n",
              "      <td>How does the company's approach to environment...</td>\n",
              "      <td>By promoting resilient and sustainable infrast...</td>\n",
              "      <td>By supporting initiatives for gender equality ...</td>\n",
              "      <td>By taxing their employee who use too much thei...</td>\n",
              "    </tr>\n",
              "    <tr>\n",
              "      <th>12</th>\n",
              "      <td>NaN</td>\n",
              "      <td>NaN</td>\n",
              "      <td>NaN</td>\n",
              "      <td>NaN</td>\n",
              "      <td>NaN</td>\n",
              "      <td>NaN</td>\n",
              "      <td>NaN</td>\n",
              "      <td>NaN</td>\n",
              "      <td>NaN</td>\n",
              "      <td>NaN</td>\n",
              "      <td>...</td>\n",
              "      <td>NaN</td>\n",
              "      <td>NaN</td>\n",
              "      <td>Responsible Consumption and Production : We ai...</td>\n",
              "      <td>low</td>\n",
              "      <td>future</td>\n",
              "      <td>NaN</td>\n",
              "      <td>NaN</td>\n",
              "      <td>NaN</td>\n",
              "      <td>NaN</td>\n",
              "      <td>NaN</td>\n",
              "    </tr>\n",
              "    <tr>\n",
              "      <th>13</th>\n",
              "      <td>NaN</td>\n",
              "      <td>NaN</td>\n",
              "      <td>NaN</td>\n",
              "      <td>NaN</td>\n",
              "      <td>NaN</td>\n",
              "      <td>NaN</td>\n",
              "      <td>NaN</td>\n",
              "      <td>NaN</td>\n",
              "      <td>NaN</td>\n",
              "      <td>NaN</td>\n",
              "      <td>...</td>\n",
              "      <td>NaN</td>\n",
              "      <td>NaN</td>\n",
              "      <td>Climate Action : Through our goals we are taki...</td>\n",
              "      <td>low</td>\n",
              "      <td>present</td>\n",
              "      <td>NaN</td>\n",
              "      <td>NaN</td>\n",
              "      <td>NaN</td>\n",
              "      <td>NaN</td>\n",
              "      <td>NaN</td>\n",
              "    </tr>\n",
              "    <tr>\n",
              "      <th>14</th>\n",
              "      <td>6.0</td>\n",
              "      <td>2.0</td>\n",
              "      <td>False</td>\n",
              "      <td>True</td>\n",
              "      <td>False</td>\n",
              "      <td>Improving energy efficiency</td>\n",
              "      <td>False Negative</td>\n",
              "      <td>2020 brought significant new challenges and gl...</td>\n",
              "      <td>Trustworthy Source</td>\n",
              "      <td>Customer goods / shops</td>\n",
              "      <td>...</td>\n",
              "      <td>high</td>\n",
              "      <td>past</td>\n",
              "      <td>NaN</td>\n",
              "      <td>NaN</td>\n",
              "      <td>NaN</td>\n",
              "      <td>The text addresses several Sustainable Develop...</td>\n",
              "      <td>What organization did the company join in 2020...</td>\n",
              "      <td>Forética</td>\n",
              "      <td>GreenPeace</td>\n",
              "      <td>Doctors Without Borders</td>\n",
              "    </tr>\n",
              "    <tr>\n",
              "      <th>15</th>\n",
              "      <td>7.0</td>\n",
              "      <td>2.0</td>\n",
              "      <td>False</td>\n",
              "      <td>False</td>\n",
              "      <td>True</td>\n",
              "      <td>Empowering women for professional development</td>\n",
              "      <td>SDG 5 / Code 232 / training /  Page 132 / Need...</td>\n",
              "      <td>&lt;mark&gt;We are committed to equal opportunity fo...</td>\n",
              "      <td>Trustworthy Source</td>\n",
              "      <td>Autonomous driving</td>\n",
              "      <td>...</td>\n",
              "      <td>high</td>\n",
              "      <td>future</td>\n",
              "      <td>We are committed to equal opportunity for women</td>\n",
              "      <td>high</td>\n",
              "      <td>present</td>\n",
              "      <td>The mentioned text does not explicitly mention...</td>\n",
              "      <td>What initiatives does Daimler employ to promot...</td>\n",
              "      <td>Daimler conducts special leadership workshops ...</td>\n",
              "      <td>Daimler focuses exclusively on recruiting wome...</td>\n",
              "      <td>Daimler organizes \"Boys'Day\" and the \"Genius\" ...</td>\n",
              "    </tr>\n",
              "    <tr>\n",
              "      <th>16</th>\n",
              "      <td>NaN</td>\n",
              "      <td>NaN</td>\n",
              "      <td>NaN</td>\n",
              "      <td>NaN</td>\n",
              "      <td>NaN</td>\n",
              "      <td>NaN</td>\n",
              "      <td>NaN</td>\n",
              "      <td>NaN</td>\n",
              "      <td>NaN</td>\n",
              "      <td>NaN</td>\n",
              "      <td>...</td>\n",
              "      <td>NaN</td>\n",
              "      <td>NaN</td>\n",
              "      <td>With actions such as 'Girls'Day' and the 'Geni...</td>\n",
              "      <td>medium</td>\n",
              "      <td>present</td>\n",
              "      <td>NaN</td>\n",
              "      <td>NaN</td>\n",
              "      <td>NaN</td>\n",
              "      <td>NaN</td>\n",
              "      <td>NaN</td>\n",
              "    </tr>\n",
              "    <tr>\n",
              "      <th>17</th>\n",
              "      <td>NaN</td>\n",
              "      <td>NaN</td>\n",
              "      <td>NaN</td>\n",
              "      <td>NaN</td>\n",
              "      <td>NaN</td>\n",
              "      <td>NaN</td>\n",
              "      <td>NaN</td>\n",
              "      <td>NaN</td>\n",
              "      <td>NaN</td>\n",
              "      <td>NaN</td>\n",
              "      <td>...</td>\n",
              "      <td>NaN</td>\n",
              "      <td>NaN</td>\n",
              "      <td>We also address women as a specific target gro...</td>\n",
              "      <td>high</td>\n",
              "      <td>future</td>\n",
              "      <td>NaN</td>\n",
              "      <td>NaN</td>\n",
              "      <td>NaN</td>\n",
              "      <td>NaN</td>\n",
              "      <td>NaN</td>\n",
              "    </tr>\n",
              "    <tr>\n",
              "      <th>18</th>\n",
              "      <td>NaN</td>\n",
              "      <td>NaN</td>\n",
              "      <td>NaN</td>\n",
              "      <td>NaN</td>\n",
              "      <td>NaN</td>\n",
              "      <td>NaN</td>\n",
              "      <td>NaN</td>\n",
              "      <td>NaN</td>\n",
              "      <td>NaN</td>\n",
              "      <td>NaN</td>\n",
              "      <td>...</td>\n",
              "      <td>NaN</td>\n",
              "      <td>NaN</td>\n",
              "      <td>Exchange is promoted by means of networks spec...</td>\n",
              "      <td>high</td>\n",
              "      <td>present</td>\n",
              "      <td>NaN</td>\n",
              "      <td>NaN</td>\n",
              "      <td>NaN</td>\n",
              "      <td>NaN</td>\n",
              "      <td>NaN</td>\n",
              "    </tr>\n",
              "    <tr>\n",
              "      <th>19</th>\n",
              "      <td>8.0</td>\n",
              "      <td>2.0</td>\n",
              "      <td>False</td>\n",
              "      <td>False</td>\n",
              "      <td>True</td>\n",
              "      <td>ESG Report</td>\n",
              "      <td>Qualif SDG 7 / Code 275 / training / To change...</td>\n",
              "      <td>Velatia has more than fifty years of experienc...</td>\n",
              "      <td>Trustworthy Source</td>\n",
              "      <td>Electrification</td>\n",
              "      <td>...</td>\n",
              "      <td>high</td>\n",
              "      <td>past</td>\n",
              "      <td>NaN</td>\n",
              "      <td>NaN</td>\n",
              "      <td>NaN</td>\n",
              "      <td>The provided text primarily emphasizes SDG 7 (...</td>\n",
              "      <td>Which of the following statements accurately r...</td>\n",
              "      <td>Smart grids and renewable energy are essential...</td>\n",
              "      <td>Velatia primarily focuses on fossil fuel techn...</td>\n",
              "      <td>Ormazabal purchases electricity with a nuclear...</td>\n",
              "    </tr>\n",
              "  </tbody>\n",
              "</table>\n",
              "<p>20 rows × 24 columns</p>\n",
              "</div>"
            ],
            "text/plain": [
              "     id  group isFalsePositive isTrueNegative isQualification  \\\n",
              "0   1.0    2.0           False          False           False   \n",
              "1   NaN    NaN             NaN            NaN             NaN   \n",
              "2   NaN    NaN             NaN            NaN             NaN   \n",
              "3   NaN    NaN             NaN            NaN             NaN   \n",
              "4   NaN    NaN             NaN            NaN             NaN   \n",
              "5   NaN    NaN             NaN            NaN             NaN   \n",
              "6   NaN    NaN             NaN            NaN             NaN   \n",
              "7   2.0    2.0           False          False           False   \n",
              "8   3.0    2.0           False          False           False   \n",
              "9   NaN    NaN             NaN            NaN             NaN   \n",
              "10  4.0    2.0           False          False           False   \n",
              "11  5.0    2.0            True          False           False   \n",
              "12  NaN    NaN             NaN            NaN             NaN   \n",
              "13  NaN    NaN             NaN            NaN             NaN   \n",
              "14  6.0    2.0           False           True           False   \n",
              "15  7.0    2.0           False          False            True   \n",
              "16  NaN    NaN             NaN            NaN             NaN   \n",
              "17  NaN    NaN             NaN            NaN             NaN   \n",
              "18  NaN    NaN             NaN            NaN             NaN   \n",
              "19  8.0    2.0           False          False            True   \n",
              "\n",
              "                                            title  \\\n",
              "0                     Improving energy efficiency   \n",
              "1                                             NaN   \n",
              "2                                             NaN   \n",
              "3                                             NaN   \n",
              "4                                             NaN   \n",
              "5                                             NaN   \n",
              "6                                             NaN   \n",
              "7                     Improving energy efficiency   \n",
              "8                           Electrolux SDG Report   \n",
              "9                                             NaN   \n",
              "10        Better water consumption in agriculture   \n",
              "11                      Sustainability in science   \n",
              "12                                            NaN   \n",
              "13                                            NaN   \n",
              "14                    Improving energy efficiency   \n",
              "15  Empowering women for professional development   \n",
              "16                                            NaN   \n",
              "17                                            NaN   \n",
              "18                                            NaN   \n",
              "19                                     ESG Report   \n",
              "\n",
              "                                             subtitle  \\\n",
              "0   SDG 5 / Code 252, https://www.velatia.com/wp-c...   \n",
              "1                                                 NaN   \n",
              "2                                                 NaN   \n",
              "3                                                 NaN   \n",
              "4                                                 NaN   \n",
              "5                                                 NaN   \n",
              "6                                                 NaN   \n",
              "7                         SDG 7 / code 319 / Danfoss    \n",
              "8                                 SDG 7, Code : 1623    \n",
              "9                                                 NaN   \n",
              "10                               No SDG , Code : 207    \n",
              "11                             False Pos / code 286     \n",
              "12                                                NaN   \n",
              "13                                                NaN   \n",
              "14                                    False Negative    \n",
              "15  SDG 5 / Code 232 / training /  Page 132 / Need...   \n",
              "16                                                NaN   \n",
              "17                                                NaN   \n",
              "18                                                NaN   \n",
              "19  Qualif SDG 7 / Code 275 / training / To change...   \n",
              "\n",
              "                                              content              source  \\\n",
              "0   Despite the progress made in recent decades, <...                 NaN   \n",
              "1                                                 NaN                 NaN   \n",
              "2                                                 NaN                 NaN   \n",
              "3                                                 NaN                 NaN   \n",
              "4                                                 NaN                 NaN   \n",
              "5                                                 NaN                 NaN   \n",
              "6                                                 NaN                 NaN   \n",
              "7   To reach carbon neutrality, energy-efficient t...                 NaN   \n",
              "8   We additionally strive to contribute to other ...          Electrolux   \n",
              "9                                                 NaN                 NaN   \n",
              "10  We help reduce water consumption through the u...                 NaN   \n",
              "11  As planetary health impacts public health, we ...  Trustworthy Source   \n",
              "12                                                NaN                 NaN   \n",
              "13                                                NaN                 NaN   \n",
              "14  2020 brought significant new challenges and gl...  Trustworthy Source   \n",
              "15  <mark>We are committed to equal opportunity fo...  Trustworthy Source   \n",
              "16                                                NaN                 NaN   \n",
              "17                                                NaN                 NaN   \n",
              "18                                                NaN                 NaN   \n",
              "19  Velatia has more than fifty years of experienc...  Trustworthy Source   \n",
              "\n",
              "                           category  ... xaiFeatures/generalFactuality  \\\n",
              "0   Electrical system manufacturers  ...                          high   \n",
              "1                               NaN  ...                           NaN   \n",
              "2                               NaN  ...                           NaN   \n",
              "3                               NaN  ...                           NaN   \n",
              "4                               NaN  ...                           NaN   \n",
              "5                               NaN  ...                           NaN   \n",
              "6                               NaN  ...                           NaN   \n",
              "7            Customer goods / shops  ...                          high   \n",
              "8            Customer goods / shops  ...                           low   \n",
              "9                               NaN  ...                           NaN   \n",
              "10           Customer goods / shops  ...                          high   \n",
              "11           Customer goods / shops  ...                          high   \n",
              "12                              NaN  ...                           NaN   \n",
              "13                              NaN  ...                           NaN   \n",
              "14           Customer goods / shops  ...                          high   \n",
              "15               Autonomous driving  ...                          high   \n",
              "16                              NaN  ...                           NaN   \n",
              "17                              NaN  ...                           NaN   \n",
              "18                              NaN  ...                           NaN   \n",
              "19                  Electrification  ...                          high   \n",
              "\n",
              "   xaiFeatures/generalTense  \\\n",
              "0                   present   \n",
              "1                       NaN   \n",
              "2                       NaN   \n",
              "3                       NaN   \n",
              "4                       NaN   \n",
              "5                       NaN   \n",
              "6                       NaN   \n",
              "7                      past   \n",
              "8                   present   \n",
              "9                       NaN   \n",
              "10                     past   \n",
              "11                     past   \n",
              "12                      NaN   \n",
              "13                      NaN   \n",
              "14                     past   \n",
              "15                   future   \n",
              "16                      NaN   \n",
              "17                      NaN   \n",
              "18                      NaN   \n",
              "19                     past   \n",
              "\n",
              "                  xaiFeatures/highlightedContent/text  \\\n",
              "0   There is still a long way to go on gender equa...   \n",
              "1   firm determination to incorporate a culture of...   \n",
              "2                                   empower its women   \n",
              "3          equality plans initiated in previous years   \n",
              "4   include aspects such as payroll records and wo...   \n",
              "5                         awareness-raising campaigns   \n",
              "6   placing special emphasis on promoting the inco...   \n",
              "7                                                 NaN   \n",
              "8   We have specific focus on gender diversity and...   \n",
              "9   Our social investment projects also often empo...   \n",
              "10                                                NaN   \n",
              "11  Our company purpose - Breakthroughs that chang...   \n",
              "12  Responsible Consumption and Production : We ai...   \n",
              "13  Climate Action : Through our goals we are taki...   \n",
              "14                                                NaN   \n",
              "15    We are committed to equal opportunity for women   \n",
              "16  With actions such as 'Girls'Day' and the 'Geni...   \n",
              "17  We also address women as a specific target gro...   \n",
              "18  Exchange is promoted by means of networks spec...   \n",
              "19                                                NaN   \n",
              "\n",
              "    xaiFeatures/highlightedContent/factuality  \\\n",
              "0                                        high   \n",
              "1                                        high   \n",
              "2                                      medium   \n",
              "3                                        high   \n",
              "4                                        high   \n",
              "5                                      medium   \n",
              "6                                         low   \n",
              "7                                         NaN   \n",
              "8                                      medium   \n",
              "9                                         low   \n",
              "10                                        NaN   \n",
              "11                                       high   \n",
              "12                                        low   \n",
              "13                                        low   \n",
              "14                                        NaN   \n",
              "15                                       high   \n",
              "16                                     medium   \n",
              "17                                       high   \n",
              "18                                       high   \n",
              "19                                        NaN   \n",
              "\n",
              "   xaiFeatures/highlightedContent/tense  \\\n",
              "0                                future   \n",
              "1                                future   \n",
              "2                               present   \n",
              "3                                  past   \n",
              "4                                future   \n",
              "5                                future   \n",
              "6                                future   \n",
              "7                                   NaN   \n",
              "8                               present   \n",
              "9                                future   \n",
              "10                                  NaN   \n",
              "11                              present   \n",
              "12                               future   \n",
              "13                              present   \n",
              "14                                  NaN   \n",
              "15                              present   \n",
              "16                              present   \n",
              "17                               future   \n",
              "18                              present   \n",
              "19                                  NaN   \n",
              "\n",
              "               xaiFeatures/naturalLanguageExplanation  \\\n",
              "0   The text mentions SDG 5 (Gender Equality) by a...   \n",
              "1                                                 NaN   \n",
              "2                                                 NaN   \n",
              "3                                                 NaN   \n",
              "4                                                 NaN   \n",
              "5                                                 NaN   \n",
              "6                                                 NaN   \n",
              "7   The text mentions SDG 7 (Affordable and Clean ...   \n",
              "8   The text mentions SDG 5 (Gender Equality) by s...   \n",
              "9                                                 NaN   \n",
              "10  The text indirectly refers to both SDG 5 (Gend...   \n",
              "11  This text mention SDG 5. It refers to gender e...   \n",
              "12                                                NaN   \n",
              "13                                                NaN   \n",
              "14  The text addresses several Sustainable Develop...   \n",
              "15  The mentioned text does not explicitly mention...   \n",
              "16                                                NaN   \n",
              "17                                                NaN   \n",
              "18                                                NaN   \n",
              "19  The provided text primarily emphasizes SDG 7 (...   \n",
              "\n",
              "                             controlQuestion/question  \\\n",
              "0   What did Velatia complete in 2021 regarding ge...   \n",
              "1                                                 NaN   \n",
              "2                                                 NaN   \n",
              "3                                                 NaN   \n",
              "4                                                 NaN   \n",
              "5                                                 NaN   \n",
              "6                                                 NaN   \n",
              "7   What is a key solution mentioned in the text f...   \n",
              "8   Which of the following statements is true abou...   \n",
              "9                                                 NaN   \n",
              "10  How does the company reduce water consumption ...   \n",
              "11  How does the company's approach to environment...   \n",
              "12                                                NaN   \n",
              "13                                                NaN   \n",
              "14  What organization did the company join in 2020...   \n",
              "15  What initiatives does Daimler employ to promot...   \n",
              "16                                                NaN   \n",
              "17                                                NaN   \n",
              "18                                                NaN   \n",
              "19  Which of the following statements accurately r...   \n",
              "\n",
              "                        controlQuestion/correctAnswer  \\\n",
              "0   Velatia self-diagnosed their performance, incl...   \n",
              "1                                                 NaN   \n",
              "2                                                 NaN   \n",
              "3                                                 NaN   \n",
              "4                                                 NaN   \n",
              "5                                                 NaN   \n",
              "6                                                 NaN   \n",
              "7   Prioritizing electrification in the mobility s...   \n",
              "8   The company promotes gender diversity and work...   \n",
              "9                                                 NaN   \n",
              "10  By utilizing advanced ICT solutions in agricul...   \n",
              "11  By promoting resilient and sustainable infrast...   \n",
              "12                                                NaN   \n",
              "13                                                NaN   \n",
              "14                                           Forética   \n",
              "15  Daimler conducts special leadership workshops ...   \n",
              "16                                                NaN   \n",
              "17                                                NaN   \n",
              "18                                                NaN   \n",
              "19  Smart grids and renewable energy are essential...   \n",
              "\n",
              "                     controlQuestion/wrongAnswers/001  \\\n",
              "0   Velatia fired 100 man to achieve gender equality.   \n",
              "1                                                 NaN   \n",
              "2                                                 NaN   \n",
              "3                                                 NaN   \n",
              "4                                                 NaN   \n",
              "5                                                 NaN   \n",
              "6                                                 NaN   \n",
              "7                 Focusing only on coal energy supply   \n",
              "8   The company only focuses on promoting health a...   \n",
              "9                                                 NaN   \n",
              "10              By increasing the use of fertilizers.   \n",
              "11  By supporting initiatives for gender equality ...   \n",
              "12                                                NaN   \n",
              "13                                                NaN   \n",
              "14                                         GreenPeace   \n",
              "15  Daimler focuses exclusively on recruiting wome...   \n",
              "16                                                NaN   \n",
              "17                                                NaN   \n",
              "18                                                NaN   \n",
              "19  Velatia primarily focuses on fossil fuel techn...   \n",
              "\n",
              "                     controlQuestion/wrongAnswers/002  \n",
              "0   Velatia collaborated with Google to promote ge...  \n",
              "1                                                 NaN  \n",
              "2                                                 NaN  \n",
              "3                                                 NaN  \n",
              "4                                                 NaN  \n",
              "5                                                 NaN  \n",
              "6                                                 NaN  \n",
              "7                                 Using nuclear power  \n",
              "8   The Electrolux Food Foundation and Feed the Pl...  \n",
              "9                                                 NaN  \n",
              "10       By implementing traditional farming methods.  \n",
              "11  By taxing their employee who use too much thei...  \n",
              "12                                                NaN  \n",
              "13                                                NaN  \n",
              "14                            Doctors Without Borders  \n",
              "15  Daimler organizes \"Boys'Day\" and the \"Genius\" ...  \n",
              "16                                                NaN  \n",
              "17                                                NaN  \n",
              "18                                                NaN  \n",
              "19  Ormazabal purchases electricity with a nuclear...  \n",
              "\n",
              "[20 rows x 24 columns]"
            ]
          },
          "execution_count": 6,
          "metadata": {},
          "output_type": "execute_result"
        }
      ],
      "source": [
        "newsitems"
      ]
    },
    {
      "cell_type": "code",
      "execution_count": 7,
      "metadata": {},
      "outputs": [],
      "source": [
        "# only keep the relevant columns\n",
        "newsitems = newsitems[[\"id\",\"isFalsePositive\", \"isTrueNegative\",\n",
        "                       \"title\", \"subtitle\", \"content\",\n",
        "                       \"xaiFeatures/presence\", \"xaiFeatures/concreatness\", \"xaiFeatures/generalFactuality\", \"xaiFeatures/generalTense\", \n",
        "                       \"xaiFeatures/naturalLanguageExplanation\",\n",
        "                       \"isQualification\"]]"
      ]
    },
    {
      "cell_type": "code",
      "execution_count": 8,
      "metadata": {},
      "outputs": [],
      "source": [
        "newsitems = newsitems.dropna(subset=['id'])\n",
        "newsitems = newsitems[0:6]\n",
        "newsitems['id'] = newsitems['id'].astype(int)\n",
        "newsitems['xaiFeatures/concreatness'] = newsitems['xaiFeatures/concreatness'].astype(int)\n",
        "newsitems.index = newsitems['id']"
      ]
    },
    {
      "cell_type": "code",
      "execution_count": 9,
      "metadata": {},
      "outputs": [],
      "source": [
        "newsitems[\"contain_sdg\"] =  [True, False, True, False, False, True]\n",
        "newsitems[\"contain_sdg_pred\"] = newsitems[\"xaiFeatures/presence\"].astype(bool)"
      ]
    },
    {
      "cell_type": "markdown",
      "metadata": {},
      "source": [
        "# Help"
      ]
    },
    {
      "cell_type": "code",
      "execution_count": 10,
      "metadata": {},
      "outputs": [],
      "source": [
        "# underlines p-values in a dataframe that are smaller than alpha\n",
        "def highlight(data, highlight_any=False, alpha=0.05):\n",
        "    columns = [\"p-val\", \"p-unc\", \"p-corr\", \"p\", \"pval\"]\n",
        "\n",
        "    if highlight_any:\n",
        "        columns = data.columns\n",
        "        \n",
        "    return data.style.apply(lambda x: [\"text-decoration: underline\" if isinstance(v, (int, float)) and v < alpha and c in columns else \"\" for c, v in zip(x.index, x)], axis=1)"
      ]
    },
    {
      "cell_type": "code",
      "execution_count": 11,
      "metadata": {},
      "outputs": [],
      "source": [
        "def cohen_d(d1, d2):\n",
        " # calculate the size of samples\n",
        " n1, n2 = len(d1), len(d2)\n",
        " # calculate the variance of the samples\n",
        " s1, s2 = np.var(d1, ddof=1), np.var(d2, ddof=1)\n",
        " # calculate the pooled standard deviation\n",
        " s = np.sqrt(((n1 - 1) * s1 + (n2 - 1) * s2) / (n1 + n2 - 2))\n",
        " # calculate the means of the samples\n",
        " u1, u2 = np.mean(d1), np.mean(d2)\n",
        " # calculate the effect size\n",
        " return (u1 - u2) / s"
      ]
    },
    {
      "cell_type": "code",
      "execution_count": 12,
      "metadata": {},
      "outputs": [],
      "source": [
        "\n",
        "\n",
        "from itertools import combinations\n",
        "\n",
        "def perform_kruskal_with_posthoc(df, dv, between=\"FEATURE\", print_results=True, between_values_order=None):\n",
        "    kruskal_test = pg.kruskal(df, dv=dv, between=between, detailed=True)\n",
        "    kruskal_pval = kruskal_test[\"p-unc\"].values[0]\n",
        "\n",
        "    dunn = sp.posthoc_dunn(df, val_col=dv, group_col=between, p_adjust=\"holm\")\n",
        "\n",
        "    values = df[between].unique() if not between_values_order else between_values_order\n",
        "    pairs = list(combinations(values, 2))\n",
        "\n",
        "    posthoc = pd.DataFrame(columns=[\"A\", \"B\", \"p-corr\", \"cohen\"])\n",
        "\n",
        "    # create a dataframe for the posthoc results\n",
        "    for pair in pairs:\n",
        "        posthoc = posthoc.append(\n",
        "            {\n",
        "                \"A\": pair[0],\n",
        "                \"B\": pair[1],\n",
        "                \"p-corr\": dunn.loc[pair[0], pair[1]],\n",
        "                \"cohen\": cohen_d(df[df[between] == pair[0]][dv], df[df[between] == pair[1]][dv]),\n",
        "            },\n",
        "            ignore_index=True,\n",
        "        )\n",
        "\n",
        "    if print_results:\n",
        "        print(\"Column name:\", dv)\n",
        "        print(\"kruskal_pval\", kruskal_pval, \"\\n\")\n",
        "        print(posthoc, \"\\n\")\n",
        "        print(df.groupby(between)[dv].describe()[[\"mean\", \"std\"]], \"\\n\")\n",
        "\n",
        "    return kruskal_test, posthoc, df.groupby(between)[dv].describe()[[\"count\", \"mean\", \"std\"]]\n",
        "\n"
      ]
    },
    {
      "attachments": {},
      "cell_type": "markdown",
      "metadata": {},
      "source": [
        "## Demographics"
      ]
    },
    {
      "cell_type": "code",
      "execution_count": 13,
      "metadata": {},
      "outputs": [
        {
          "name": "stderr",
          "output_type": "stream",
          "text": [
            "/home/azralite/.local/lib/python3.10/site-packages/outdated/utils.py:14: OutdatedPackageWarning: The package pingouin is out of date. Your version is 0.5.3, the latest is 0.5.4.\n",
            "Set the environment variable OUTDATED_IGNORE=1 to disable these warnings.\n",
            "  return warn(\n"
          ]
        },
        {
          "data": {
            "text/plain": [
              "['demographics.age',\n",
              " 'demographics.country',\n",
              " 'demographics.education',\n",
              " 'demographics.employment',\n",
              " 'demographics.gender',\n",
              " 'demographics.income',\n",
              " 'demographics.nationality']"
            ]
          },
          "execution_count": 13,
          "metadata": {},
          "output_type": "execute_result"
        }
      ],
      "source": [
        "# get columns which start with \"demographics\"\n",
        "demographics_cols = [col for col in df.columns if col.startswith('demographics')]\n",
        "demographics_cols\n",
        "# country and nationality are not relevant and hard to use as it was an open ended question"
      ]
    },
    {
      "cell_type": "code",
      "execution_count": 14,
      "metadata": {},
      "outputs": [
        {
          "data": {
            "text/plain": [
              "0      30-39\n",
              "1      21-29\n",
              "2      30-39\n",
              "3      50-59\n",
              "4      50-59\n",
              "       ...  \n",
              "155    50-59\n",
              "156    18-20\n",
              "157    50-59\n",
              "158    30-39\n",
              "159    21-29\n",
              "Name: demographics.age, Length: 160, dtype: object"
            ]
          },
          "execution_count": 14,
          "metadata": {},
          "output_type": "execute_result"
        }
      ],
      "source": [
        "df[\"demographics.age\"]"
      ]
    },
    {
      "cell_type": "code",
      "execution_count": 15,
      "metadata": {},
      "outputs": [
        {
          "data": {
            "text/plain": [
              "18-20           3.125\n",
              "21-29          20.625\n",
              "30-39          43.125\n",
              "40-49          20.625\n",
              "50-59          11.875\n",
              "60-or-older     0.625\n",
              "Name: demographics.age, dtype: float64"
            ]
          },
          "execution_count": 15,
          "metadata": {},
          "output_type": "execute_result"
        }
      ],
      "source": [
        "# Print the age of the participants (in 100%)\n",
        "df[\"demographics.age\"].value_counts(normalize=True).sort_index() * 100"
      ]
    },
    {
      "cell_type": "code",
      "execution_count": 16,
      "metadata": {},
      "outputs": [
        {
          "data": {
            "text/plain": [
              "Text(0, 0.5, 'Number of participants')"
            ]
          },
          "execution_count": 16,
          "metadata": {},
          "output_type": "execute_result"
        },
        {
          "data": {
            "image/png": "[encoded data removed]",
            "text/plain": [
              "<Figure size 640x480 with 1 Axes>"
            ]
          },
          "metadata": {},
          "output_type": "display_data"
        }
      ],
      "source": [
        "# Plot the users ages\n",
        "\n",
        "ax = df[\"demographics.age\"].value_counts().sort_index().plot(kind='bar')\n",
        "ax.set_xlabel('Age of the users')\n",
        "ax.set_ylabel('Number of participants')"
      ]
    },
    {
      "cell_type": "code",
      "execution_count": 17,
      "metadata": {},
      "outputs": [
        {
          "data": {
            "text/plain": [
              "university         57.500\n",
              "high-school        36.250\n",
              "secondary           4.375\n",
              "no-degree           1.250\n",
              "upper-secondary     0.625\n",
              "Name: demographics.education, dtype: float64"
            ]
          },
          "execution_count": 17,
          "metadata": {},
          "output_type": "execute_result"
        }
      ],
      "source": [
        "df[\"demographics.education\"].value_counts(normalize=True) * 100\n",
        "# university degree is the most common education level, this is surprising"
      ]
    },
    {
      "cell_type": "code",
      "execution_count": 18,
      "metadata": {},
      "outputs": [
        {
          "data": {
            "text/plain": [
              "Text(0, 0.5, 'Number of participants')"
            ]
          },
          "execution_count": 18,
          "metadata": {},
          "output_type": "execute_result"
        },
        {
          "data": {
            "image/png": "[encoded data removed]",
            "text/plain": [
              "<Figure size 640x480 with 1 Axes>"
            ]
          },
          "metadata": {},
          "output_type": "display_data"
        }
      ],
      "source": [
        "# Plot the users education\n",
        "\n",
        "df_tmp = df[\"demographics.education\"].value_counts()\n",
        "df_tmp = df_tmp.iloc[[3,2,4,1,0]]\n",
        "ax = df_tmp.plot(kind='bar')\n",
        "ax.set_xlabel('Level of education of the users')\n",
        "ax.set_ylabel('Number of participants')"
      ]
    },
    {
      "cell_type": "code",
      "execution_count": 19,
      "metadata": {},
      "outputs": [
        {
          "data": {
            "text/plain": [
              "salaried-employee    36.875\n",
              "self-employed        28.750\n",
              "student              14.375\n",
              "unemployed           11.250\n",
              "other                 6.875\n",
              "civil-servant         1.250\n",
              "retiree-pensioner     0.625\n",
              "Name: demographics.employment, dtype: float64"
            ]
          },
          "execution_count": 19,
          "metadata": {},
          "output_type": "execute_result"
        }
      ],
      "source": [
        "df[\"demographics.employment\"].value_counts(normalize=True) * 100"
      ]
    },
    {
      "cell_type": "code",
      "execution_count": 20,
      "metadata": {},
      "outputs": [
        {
          "data": {
            "text/plain": [
              "Text(0, 0.5, 'Number of participants')"
            ]
          },
          "execution_count": 20,
          "metadata": {},
          "output_type": "execute_result"
        },
        {
          "data": {
            "image/png": "[encoded data removed]",
            "text/plain": [
              "<Figure size 640x480 with 1 Axes>"
            ]
          },
          "metadata": {},
          "output_type": "display_data"
        }
      ],
      "source": [
        "# Plot the users employement\n",
        "\n",
        "ax = df[\"demographics.employment\"].value_counts().plot(kind='bar')\n",
        "\n",
        "ax.set_xlabel('Employment of the users')\n",
        "ax.set_ylabel('Number of participants')"
      ]
    },
    {
      "cell_type": "code",
      "execution_count": 21,
      "metadata": {},
      "outputs": [
        {
          "name": "stdout",
          "output_type": "stream",
          "text": [
            "less-than-20000-usd 16.875\n",
            "20000-34999-usd 20.0\n",
            "35000-49999-usd 16.25\n",
            "50000-74999-usd 20.0\n",
            "75000-99999-usd 5.625\n",
            "over-100000-usd 12.5\n",
            "no-answer 8.75\n"
          ]
        }
      ],
      "source": [
        "income_vc = df[\"demographics.income\"].value_counts(normalize=True) \n",
        "\n",
        "print(\"less-than-20000-usd\", income_vc[\"less-than-20000-usd\"] * 100)\n",
        "print(\"20000-34999-usd\", income_vc[\"20000-34999-usd\"] * 100)\n",
        "print(\"35000-49999-usd\", income_vc[\"35000-49999-usd\"] * 100)\n",
        "print(\"50000-74999-usd\", income_vc[\"50000-74999-usd\"] * 100)\n",
        "print(\"75000-99999-usd\", income_vc[\"75000-99999-usd\"] * 100)\n",
        "print(\"over-100000-usd\", income_vc[\"over-100000-usd\"] * 100)\n",
        "print(\"no-answer\", income_vc[\"no-answer\"] * 100)"
      ]
    },
    {
      "cell_type": "code",
      "execution_count": 22,
      "metadata": {},
      "outputs": [
        {
          "data": {
            "text/plain": [
              "Text(0, 0.5, 'Number of participants')"
            ]
          },
          "execution_count": 22,
          "metadata": {},
          "output_type": "execute_result"
        },
        {
          "data": {
            "image/png": "[encoded data removed]",
            "text/plain": [
              "<Figure size 640x480 with 1 Axes>"
            ]
          },
          "metadata": {},
          "output_type": "display_data"
        }
      ],
      "source": [
        "# Plot the users income\n",
        "\n",
        "ax = df[\"demographics.income\"].value_counts().iloc[[5,2,1,3,0,6,4]].plot(kind='bar')\n",
        "\n",
        "ax.set_xlabel('Income of the users')\n",
        "ax.set_ylabel('Number of participants')"
      ]
    },
    {
      "cell_type": "code",
      "execution_count": 23,
      "metadata": {},
      "outputs": [
        {
          "data": {
            "text/plain": [
              "female     65.625\n",
              "male       31.875\n",
              "diverse     2.500\n",
              "Name: demographics.gender, dtype: float64"
            ]
          },
          "execution_count": 23,
          "metadata": {},
          "output_type": "execute_result"
        }
      ],
      "source": [
        "df[\"demographics.gender\"].value_counts(normalize=True) * 100"
      ]
    },
    {
      "cell_type": "code",
      "execution_count": 24,
      "metadata": {},
      "outputs": [
        {
          "data": {
            "text/plain": [
              "Text(0, 0.5, 'Number of participants')"
            ]
          },
          "execution_count": 24,
          "metadata": {},
          "output_type": "execute_result"
        },
        {
          "data": {
            "image/png": "[encoded data removed]",
            "text/plain": [
              "<Figure size 640x480 with 1 Axes>"
            ]
          },
          "metadata": {},
          "output_type": "display_data"
        }
      ],
      "source": [
        "# Plot the users income\n",
        "\n",
        "ax = df[\"demographics.gender\"].value_counts().plot(kind='bar')\n",
        "\n",
        "ax.set_xlabel('Gender of the users')\n",
        "ax.set_ylabel('Number of participants')"
      ]
    },
    {
      "cell_type": "code",
      "execution_count": 25,
      "metadata": {},
      "outputs": [
        {
          "name": "stdout",
          "output_type": "stream",
          "text": [
            "\\begin{longtable}{llrr}\n",
            "\\caption{Demographic Data}\n",
            "\\label{tab:demographics}\\\\\n",
            "\\toprule\n",
            "demographic attribute &                               value &  count &  percentage \\\\\n",
            "\\midrule\n",
            "\\endfirsthead\n",
            "\\caption[]{Demographic Data} \\\\\n",
            "\\toprule\n",
            "demographic attribute &                               value &  count &  percentage \\\\\n",
            "\\midrule\n",
            "\\endhead\n",
            "\\midrule\n",
            "\\multicolumn{4}{r}{{Continued on next page}} \\\\\n",
            "\\midrule\n",
            "\\endfoot\n",
            "\n",
            "\\bottomrule\n",
            "\\endlastfoot\n",
            "               Gender &                              Female &    105 &       65.62 \\\\\n",
            "                      &                                Male &     51 &       31.87 \\\\\n",
            "                      &                             Diverse &      4 &        2.50 \\\\\n",
            "                  Age &                               18-20 &      5 &        3.12 \\\\\n",
            "                      &                               21-29 &     33 &       20.62 \\\\\n",
            "                      &                               30-39 &     69 &       43.12 \\\\\n",
            "                      &                               40-49 &     33 &       20.62 \\\\\n",
            "                      &                               50-59 &     19 &       11.88 \\\\\n",
            "                      &                         60 or older &      1 &        0.62 \\\\\n",
            "            Education &                           No degree &      2 &        1.25 \\\\\n",
            "                      & Secondary/elementary school diploma &      7 &        4.38 \\\\\n",
            "                      &              Upper secondary school &      1 &        0.62 \\\\\n",
            "                      &                 High school diploma &     58 &       36.25 \\\\\n",
            "                      &                   University degree &     92 &       57.50 \\\\\n",
            "           Employment &                   Salaried employee &     59 &       36.88 \\\\\n",
            "                      &                       Self-employed &     46 &       28.75 \\\\\n",
            "                      &                             Student &     23 &       14.37 \\\\\n",
            "                      &                          Unemployed &     18 &       11.25 \\\\\n",
            "                      &                               Other &     11 &        6.88 \\\\\n",
            "                      &                       Civil servant &      2 &        1.25 \\\\\n",
            "                      &                 Retiree / pensioner &      1 &        0.62 \\\\\n",
            "               Income &             I do not want to answer &     14 &        8.75 \\\\\n",
            "                      &                  Less than \\$20.000 &     27 &       16.88 \\\\\n",
            "                      &                 \\$20.000 - \\$34.999 &     32 &       20.00 \\\\\n",
            "                      &                 \\$35.000 - \\$49.999 &     26 &       16.25 \\\\\n",
            "                      &                 \\$50.000 - \\$74.999 &     32 &       20.00 \\\\\n",
            "                      &                 \\$75.000 - \\$99.999 &      9 &        5.62 \\\\\n",
            "                      &                      Over \\$100.000 &     20 &       12.50 \\\\\n",
            "\\end{longtable}\n",
            "\n"
          ]
        },
        {
          "name": "stderr",
          "output_type": "stream",
          "text": [
            "/tmp/ipykernel_6659/2229104263.py:59: FutureWarning: In future versions `DataFrame.to_latex` is expected to utilise the base implementation of `Styler.to_latex` for formatting and rendering. The arguments signature may therefore change. It is recommended instead to use `DataFrame.style.to_latex` which also contains additional functionality.\n",
            "  print(demographics_table.to_latex(index=False, escape=False, na_rep=\"\", float_format=\"%.2f\", longtable=True, caption=\"Demographic Data\", label=\"tab:demographics\"))\n"
          ]
        }
      ],
      "source": [
        "demographics_table = pd.DataFrame(columns=[\"demographic attribute\", \"value\", \"count\", \"percentage\"])\n",
        "\n",
        "def add_attribute(column_name, attr_name, value_map=None):\n",
        "    order = None\n",
        "    if value_map is None or len(value_map) != len(df[column_name].value_counts()):\n",
        "        order = df[column_name].value_counts().index\n",
        "    else:\n",
        "        order = value_map.keys()\n",
        "\n",
        "    for i, value in enumerate(order):\n",
        "        count = df[column_name].value_counts()[value]\n",
        "        percentage = count / len(df) * 100\n",
        "\n",
        "        if value_map is not None and value in value_map:\n",
        "            value = value_map[value]\n",
        "\n",
        "        demographics_table.loc[len(demographics_table)] = [attr_name if i == 0 else np.nan, value, count, percentage]\n",
        "\n",
        "add_attribute(\"demographics.gender\", \"Gender\", value_map={\n",
        "     \"female\": \"Female\", \n",
        "     \"male\": \"Male\", \n",
        "     \"diverse\": \"Diverse\"\n",
        "})\n",
        "add_attribute(\"demographics.age\", \"Age\", value_map={\n",
        "    \"18-20\": \"18-20\",\n",
        "    \"21-29\": \"21-29\",\n",
        "    \"30-39\": \"30-39\",\n",
        "    \"40-49\": \"40-49\",\n",
        "    \"50-59\": \"50-59\",\n",
        "    \"60-or-older\": \"60 or older\"\n",
        "})\n",
        "add_attribute(\"demographics.education\", \"Education\", value_map={\n",
        "    \"no-degree\": \"No degree\",\n",
        "    \"secondary\": \"Secondary/elementary school diploma\",\n",
        "    \"upper-secondary\": \"Upper secondary school\",\n",
        "    \"high-school\": \"High school diploma\",\n",
        "    \"university\": \"University degree\",\n",
        "})\n",
        "add_attribute(\"demographics.employment\", \"Employment\", value_map={\n",
        "    \"apprentice\": \"Apprentice\",\n",
        "    \"student\": \"Student\",\n",
        "    \"salaried-employee\": \"Salaried employee\",\n",
        "    \"self-employed\": \"Self-employed\",\n",
        "    \"civil-servant\": \"Civil servant\",\n",
        "    \"retiree-pensioner\": \"Retiree / pensioner\",\n",
        "    \"unemployed\": \"Unemployed\",\n",
        "    \"other\": \"Other\",\n",
        "})\n",
        "add_attribute(\"demographics.income\", \"Income\", value_map={\n",
        "    \"no-answer\": \"I do not want to answer\",\n",
        "    \"less-than-20000-usd\": \"Less than \\$20.000\",\n",
        "    \"20000-34999-usd\": \"\\$20.000 - \\$34.999\",\n",
        "    \"35000-49999-usd\": \"\\$35.000 - \\$49.999\",\n",
        "    \"50000-74999-usd\": \"\\$50.000 - \\$74.999\",\n",
        "    \"75000-99999-usd\": \"\\$75.000 - \\$99.999\",\n",
        "    \"over-100000-usd\": \"Over \\$100.000\",\n",
        "})\n",
        "\n",
        "print(demographics_table.to_latex(index=False, escape=False, na_rep=\"\", float_format=\"%.2f\", longtable=True, caption=\"Demographic Data\", label=\"tab:demographics\"))"
      ]
    },
    {
      "cell_type": "markdown",
      "metadata": {},
      "source": [
        "# Points"
      ]
    },
    {
      "cell_type": "code",
      "execution_count": 26,
      "metadata": {},
      "outputs": [
        {
          "data": {
            "text/html": [
              "<div>\n",
              "<style scoped>\n",
              "    .dataframe tbody tr th:only-of-type {\n",
              "        vertical-align: middle;\n",
              "    }\n",
              "\n",
              "    .dataframe tbody tr th {\n",
              "        vertical-align: top;\n",
              "    }\n",
              "\n",
              "    .dataframe thead th {\n",
              "        text-align: right;\n",
              "    }\n",
              "</style>\n",
              "<table border=\"1\" class=\"dataframe\">\n",
              "  <thead>\n",
              "    <tr style=\"text-align: right;\">\n",
              "      <th></th>\n",
              "      <th>POINTS</th>\n",
              "    </tr>\n",
              "    <tr>\n",
              "      <th>FEATURE</th>\n",
              "      <th></th>\n",
              "    </tr>\n",
              "  </thead>\n",
              "  <tbody>\n",
              "    <tr>\n",
              "      <th>basic</th>\n",
              "      <td>51</td>\n",
              "    </tr>\n",
              "    <tr>\n",
              "      <th>explanations</th>\n",
              "      <td>56</td>\n",
              "    </tr>\n",
              "    <tr>\n",
              "      <th>salient</th>\n",
              "      <td>53</td>\n",
              "    </tr>\n",
              "  </tbody>\n",
              "</table>\n",
              "</div>"
            ],
            "text/plain": [
              "              POINTS\n",
              "FEATURE             \n",
              "basic             51\n",
              "explanations      56\n",
              "salient           53"
            ]
          },
          "execution_count": 26,
          "metadata": {},
          "output_type": "execute_result"
        }
      ],
      "source": [
        "df.groupby(\"FEATURE\").count()[\"POINTS\"].to_frame()"
      ]
    },
    {
      "cell_type": "markdown",
      "metadata": {},
      "source": [
        "# Time to complete the experiment"
      ]
    },
    {
      "cell_type": "code",
      "execution_count": 27,
      "metadata": {},
      "outputs": [
        {
          "data": {
            "text/plain": [
              "count    160.000000\n",
              "mean      16.234583\n",
              "std       11.515590\n",
              "min        1.333333\n",
              "25%        9.650000\n",
              "50%       13.575000\n",
              "75%       18.887500\n",
              "max       73.700000\n",
              "Name: METADATA.workDurationInMinutes.qualification, dtype: float64"
            ]
          },
          "execution_count": 27,
          "metadata": {},
          "output_type": "execute_result"
        }
      ],
      "source": [
        "df[\"METADATA.workDurationInMinutes.qualification\"] = df[\"METADATA.workDurationInSeconds.qualification\"] / 60\n",
        "df[\"METADATA.workDurationInMinutes.main\"] = df[\"METADATA.workDurationInSeconds.main\"] / 60\n",
        "df[\"METADATA.workDurationInMinutes.qualification\"].describe()"
      ]
    },
    {
      "cell_type": "code",
      "execution_count": 28,
      "metadata": {},
      "outputs": [
        {
          "data": {
            "text/plain": [
              "count    160.000000\n",
              "mean      21.526771\n",
              "std       12.923891\n",
              "min        2.966667\n",
              "25%       13.625000\n",
              "50%       18.850000\n",
              "75%       26.141667\n",
              "max       83.633333\n",
              "Name: METADATA.workDurationInMinutes.main, dtype: float64"
            ]
          },
          "execution_count": 28,
          "metadata": {},
          "output_type": "execute_result"
        }
      ],
      "source": [
        "df[\"METADATA.workDurationInMinutes.main\"].describe()"
      ]
    },
    {
      "attachments": {},
      "cell_type": "markdown",
      "metadata": {},
      "source": [
        "# Performance"
      ]
    },
    {
      "attachments": {},
      "cell_type": "markdown",
      "metadata": {},
      "source": [
        "### AI vs Human vs Human-AI\n",
        "\n",
        "How does the AI system perform compared to humans and the combination of humans and AI? \n",
        "\n",
        "The task is to judge whether a report containt SDG or not, thus this is a binary classification problem. -1 = no SDG 0-100 = SDG\n",
        "\n",
        "The metrics for the AI are calculated over the 8 news items. Metrics are calculated for each participant separately over the presented news items (e.g. a participant correctly judged 6 out of 8 news items, thus the accuracy for the participant is 6/8 = 0.75). Human-AI performance is measured after presenting the AI rating to the participants, this is also calculated for each participant separately."
      ]
    },
    {
      "attachments": {},
      "cell_type": "markdown",
      "metadata": {},
      "source": [
        "#### Human vs Human-AI\n",
        "\n",
        "We use a Wilcoxon signed-rank test to determine if there is a significant difference in participants' performance before and after seeing the AI scores (and explanations)."
      ]
    },
    {
      "cell_type": "markdown",
      "metadata": {},
      "source": [
        "## Human vs AI vs Human-AI"
      ]
    },
    {
      "cell_type": "code",
      "execution_count": 29,
      "metadata": {},
      "outputs": [
        {
          "data": {
            "text/html": [
              "<div>\n",
              "<style scoped>\n",
              "    .dataframe tbody tr th:only-of-type {\n",
              "        vertical-align: middle;\n",
              "    }\n",
              "\n",
              "    .dataframe tbody tr th {\n",
              "        vertical-align: top;\n",
              "    }\n",
              "\n",
              "    .dataframe thead th {\n",
              "        text-align: right;\n",
              "    }\n",
              "</style>\n",
              "<table border=\"1\" class=\"dataframe\">\n",
              "  <thead>\n",
              "    <tr style=\"text-align: right;\">\n",
              "      <th></th>\n",
              "      <th>accuracy</th>\n",
              "      <th>f1</th>\n",
              "    </tr>\n",
              "  </thead>\n",
              "  <tbody>\n",
              "    <tr>\n",
              "      <th>0</th>\n",
              "      <td>0.666667</td>\n",
              "      <td>0.666667</td>\n",
              "    </tr>\n",
              "  </tbody>\n",
              "</table>\n",
              "</div>"
            ],
            "text/plain": [
              "   accuracy        f1\n",
              "0  0.666667  0.666667"
            ]
          },
          "execution_count": 29,
          "metadata": {},
          "output_type": "execute_result"
        }
      ],
      "source": [
        "from sklearn.metrics import accuracy_score,  f1_score\n",
        "\n",
        "ai_accuracy = accuracy_score(newsitems[\"contain_sdg\"], newsitems[\"contain_sdg_pred\"] )\n",
        "ai_f1 = f1_score(newsitems[\"contain_sdg\"], newsitems[\"contain_sdg_pred\"])\n",
        "\n",
        "\n",
        "ai_performance_df = pd.DataFrame({\n",
        "  \"accuracy\": [ai_accuracy],\n",
        "  \"f1\": [ai_f1],\n",
        "})\n",
        "\n",
        "ai_performance_df"
      ]
    },
    {
      "cell_type": "code",
      "execution_count": 30,
      "metadata": {},
      "outputs": [],
      "source": [
        "\n",
        "\n",
        "def calculate_human_metrics(row):\n",
        "    y_true = newsitems[\"contain_sdg\"]\n",
        "    y_pred_human = []\n",
        "    y_pred_human_ai = []\n",
        "\n",
        "    for i in y_true.index:\n",
        "        y_pred_human.append(row[f\"newsitem.{i}.rating-before-xai\"] != -1)\n",
        "        y_pred_human_ai.append(row[f\"newsitem.{i}.rating-after-xai\"] != -1 )\n",
        "\n",
        "\n",
        "    for i, _id in enumerate(y_true.index):\n",
        "        # will be used later for comparing news items\n",
        "        row[f\"newsitem.{_id}.rating-before-correct\"] = y_true[_id] == y_pred_human[i]\n",
        "        row[f\"newsitem.{_id}.rating-after-correct\"] = y_true[_id] == y_pred_human_ai[i]\n",
        "\n",
        "    human_accuracy = accuracy_score(y_true, y_pred_human)\n",
        "    human_f1 = f1_score(y_true, y_pred_human)\n",
        "\n",
        "\n",
        "    human_ai_accuracy = accuracy_score(y_true, y_pred_human_ai)\n",
        "    human_ai_f1 = f1_score(y_true, y_pred_human_ai)\n",
        "\n",
        "\n",
        "    row[\"human_accuracy\"] = human_accuracy\n",
        "    row[\"human_f1\"] = human_f1\n",
        "\n",
        "\n",
        "    row[\"human_ai_accuracy\"] = human_ai_accuracy\n",
        "    row[\"human_ai_f1\"] = human_ai_f1\n",
        "\n",
        "\n",
        "    return row\n",
        "\n",
        "df = df.apply(calculate_human_metrics, axis=1)\n",
        "\n"
      ]
    },
    {
      "cell_type": "code",
      "execution_count": 31,
      "metadata": {},
      "outputs": [],
      "source": [
        "# show mean human scores, mean human_ai scores and ai scores in one dataframe\n",
        "human_scores = df[[\n",
        "    \"human_accuracy\", \n",
        "    \"human_f1\", \n",
        "]].copy()\n",
        "\n",
        "human_ai_scores = df[[\n",
        "    \"human_ai_accuracy\", \n",
        "    \"human_ai_f1\", \n",
        "]].copy()\n",
        "\n",
        "human_scores = human_scores.rename(columns=lambda x: x.replace(\"human_\", \"\"))\n",
        "human_ai_scores = human_ai_scores.rename(columns=lambda x: x.replace(\"human_ai_\", \"\"))\n",
        "\n",
        "human_scores = human_scores.mean()\n",
        "human_ai_scores = human_ai_scores.mean()"
      ]
    },
    {
      "cell_type": "code",
      "execution_count": 32,
      "metadata": {},
      "outputs": [
        {
          "data": {
            "text/html": [
              "<div>\n",
              "<style scoped>\n",
              "    .dataframe tbody tr th:only-of-type {\n",
              "        vertical-align: middle;\n",
              "    }\n",
              "\n",
              "    .dataframe tbody tr th {\n",
              "        vertical-align: top;\n",
              "    }\n",
              "\n",
              "    .dataframe thead th {\n",
              "        text-align: right;\n",
              "    }\n",
              "</style>\n",
              "<table border=\"1\" class=\"dataframe\">\n",
              "  <thead>\n",
              "    <tr style=\"text-align: right;\">\n",
              "      <th></th>\n",
              "      <th>AI</th>\n",
              "      <th>Human (mean)</th>\n",
              "      <th>Human-AI (mean)</th>\n",
              "    </tr>\n",
              "  </thead>\n",
              "  <tbody>\n",
              "    <tr>\n",
              "      <th>Accuracy</th>\n",
              "      <td>0.666667</td>\n",
              "      <td>0.853125</td>\n",
              "      <td>0.829167</td>\n",
              "    </tr>\n",
              "    <tr>\n",
              "      <th>F1 score</th>\n",
              "      <td>0.666667</td>\n",
              "      <td>0.839554</td>\n",
              "      <td>0.816815</td>\n",
              "    </tr>\n",
              "  </tbody>\n",
              "</table>\n",
              "</div>"
            ],
            "text/plain": [
              "                AI  Human (mean)  Human-AI (mean)\n",
              "Accuracy  0.666667      0.853125         0.829167\n",
              "F1 score  0.666667      0.839554         0.816815"
            ]
          },
          "execution_count": 32,
          "metadata": {},
          "output_type": "execute_result"
        }
      ],
      "source": [
        "\n",
        "\n",
        "scores_df = pd.DataFrame({\n",
        "  \"AI\": ai_performance_df.iloc[0],\n",
        "  \"Human (mean)\": human_scores,\n",
        "  \"Human-AI (mean)\": human_ai_scores,\n",
        "})\n",
        "\n",
        "scores_df = scores_df.rename(index={\n",
        "    \"accuracy\": \"Accuracy\",\n",
        "    \"f1\": \"F1 score\",\n",
        "})\n",
        "\n",
        "\n",
        "scores_df\n",
        "\n"
      ]
    },
    {
      "cell_type": "code",
      "execution_count": 33,
      "metadata": {},
      "outputs": [],
      "source": [
        "df[\"ai_accuracy\"] = ai_accuracy"
      ]
    },
    {
      "cell_type": "code",
      "execution_count": 34,
      "metadata": {},
      "outputs": [],
      "source": [
        "\n",
        "\n",
        "# create a new dataframe with human_accuracy, human_ai_accuracy and ai_accuracy\n",
        "accuracy_df = df[[\"human_accuracy\", \"human_ai_accuracy\", \"ai_accuracy\"]].copy()\n",
        "\n",
        "# transform the dataframe to a long format\n",
        "accuracy_df = pd.melt(\n",
        "  accuracy_df.reset_index(),\n",
        "  id_vars=[\"index\"],\n",
        "  value_vars=[\"human_accuracy\", \"human_ai_accuracy\", \"ai_accuracy\"]\n",
        ")\n",
        "\n",
        "# rename the columns\n",
        "accuracy_df = accuracy_df.rename(columns={\n",
        "  \"variable\": \"system\",\n",
        "  \"value\": \"accuracy\"\n",
        "})\n",
        "\n"
      ]
    },
    {
      "cell_type": "code",
      "execution_count": 35,
      "metadata": {},
      "outputs": [
        {
          "name": "stderr",
          "output_type": "stream",
          "text": [
            "/tmp/ipykernel_6659/3294298351.py:16: FutureWarning: The frame.append method is deprecated and will be removed from pandas in a future version. Use pandas.concat instead.\n",
            "  posthoc = posthoc.append(\n",
            "/tmp/ipykernel_6659/3294298351.py:16: FutureWarning: The frame.append method is deprecated and will be removed from pandas in a future version. Use pandas.concat instead.\n",
            "  posthoc = posthoc.append(\n",
            "/tmp/ipykernel_6659/3294298351.py:16: FutureWarning: The frame.append method is deprecated and will be removed from pandas in a future version. Use pandas.concat instead.\n",
            "  posthoc = posthoc.append(\n"
          ]
        }
      ],
      "source": [
        "\n",
        "\n",
        "kruskal, posthoc, stats = perform_kruskal_with_posthoc(accuracy_df, \n",
        "    dv='accuracy', \n",
        "    between='system', \n",
        "    print_results=False, \n",
        "    between_values_order=[\"human_accuracy\", \"ai_accuracy\", \"human_ai_accuracy\"])\n",
        "\n"
      ]
    },
    {
      "cell_type": "code",
      "execution_count": 36,
      "metadata": {},
      "outputs": [],
      "source": [
        "def format_posthoc(pairwise, caption, label, between_col_mapping, column_a_name=\"System A\", column_b_name=\"System B\"):\n",
        "    pairwise_latex = pairwise.copy()\n",
        "\n",
        "    # replace \"ai_accuracy\" with \"AI\", \"human_accuracy\" with \"Human\" and \"human_ai_accuracy\" with \"Human-AI\"\n",
        "    pairwise_latex[\"A\"] = pairwise_latex[\"A\"].apply(lambda x: between_col_mapping[x])\n",
        "    pairwise_latex[\"B\"] = pairwise_latex[\"B\"].apply(lambda x: between_col_mapping[x])\n",
        "\n",
        "    pairwise_latex = pairwise_latex.rename(columns={\n",
        "        \"A\": column_a_name,\n",
        "        \"B\": column_b_name,\n",
        "        \"p-corr\": \"$p$\",\n",
        "        \"cohen\": \"Cohen's $d$\"\n",
        "    })\n",
        "\n",
        "    # if p < 0.01, replace p with \"<.01\"\n",
        "    pairwise_latex[\"$p$\"] = pairwise_latex[\"$p$\"].apply(lambda x: \"$<.01$\" if x < 0.01 else f\"${x:.2f}$\".replace('0.','.'))\n",
        "\n",
        "    caption = caption + \" \" + \"($p$-values corrected with the Holm-Bonferroni method)\"\n",
        "\n",
        "    print(pairwise_latex.to_latex(\n",
        "        index=False, \n",
        "        escape=False, \n",
        "        na_rep=\"\", \n",
        "        float_format=\"%.2f\", \n",
        "        column_format=\"llrr\",\n",
        "        caption=caption, \n",
        "        label=f\"tab:{label}\"))"
      ]
    },
    {
      "cell_type": "code",
      "execution_count": 37,
      "metadata": {},
      "outputs": [
        {
          "data": {
            "text/html": [
              "<style type=\"text/css\">\n",
              "#T_876ba_row0_col2, #T_876ba_row2_col2 {\n",
              "  text-decoration: underline;\n",
              "}\n",
              "</style>\n",
              "<table id=\"T_876ba\">\n",
              "  <thead>\n",
              "    <tr>\n",
              "      <th class=\"blank level0\" >&nbsp;</th>\n",
              "      <th id=\"T_876ba_level0_col0\" class=\"col_heading level0 col0\" >A</th>\n",
              "      <th id=\"T_876ba_level0_col1\" class=\"col_heading level0 col1\" >B</th>\n",
              "      <th id=\"T_876ba_level0_col2\" class=\"col_heading level0 col2\" >p-corr</th>\n",
              "      <th id=\"T_876ba_level0_col3\" class=\"col_heading level0 col3\" >cohen</th>\n",
              "    </tr>\n",
              "  </thead>\n",
              "  <tbody>\n",
              "    <tr>\n",
              "      <th id=\"T_876ba_level0_row0\" class=\"row_heading level0 row0\" >0</th>\n",
              "      <td id=\"T_876ba_row0_col0\" class=\"data row0 col0\" >human_accuracy</td>\n",
              "      <td id=\"T_876ba_row0_col1\" class=\"data row0 col1\" >ai_accuracy</td>\n",
              "      <td id=\"T_876ba_row0_col2\" class=\"data row0 col2\" >0.000000</td>\n",
              "      <td id=\"T_876ba_row0_col3\" class=\"data row0 col3\" >1.245078</td>\n",
              "    </tr>\n",
              "    <tr>\n",
              "      <th id=\"T_876ba_level0_row1\" class=\"row_heading level0 row1\" >1</th>\n",
              "      <td id=\"T_876ba_row1_col0\" class=\"data row1 col0\" >human_accuracy</td>\n",
              "      <td id=\"T_876ba_row1_col1\" class=\"data row1 col1\" >human_ai_accuracy</td>\n",
              "      <td id=\"T_876ba_row1_col2\" class=\"data row1 col2\" >0.109795</td>\n",
              "      <td id=\"T_876ba_row1_col3\" class=\"data row1 col3\" >0.119959</td>\n",
              "    </tr>\n",
              "    <tr>\n",
              "      <th id=\"T_876ba_level0_row2\" class=\"row_heading level0 row2\" >2</th>\n",
              "      <td id=\"T_876ba_row2_col0\" class=\"data row2 col0\" >ai_accuracy</td>\n",
              "      <td id=\"T_876ba_row2_col1\" class=\"data row2 col1\" >human_ai_accuracy</td>\n",
              "      <td id=\"T_876ba_row2_col2\" class=\"data row2 col2\" >0.000000</td>\n",
              "      <td id=\"T_876ba_row2_col3\" class=\"data row2 col3\" >-1.229736</td>\n",
              "    </tr>\n",
              "  </tbody>\n",
              "</table>\n"
            ],
            "text/plain": [
              "<pandas.io.formats.style.Styler at 0x7f1f68efd240>"
            ]
          },
          "execution_count": 37,
          "metadata": {},
          "output_type": "execute_result"
        }
      ],
      "source": [
        "highlight(posthoc)"
      ]
    },
    {
      "cell_type": "code",
      "execution_count": 38,
      "metadata": {},
      "outputs": [
        {
          "name": "stdout",
          "output_type": "stream",
          "text": [
            "\\begin{table}\n",
            "\\centering\n",
            "\\caption{Pairwise comparisons of the accuracy using Dunn's tests ($p$-values corrected with the Holm-Bonferroni method)}\n",
            "\\label{tab:accuracy_pairwise}\n",
            "\\begin{tabular}{llrr}\n",
            "\\toprule\n",
            "System A & System B &    $p$ &  Cohen's $d$ \\\\\n",
            "\\midrule\n",
            "   Human &       AI & $<.01$ &         1.25 \\\\\n",
            "   Human & Human-AI &  $.11$ &         0.12 \\\\\n",
            "      AI & Human-AI & $<.01$ &        -1.23 \\\\\n",
            "\\bottomrule\n",
            "\\end{tabular}\n",
            "\\end{table}\n",
            "\n"
          ]
        },
        {
          "name": "stderr",
          "output_type": "stream",
          "text": [
            "/tmp/ipykernel_6659/2306177806.py:20: FutureWarning: In future versions `DataFrame.to_latex` is expected to utilise the base implementation of `Styler.to_latex` for formatting and rendering. The arguments signature may therefore change. It is recommended instead to use `DataFrame.style.to_latex` which also contains additional functionality.\n",
            "  print(pairwise_latex.to_latex(\n"
          ]
        }
      ],
      "source": [
        "\n",
        "\n",
        "format_posthoc(posthoc,\n",
        "  caption=\"Pairwise comparisons of the accuracy using Dunn's tests\",\n",
        "  label='accuracy_pairwise',\n",
        "  between_col_mapping={\n",
        "    'ai_accuracy': 'AI',\n",
        "    'human_accuracy': 'Human',\n",
        "    'human_ai_accuracy': 'Human-AI'\n",
        "  })\n",
        "\n"
      ]
    },
    {
      "cell_type": "code",
      "execution_count": 39,
      "metadata": {},
      "outputs": [
        {
          "name": "stderr",
          "output_type": "stream",
          "text": [
            "/tmp/ipykernel_6659/3294298351.py:16: FutureWarning: The frame.append method is deprecated and will be removed from pandas in a future version. Use pandas.concat instead.\n",
            "  posthoc = posthoc.append(\n",
            "/tmp/ipykernel_6659/3294298351.py:16: FutureWarning: The frame.append method is deprecated and will be removed from pandas in a future version. Use pandas.concat instead.\n",
            "  posthoc = posthoc.append(\n",
            "/tmp/ipykernel_6659/3294298351.py:16: FutureWarning: The frame.append method is deprecated and will be removed from pandas in a future version. Use pandas.concat instead.\n",
            "  posthoc = posthoc.append(\n"
          ]
        },
        {
          "data": {
            "text/html": [
              "<style type=\"text/css\">\n",
              "#T_6331a_row0_col3 {\n",
              "  text-decoration: underline;\n",
              "}\n",
              "</style>\n",
              "<table id=\"T_6331a\">\n",
              "  <thead>\n",
              "    <tr>\n",
              "      <th class=\"blank level0\" >&nbsp;</th>\n",
              "      <th id=\"T_6331a_level0_col0\" class=\"col_heading level0 col0\" >Source</th>\n",
              "      <th id=\"T_6331a_level0_col1\" class=\"col_heading level0 col1\" >ddof1</th>\n",
              "      <th id=\"T_6331a_level0_col2\" class=\"col_heading level0 col2\" >H</th>\n",
              "      <th id=\"T_6331a_level0_col3\" class=\"col_heading level0 col3\" >p-unc</th>\n",
              "    </tr>\n",
              "  </thead>\n",
              "  <tbody>\n",
              "    <tr>\n",
              "      <th id=\"T_6331a_level0_row0\" class=\"row_heading level0 row0\" >Kruskal</th>\n",
              "      <td id=\"T_6331a_row0_col0\" class=\"data row0 col0\" >system</td>\n",
              "      <td id=\"T_6331a_row0_col1\" class=\"data row0 col1\" >2</td>\n",
              "      <td id=\"T_6331a_row0_col2\" class=\"data row0 col2\" >129.020665</td>\n",
              "      <td id=\"T_6331a_row0_col3\" class=\"data row0 col3\" >0.000000</td>\n",
              "    </tr>\n",
              "  </tbody>\n",
              "</table>\n"
            ],
            "text/plain": [
              "<pandas.io.formats.style.Styler at 0x7f1f68ddb7c0>"
            ]
          },
          "execution_count": 39,
          "metadata": {},
          "output_type": "execute_result"
        }
      ],
      "source": [
        "\n",
        "\n",
        "kruskal, posthoc, stats = perform_kruskal_with_posthoc(accuracy_df, \n",
        "    dv='accuracy', \n",
        "    between='system', \n",
        "    print_results=False, \n",
        "    between_values_order=[\"human_accuracy\", \"ai_accuracy\", \"human_ai_accuracy\"])\n",
        "\n",
        "highlight(kruskal)"
      ]
    },
    {
      "cell_type": "code",
      "execution_count": 40,
      "metadata": {},
      "outputs": [
        {
          "name": "stdout",
          "output_type": "stream",
          "text": [
            "p-value annotation legend:\n",
            "      ns: 5.00e-02 < p <= 1.00e+00\n",
            "       *: 1.00e-02 < p <= 5.00e-02\n",
            "      **: 1.00e-03 < p <= 1.00e-02\n",
            "     ***: 1.00e-04 < p <= 1.00e-03\n",
            "    ****: p <= 1.00e-04\n",
            "\n",
            "ai_accuracy vs. human_accuracy: Custom statistical test, P_val:1.722e-25\n",
            "human_accuracy vs. human_ai_accuracy: Custom statistical test, P_val:1.098e-01\n",
            "ai_accuracy vs. human_ai_accuracy: Custom statistical test, P_val:7.825e-19\n"
          ]
        },
        {
          "data": {
            "image/png": "[encoded data removed]",
            "text/plain": [
              "<Figure size 640x480 with 1 Axes>"
            ]
          },
          "metadata": {},
          "output_type": "display_data"
        }
      ],
      "source": [
        "from itertools import combinations\n",
        "from statannotations.Annotator import Annotator\n",
        "\n",
        "values = [\"ai_accuracy\", \"human_accuracy\", \"human_ai_accuracy\"]\n",
        "pairs = list(combinations(values, 2))\n",
        "\n",
        "plot_params = {\n",
        "  \"x\": \"system\",\n",
        "  \"y\": \"accuracy\",\n",
        "  \"data\": accuracy_df,\n",
        "  \"palette\": \"Blues\",\n",
        "  \"order\": values,\n",
        "}\n",
        "\n",
        "with sns.plotting_context('notebook'):\n",
        "    ax = sns.boxplot()\n",
        "\n",
        "    sns.boxplot(**plot_params).set(xlabel='System', ylabel='Accuracy over all newsitems')\n",
        "\n",
        "    ax.set_ylim([0, 1])\n",
        "    ax.set_xticklabels([\"AI\", \"Before AI\", \"After AI\"])\n",
        "\n",
        "    p_values = []\n",
        "    for pair in pairs:\n",
        "        p_val = posthoc[(\n",
        "            (posthoc[\"A\"] == pair[0]) & (posthoc[\"B\"] == pair[1]) | \n",
        "            (posthoc[\"B\"] == pair[0]) & (posthoc[\"A\"] == pair[1]))][\"p-corr\"]\n",
        "\n",
        "        p_values.append(p_val.values[0])\n",
        "\n",
        "    # Add annotations\n",
        "    annotator = Annotator(ax, pairs, **plot_params)\n",
        "    annotator.set_pvalues_and_annotate(p_values,)\n",
        "\n",
        "    plt.show()"
      ]
    },
    {
      "cell_type": "code",
      "execution_count": 41,
      "metadata": {},
      "outputs": [
        {
          "name": "stderr",
          "output_type": "stream",
          "text": [
            "/tmp/ipykernel_6659/3294298351.py:16: FutureWarning: The frame.append method is deprecated and will be removed from pandas in a future version. Use pandas.concat instead.\n",
            "  posthoc = posthoc.append(\n",
            "/tmp/ipykernel_6659/3294298351.py:16: FutureWarning: The frame.append method is deprecated and will be removed from pandas in a future version. Use pandas.concat instead.\n",
            "  posthoc = posthoc.append(\n",
            "/tmp/ipykernel_6659/3294298351.py:16: FutureWarning: The frame.append method is deprecated and will be removed from pandas in a future version. Use pandas.concat instead.\n",
            "  posthoc = posthoc.append(\n"
          ]
        },
        {
          "data": {
            "text/html": [
              "<style type=\"text/css\">\n",
              "</style>\n",
              "<table id=\"T_8d76b\">\n",
              "  <thead>\n",
              "    <tr>\n",
              "      <th class=\"blank level0\" >&nbsp;</th>\n",
              "      <th id=\"T_8d76b_level0_col0\" class=\"col_heading level0 col0\" >Source</th>\n",
              "      <th id=\"T_8d76b_level0_col1\" class=\"col_heading level0 col1\" >ddof1</th>\n",
              "      <th id=\"T_8d76b_level0_col2\" class=\"col_heading level0 col2\" >H</th>\n",
              "      <th id=\"T_8d76b_level0_col3\" class=\"col_heading level0 col3\" >p-unc</th>\n",
              "    </tr>\n",
              "  </thead>\n",
              "  <tbody>\n",
              "    <tr>\n",
              "      <th id=\"T_8d76b_level0_row0\" class=\"row_heading level0 row0\" >Kruskal</th>\n",
              "      <td id=\"T_8d76b_row0_col0\" class=\"data row0 col0\" >FEATURE</td>\n",
              "      <td id=\"T_8d76b_row0_col1\" class=\"data row0 col1\" >2</td>\n",
              "      <td id=\"T_8d76b_row0_col2\" class=\"data row0 col2\" >1.974434</td>\n",
              "      <td id=\"T_8d76b_row0_col3\" class=\"data row0 col3\" >0.372612</td>\n",
              "    </tr>\n",
              "  </tbody>\n",
              "</table>\n"
            ],
            "text/plain": [
              "<pandas.io.formats.style.Styler at 0x7f1f68e0f0d0>"
            ]
          },
          "execution_count": 41,
          "metadata": {},
          "output_type": "execute_result"
        }
      ],
      "source": [
        "\n",
        "\n",
        "kruskal, pairwise, stats = perform_kruskal_with_posthoc(df, \"human_accuracy\", print_results=False);\n",
        "\n",
        "highlight(kruskal)                                                                                                                                                                                                                                                                  "
      ]
    },
    {
      "cell_type": "code",
      "execution_count": 42,
      "metadata": {},
      "outputs": [
        {
          "name": "stderr",
          "output_type": "stream",
          "text": [
            "/tmp/ipykernel_6659/3294298351.py:16: FutureWarning: The frame.append method is deprecated and will be removed from pandas in a future version. Use pandas.concat instead.\n",
            "  posthoc = posthoc.append(\n",
            "/tmp/ipykernel_6659/3294298351.py:16: FutureWarning: The frame.append method is deprecated and will be removed from pandas in a future version. Use pandas.concat instead.\n",
            "  posthoc = posthoc.append(\n",
            "/tmp/ipykernel_6659/3294298351.py:16: FutureWarning: The frame.append method is deprecated and will be removed from pandas in a future version. Use pandas.concat instead.\n",
            "  posthoc = posthoc.append(\n"
          ]
        },
        {
          "data": {
            "text/html": [
              "<style type=\"text/css\">\n",
              "</style>\n",
              "<table id=\"T_6e5a4\">\n",
              "  <thead>\n",
              "    <tr>\n",
              "      <th class=\"blank level0\" >&nbsp;</th>\n",
              "      <th id=\"T_6e5a4_level0_col0\" class=\"col_heading level0 col0\" >Source</th>\n",
              "      <th id=\"T_6e5a4_level0_col1\" class=\"col_heading level0 col1\" >ddof1</th>\n",
              "      <th id=\"T_6e5a4_level0_col2\" class=\"col_heading level0 col2\" >H</th>\n",
              "      <th id=\"T_6e5a4_level0_col3\" class=\"col_heading level0 col3\" >p-unc</th>\n",
              "    </tr>\n",
              "  </thead>\n",
              "  <tbody>\n",
              "    <tr>\n",
              "      <th id=\"T_6e5a4_level0_row0\" class=\"row_heading level0 row0\" >Kruskal</th>\n",
              "      <td id=\"T_6e5a4_row0_col0\" class=\"data row0 col0\" >FEATURE</td>\n",
              "      <td id=\"T_6e5a4_row0_col1\" class=\"data row0 col1\" >2</td>\n",
              "      <td id=\"T_6e5a4_row0_col2\" class=\"data row0 col2\" >3.002377</td>\n",
              "      <td id=\"T_6e5a4_row0_col3\" class=\"data row0 col3\" >0.222865</td>\n",
              "    </tr>\n",
              "  </tbody>\n",
              "</table>\n"
            ],
            "text/plain": [
              "<pandas.io.formats.style.Styler at 0x7f1f68efc850>"
            ]
          },
          "execution_count": 42,
          "metadata": {},
          "output_type": "execute_result"
        }
      ],
      "source": [
        "\n",
        "kruskal, pairwise, stats = perform_kruskal_with_posthoc(df, \"human_ai_accuracy\", print_results=False);\n",
        "\n",
        "highlight(kruskal)                            "
      ]
    },
    {
      "cell_type": "code",
      "execution_count": 43,
      "metadata": {},
      "outputs": [
        {
          "data": {
            "text/html": [
              "<style type=\"text/css\">\n",
              "#T_37e53_row0_col2 {\n",
              "  text-decoration: underline;\n",
              "}\n",
              "</style>\n",
              "<table id=\"T_37e53\">\n",
              "  <thead>\n",
              "    <tr>\n",
              "      <th class=\"blank level0\" >&nbsp;</th>\n",
              "      <th id=\"T_37e53_level0_col0\" class=\"col_heading level0 col0\" >W-val</th>\n",
              "      <th id=\"T_37e53_level0_col1\" class=\"col_heading level0 col1\" >alternative</th>\n",
              "      <th id=\"T_37e53_level0_col2\" class=\"col_heading level0 col2\" >p-val</th>\n",
              "      <th id=\"T_37e53_level0_col3\" class=\"col_heading level0 col3\" >RBC</th>\n",
              "      <th id=\"T_37e53_level0_col4\" class=\"col_heading level0 col4\" >CLES</th>\n",
              "    </tr>\n",
              "  </thead>\n",
              "  <tbody>\n",
              "    <tr>\n",
              "      <th id=\"T_37e53_level0_row0\" class=\"row_heading level0 row0\" >Wilcoxon</th>\n",
              "      <td id=\"T_37e53_row0_col0\" class=\"data row0 col0\" >616.000000</td>\n",
              "      <td id=\"T_37e53_row0_col1\" class=\"data row0 col1\" >two-sided</td>\n",
              "      <td id=\"T_37e53_row0_col2\" class=\"data row0 col2\" >0.009753</td>\n",
              "      <td id=\"T_37e53_row0_col3\" class=\"data row0 col3\" >0.369176</td>\n",
              "      <td id=\"T_37e53_row0_col4\" class=\"data row0 col4\" >0.555547</td>\n",
              "    </tr>\n",
              "  </tbody>\n",
              "</table>\n"
            ],
            "text/plain": [
              "<pandas.io.formats.style.Styler at 0x7f1f68e0e6e0>"
            ]
          },
          "execution_count": 43,
          "metadata": {},
          "output_type": "execute_result"
        }
      ],
      "source": [
        "\n",
        "\n",
        "wilcoxon = pg.wilcoxon(df[\"human_accuracy\"], df[\"human_ai_accuracy\"])\n",
        "highlight(wilcoxon)"
      ]
    },
    {
      "cell_type": "code",
      "execution_count": 44,
      "metadata": {},
      "outputs": [
        {
          "name": "stderr",
          "output_type": "stream",
          "text": [
            "/home/azralite/.local/lib/python3.10/site-packages/scipy/stats/_morestats.py:3351: UserWarning: Sample size too small for normal approximation.\n",
            "  warnings.warn(\"Sample size too small for normal approximation.\")\n"
          ]
        },
        {
          "name": "stdout",
          "output_type": "stream",
          "text": [
            "Question 1\n",
            "All users WilcoxonResult(statistic=15.0, pvalue=0.31731050786291415)\n",
            "Basic WilcoxonResult(statistic=0.0, pvalue=0.31731050786291415)\n",
            "Salient WilcoxonResult(statistic=2.5, pvalue=0.31731050786291415)\n",
            "Explantaton WilcoxonResult(statistic=5.0, pvalue=1.0)\n",
            "\n",
            "\n",
            "Question 2\n",
            "All users WilcoxonResult(statistic=6.5, pvalue=0.003892417122778628)\n",
            "Basic WilcoxonResult(statistic=0.0, pvalue=0.025347318677468252)\n",
            "Salient WilcoxonResult(statistic=0.0, pvalue=0.025347318677468252)\n",
            "Explantaton WilcoxonResult(statistic=1.5, pvalue=1.0)\n",
            "\n",
            "\n",
            "Question 3\n",
            "All users WilcoxonResult(statistic=28.5, pvalue=0.0046777349810472576)\n",
            "Basic WilcoxonResult(statistic=0.0, pvalue=0.04550026389635839)\n",
            "Salient WilcoxonResult(statistic=3.0, pvalue=0.17971249487899976)\n",
            "Explantaton WilcoxonResult(statistic=10.0, pvalue=0.0955807045456294)\n",
            "\n",
            "\n",
            "Question 4\n",
            "All users WilcoxonResult(statistic=51.0, pvalue=0.31731050786291415)\n",
            "Basic WilcoxonResult(statistic=0.0, pvalue=0.025347318677468252)\n",
            "Salient WilcoxonResult(statistic=2.5, pvalue=0.31731050786291415)\n",
            "Explantaton WilcoxonResult(statistic=8.0, pvalue=0.25683925795785656)\n",
            "\n",
            "\n",
            "Question 5\n",
            "All users WilcoxonResult(statistic=51.0, pvalue=2.6003831259784736e-06)\n",
            "Basic WilcoxonResult(statistic=0.0, pvalue=0.001565402258002548)\n",
            "Salient WilcoxonResult(statistic=6.0, pvalue=0.006655605482949377)\n",
            "Explantaton WilcoxonResult(statistic=13.0, pvalue=0.020921335337794014)\n",
            "\n",
            "\n",
            "Question 6\n",
            "All users WilcoxonResult(statistic=114.0, pvalue=3.957024992345264e-05)\n",
            "Basic WilcoxonResult(statistic=5.0, pvalue=0.019630657257290667)\n",
            "Salient WilcoxonResult(statistic=7.5, pvalue=0.0013406411172294783)\n",
            "Explantaton WilcoxonResult(statistic=30.0, pvalue=0.10880943004054568)\n",
            "\n",
            "\n"
          ]
        }
      ],
      "source": [
        "# We compare if there is a difference between before and after\n",
        "# A difference would be if at one point a user said yes and at an other no\n",
        "\n",
        "for i in range(1,7):\n",
        "    df[f\"newsitem.{i}.contain_before\"] = df[f\"newsitem.{i}.rating-before-xai\"] != -1\n",
        "    df[f\"newsitem.{i}.contain_after\"] = df[f\"newsitem.{i}.rating-after-xai\"] != -1\n",
        "\n",
        "    df[f\"newsitem.{i}.contain_before\"] = list(map(lambda elt: -1 if elt else 1, df[f\"newsitem.{i}.contain_before\"] ))\n",
        "    df[f\"newsitem.{i}.contain_after\"] = list(map(lambda elt: -1 if elt else 1, df[f\"newsitem.{i}.contain_after\"] ))\n",
        "\n",
        "\n",
        "basic = df[df[\"FEATURE\"] == 'basic']\n",
        "salient = df[df[\"FEATURE\"] == 'salient']\n",
        "explanations = df[df[\"FEATURE\"] == 'explanations']\n",
        "\n",
        "for i in range(1,7):\n",
        "    print(f\"Question {i}\")\n",
        "    print(f'All users', scipy.stats.wilcoxon(df[f\"newsitem.{i}.contain_before\"], df[f\"newsitem.{i}.contain_after\"]))\n",
        "    print(f'Basic', scipy.stats.wilcoxon(basic[f\"newsitem.{i}.contain_before\"], basic[f\"newsitem.{i}.contain_after\"]))\n",
        "    print(f'Salient', scipy.stats.wilcoxon(salient[f\"newsitem.{i}.contain_before\"], salient[f\"newsitem.{i}.contain_after\"]))\n",
        "    print(f'Explantaton', scipy.stats.wilcoxon(explanations[f\"newsitem.{i}.contain_before\"], explanations[f\"newsitem.{i}.contain_after\"]))\n",
        "    print('\\n')\n",
        "\n",
        "\n"
      ]
    },
    {
      "cell_type": "code",
      "execution_count": 45,
      "metadata": {},
      "outputs": [
        {
          "name": "stdout",
          "output_type": "stream",
          "text": [
            "Question 1 : Before KruskalResult(statistic=4.3150027134140885, pvalue=0.11561363767823152)\n",
            "Question 1 : After KruskalResult(statistic=3.543865136048357, pvalue=0.17000412661439282)\n",
            "\n",
            "\n",
            "Question 2 : Before KruskalResult(statistic=0.24897017630580293, pvalue=0.8829514277049061)\n",
            "Question 2 : After KruskalResult(statistic=3.7111447318651796, pvalue=0.15636341996283348)\n",
            "\n",
            "\n",
            "Question 3 : Before KruskalResult(statistic=0.8566573295983353, pvalue=0.6515972225316493)\n",
            "Question 3 : After KruskalResult(statistic=1.968308202401597, pvalue=0.37375525237422647)\n",
            "\n",
            "\n",
            "Question 4 : Before KruskalResult(statistic=1.483719090391552, pvalue=0.47622752502860166)\n",
            "Question 4 : After KruskalResult(statistic=9.138727427729894, pvalue=0.010364552440976267)\n",
            "\n",
            "\n",
            "Question 5 : Before KruskalResult(statistic=0.2511456936389373, pvalue=0.8819915118103282)\n",
            "Question 5 : After KruskalResult(statistic=0.9277793995396689, pvalue=0.6288329110568294)\n",
            "\n",
            "\n",
            "Question 6 : Before KruskalResult(statistic=2.283340890891298, pvalue=0.31928522754910454)\n",
            "Question 6 : After KruskalResult(statistic=3.935988426671266, pvalue=0.13973685763518423)\n",
            "\n",
            "\n"
          ]
        }
      ],
      "source": [
        "for i in range(1,7):\n",
        "    print(f\"Question {i} : Before\", scipy.stats.kruskal(basic[f\"newsitem.{i}.contain_before\"], salient[f\"newsitem.{i}.contain_before\"], explanations[f\"newsitem.{i}.contain_before\"]) )\n",
        "    print(f\"Question {i} : After\", scipy.stats.kruskal(basic[f\"newsitem.{i}.contain_after\"], salient[f\"newsitem.{i}.contain_after\"], explanations[f\"newsitem.{i}.contain_after\"]) )\n",
        "    print('\\n')"
      ]
    },
    {
      "cell_type": "markdown",
      "metadata": {},
      "source": [
        "## Comparaison of survey post-task between groups"
      ]
    },
    {
      "cell_type": "code",
      "execution_count": 46,
      "metadata": {},
      "outputs": [],
      "source": [
        "sys_eval_1 = [col for col in df.columns if col.startswith('newsitem.1.system-evaluation')]\n",
        "sys_eval_2 = [col for col in df.columns if col.startswith('newsitem.2.system-evaluation')]\n",
        "sys_eval_3 = [col for col in df.columns if col.startswith('newsitem.3.system-evaluation')]\n",
        "sys_eval_4 = [col for col in df.columns if col.startswith('newsitem.4.system-evaluation')]\n",
        "sys_eval_5 = [col for col in df.columns if col.startswith('newsitem.5.system-evaluation')]\n",
        "sys_eval_6 = [col for col in df.columns if col.startswith('newsitem.6.system-evaluation')]\n",
        "sys_eval_7 = [col for col in df.columns if col.startswith('newsitem.7.system-evaluation')]\n",
        "sys_eval_8 = [col for col in df.columns if col.startswith('newsitem.8.system-evaluation')]"
      ]
    },
    {
      "cell_type": "code",
      "execution_count": 47,
      "metadata": {},
      "outputs": [
        {
          "data": {
            "text/plain": [
              "5.428125"
            ]
          },
          "execution_count": 47,
          "metadata": {},
          "output_type": "execute_result"
        }
      ],
      "source": [
        "tst_avg1 = np.average([df[sys_eval_1[0]],df[sys_eval_2[0]],df[sys_eval_3[0]],df[sys_eval_4[0]],df[sys_eval_5[0]],df[sys_eval_6[0]]])\n",
        "tst_avg1"
      ]
    },
    {
      "cell_type": "code",
      "execution_count": 48,
      "metadata": {},
      "outputs": [
        {
          "data": {
            "text/plain": [
              "6.2421875"
            ]
          },
          "execution_count": 48,
          "metadata": {},
          "output_type": "execute_result"
        }
      ],
      "source": [
        "tst_avg2 = np.average([df[sys_eval_1[0]],df[sys_eval_2[0]],df[sys_eval_3[0]],df[sys_eval_4[0]]])\n",
        "tst_avg3 = np.average([df[sys_eval_5[0]],df[sys_eval_6[0]]])\n",
        "tst_avg2"
      ]
    },
    {
      "cell_type": "code",
      "execution_count": 49,
      "metadata": {},
      "outputs": [],
      "source": [
        "all_true_1 = np.average([df[sys_eval_1[0]],df[sys_eval_2[0]],df[sys_eval_3[0]],df[sys_eval_4[0]]])\n",
        "all_true_2 = np.average([df[sys_eval_1[1]],df[sys_eval_2[1]],df[sys_eval_3[1]],df[sys_eval_4[1]]])\n",
        "all_true_3 = np.average([df[sys_eval_1[2]],df[sys_eval_2[2]],df[sys_eval_3[2]],df[sys_eval_4[2]]])\n",
        "all_true_4 = np.average([df[sys_eval_1[3]],df[sys_eval_2[3]],df[sys_eval_3[3]],df[sys_eval_4[3]]])\n",
        "all_true_5 = np.average([df[sys_eval_1[4]],df[sys_eval_2[4]],df[sys_eval_3[4]],df[sys_eval_4[4]]])\n",
        "all_true_6 = np.average([df[sys_eval_1[5]],df[sys_eval_2[5]],df[sys_eval_3[5]],df[sys_eval_4[5]]])\n",
        "\n",
        "basic_true_1 = np.average([basic[sys_eval_1[0]],basic[sys_eval_2[0]],basic[sys_eval_3[0]],basic[sys_eval_4[0]]])\n",
        "basic_true_2 = np.average([basic[sys_eval_1[1]],basic[sys_eval_2[1]],basic[sys_eval_3[1]],basic[sys_eval_4[1]]])\n",
        "basic_true_3 = np.average([basic[sys_eval_1[2]],basic[sys_eval_2[2]],basic[sys_eval_3[2]],basic[sys_eval_4[2]]])\n",
        "basic_true_4 = np.average([basic[sys_eval_1[3]],basic[sys_eval_2[3]],basic[sys_eval_3[3]],basic[sys_eval_4[3]]])\n",
        "basic_true_5 = np.average([basic[sys_eval_1[4]],basic[sys_eval_2[4]],basic[sys_eval_3[4]],basic[sys_eval_4[4]]])\n",
        "basic_true_6 = np.average([basic[sys_eval_1[5]],basic[sys_eval_2[5]],basic[sys_eval_3[5]],basic[sys_eval_4[5]]])\n",
        "\n",
        "salient_true_1 = np.average([salient[sys_eval_1[0]],salient[sys_eval_2[0]],salient[sys_eval_3[0]],salient[sys_eval_4[0]]])\n",
        "salient_true_2 = np.average([salient[sys_eval_1[1]],salient[sys_eval_2[1]],salient[sys_eval_3[1]],salient[sys_eval_4[1]]])\n",
        "salient_true_3 = np.average([salient[sys_eval_1[2]],salient[sys_eval_2[2]],salient[sys_eval_3[2]],salient[sys_eval_4[2]]])\n",
        "salient_true_4 = np.average([salient[sys_eval_1[3]],salient[sys_eval_2[3]],salient[sys_eval_3[3]],salient[sys_eval_4[3]]])\n",
        "salient_true_5 = np.average([salient[sys_eval_1[4]],salient[sys_eval_2[4]],salient[sys_eval_3[4]],salient[sys_eval_4[4]]])\n",
        "salient_true_6 = np.average([salient[sys_eval_1[5]],salient[sys_eval_2[5]],salient[sys_eval_3[5]],salient[sys_eval_4[5]]])\n",
        "\n",
        "exp_true_1 = np.average([explanations[sys_eval_1[0]],explanations[sys_eval_2[0]],explanations[sys_eval_3[0]],explanations[sys_eval_4[0]]])\n",
        "exp_true_2 = np.average([explanations[sys_eval_1[1]],explanations[sys_eval_2[1]],explanations[sys_eval_3[1]],explanations[sys_eval_4[1]]])\n",
        "exp_true_3 = np.average([explanations[sys_eval_1[2]],explanations[sys_eval_2[2]],explanations[sys_eval_3[2]],explanations[sys_eval_4[2]]])\n",
        "exp_true_4 = np.average([explanations[sys_eval_1[3]],explanations[sys_eval_2[3]],explanations[sys_eval_3[3]],explanations[sys_eval_4[3]]])\n",
        "exp_true_5 = np.average([explanations[sys_eval_1[4]],explanations[sys_eval_2[4]],explanations[sys_eval_3[4]],explanations[sys_eval_4[4]]])\n",
        "exp_true_6 = np.average([explanations[sys_eval_1[5]],explanations[sys_eval_2[5]],explanations[sys_eval_3[5]],explanations[sys_eval_4[5]]])"
      ]
    },
    {
      "cell_type": "code",
      "execution_count": 50,
      "metadata": {},
      "outputs": [],
      "source": [
        "all_false_1 = np.average([df[sys_eval_5[0]],df[sys_eval_6[0]]])\n",
        "all_false_2 = np.average([df[sys_eval_5[1]],df[sys_eval_6[1]]])\n",
        "all_false_3 = np.average([df[sys_eval_5[2]],df[sys_eval_6[2]]])\n",
        "all_false_4 = np.average([df[sys_eval_5[3]],df[sys_eval_6[3]]])\n",
        "all_false_5 = np.average([df[sys_eval_5[4]],df[sys_eval_6[4]]])\n",
        "all_false_6 = np.average([df[sys_eval_5[5]],df[sys_eval_6[5]]])\n",
        "\n",
        "basic_false_1 = np.average([basic[sys_eval_5[0]],basic[sys_eval_6[0]]])\n",
        "basic_false_2 = np.average([basic[sys_eval_5[1]],basic[sys_eval_6[1]]])\n",
        "basic_false_3 = np.average([basic[sys_eval_5[2]],basic[sys_eval_6[2]]])\n",
        "basic_false_4 = np.average([basic[sys_eval_5[3]],basic[sys_eval_6[3]]])\n",
        "basic_false_5 = np.average([basic[sys_eval_5[4]],basic[sys_eval_6[4]]])\n",
        "basic_false_6 = np.average([basic[sys_eval_5[5]],basic[sys_eval_6[5]]])\n",
        "\n",
        "salient_false_1 = np.average([salient[sys_eval_5[0]],salient[sys_eval_6[0]]])\n",
        "salient_false_2 = np.average([salient[sys_eval_5[1]],salient[sys_eval_6[1]]])\n",
        "salient_false_3 = np.average([salient[sys_eval_5[2]],salient[sys_eval_6[2]]])\n",
        "salient_false_4 = np.average([salient[sys_eval_5[3]],salient[sys_eval_6[3]]])\n",
        "salient_false_5 = np.average([salient[sys_eval_5[4]],salient[sys_eval_6[4]]])\n",
        "salient_false_6 = np.average([salient[sys_eval_5[5]],salient[sys_eval_6[5]]])\n",
        "\n",
        "exp_false_1 = np.average([explanations[sys_eval_5[0]],explanations[sys_eval_6[0]]])\n",
        "exp_false_2 = np.average([explanations[sys_eval_5[1]],explanations[sys_eval_6[1]]])\n",
        "exp_false_3 = np.average([explanations[sys_eval_5[2]],explanations[sys_eval_6[2]]])\n",
        "exp_false_4 = np.average([explanations[sys_eval_5[3]],explanations[sys_eval_6[3]]])\n",
        "exp_false_5 = np.average([explanations[sys_eval_5[4]],explanations[sys_eval_6[4]]])\n",
        "exp_false_6 = np.average([explanations[sys_eval_5[5]],explanations[sys_eval_6[5]]])"
      ]
    },
    {
      "cell_type": "code",
      "execution_count": 51,
      "metadata": {},
      "outputs": [
        {
          "name": "stdout",
          "output_type": "stream",
          "text": [
            "Question 1 & $ 6.2421875 $&$ 6.3431372549019605 $&$ 6.306603773584905 $&$ 6.089285714285714 $\\\\\n",
            "Question 2 & $ 6.0546875 $&$ 6.014705882352941 $&$ 6.061320754716981 $&$ 6.084821428571429 $\\\\\n",
            "Question 3 & $ 6.0375 $&$ 6.019607843137255 $&$ 6.169811320754717 $&$ 5.928571428571429 $\\\\\n",
            "Question 4 & $ 5.9546875 $&$ 5.862745098039215 $&$ 6.05188679245283 $&$ 5.946428571428571 $\\\\\n",
            "Question 5 & $ 6.2671875 $&$ 6.127450980392157 $&$ 6.254716981132075 $&$ 6.40625 $\\\\\n",
            "Question 6 & $ 6.0796875 $&$ 5.970588235294118 $&$ 6.19811320754717 $&$ 6.066964285714286 $\\\\\n"
          ]
        }
      ],
      "source": [
        "for i in range(1,7):\n",
        "    print(f\"Question {i} & $\", np.average([df[sys_eval_1[i-1]],df[sys_eval_2[i-1]],df[sys_eval_3[i-1]],df[sys_eval_4[i-1]]]) ,\"$&$\",\n",
        "          np.average([basic[sys_eval_1[i-1]],basic[sys_eval_2[i-1]],basic[sys_eval_3[i-1]],basic[sys_eval_4[i-1]]]), \"$&$\",\n",
        "            np.average([salient[sys_eval_1[i-1]],salient[sys_eval_2[i-1]],salient[sys_eval_3[i-1]],salient[sys_eval_4[i-1]]]), \"$&$\",\n",
        "            np.average([explanations[sys_eval_1[i-1]],explanations[sys_eval_2[i-1]],explanations[sys_eval_3[i-1]],explanations[sys_eval_4[i-1]]]), '$\\\\\\\\')\n",
        "    "
      ]
    },
    {
      "cell_type": "code",
      "execution_count": 52,
      "metadata": {},
      "outputs": [
        {
          "name": "stdout",
          "output_type": "stream",
          "text": [
            "Question 1 & $ 3.8 $&$ 3.3823529411764706 $&$ 4.037735849056604 $&$ 3.955357142857143 $\\\\\n",
            "Question 2 & $ 5.128125 $&$ 5.117647058823529 $&$ 4.90566037735849 $&$ 5.348214285714286 $\\\\\n",
            "Question 3 & $ 4.56875 $&$ 4.313725490196078 $&$ 4.471698113207547 $&$ 4.892857142857143 $\\\\\n",
            "Question 4 & $ 4.484375 $&$ 4.186274509803922 $&$ 4.367924528301887 $&$ 4.866071428571429 $\\\\\n",
            "Question 5 & $ 5.70625 $&$ 5.392156862745098 $&$ 5.660377358490566 $&$ 6.035714285714286 $\\\\\n",
            "Question 6 & $ 5.0375 $&$ 4.950980392156863 $&$ 4.990566037735849 $&$ 5.160714285714286 $\\\\\n"
          ]
        }
      ],
      "source": [
        "for i in range(1,7):\n",
        "    print(f\"Question {i} & $\", np.average([df[sys_eval_5[i-1]],df[sys_eval_6[i-1]]]) ,\"$&$\",\n",
        "          np.average([basic[sys_eval_5[i-1]],basic[sys_eval_6[i-1]]]), \"$&$\",\n",
        "            np.average([salient[sys_eval_5[i-1]],salient[sys_eval_6[i-1]]]), \"$&$\",\n",
        "            np.average([explanations[sys_eval_5[i-1]],explanations[sys_eval_6[i-1]]]), '$\\\\\\\\')\n",
        "    "
      ]
    },
    {
      "cell_type": "code",
      "execution_count": 53,
      "metadata": {},
      "outputs": [
        {
          "data": {
            "image/png": "[encoded data removed]",
            "text/plain": [
              "<Figure size 2000x1000 with 3 Axes>"
            ]
          },
          "metadata": {},
          "output_type": "display_data"
        }
      ],
      "source": [
        "plt.figure(figsize=(20,10))\n",
        "plt.subplot(1,3,1)\n",
        "plt.boxplot(basic[sys_eval_1])\n",
        "plt.subplot(1,3,2)\n",
        "plt.boxplot(salient[sys_eval_1])\n",
        "plt.subplot(1,3,3)\n",
        "plt.boxplot(explanations[sys_eval_1])\n",
        "plt.show()"
      ]
    },
    {
      "cell_type": "code",
      "execution_count": 54,
      "metadata": {},
      "outputs": [
        {
          "data": {
            "image/png": "[encoded data removed]",
            "text/plain": [
              "<Figure size 2000x1000 with 3 Axes>"
            ]
          },
          "metadata": {},
          "output_type": "display_data"
        }
      ],
      "source": [
        "plt.figure(figsize=(20,10))\n",
        "plt.subplot(1,3,1)\n",
        "plt.boxplot(basic[sys_eval_2])\n",
        "plt.subplot(1,3,2)\n",
        "plt.boxplot(salient[sys_eval_2])\n",
        "plt.subplot(1,3,3)\n",
        "plt.boxplot(explanations[sys_eval_2])\n",
        "plt.show()"
      ]
    },
    {
      "cell_type": "code",
      "execution_count": 55,
      "metadata": {},
      "outputs": [
        {
          "data": {
            "image/png": "[encoded data removed]",
            "text/plain": [
              "<Figure size 2000x1000 with 3 Axes>"
            ]
          },
          "metadata": {},
          "output_type": "display_data"
        }
      ],
      "source": [
        "plt.figure(figsize=(20,10))\n",
        "plt.subplot(1,3,1)\n",
        "plt.boxplot(basic[sys_eval_3])\n",
        "plt.subplot(1,3,2)\n",
        "plt.boxplot(salient[sys_eval_3])\n",
        "plt.subplot(1,3,3)\n",
        "plt.boxplot(explanations[sys_eval_3])\n",
        "plt.show()"
      ]
    },
    {
      "cell_type": "code",
      "execution_count": 56,
      "metadata": {},
      "outputs": [
        {
          "data": {
            "image/png": "[encoded data removed]",
            "text/plain": [
              "<Figure size 2000x1000 with 3 Axes>"
            ]
          },
          "metadata": {},
          "output_type": "display_data"
        }
      ],
      "source": [
        "plt.figure(figsize=(20,10))\n",
        "plt.subplot(1,3,1)\n",
        "plt.boxplot(basic[sys_eval_4])\n",
        "plt.subplot(1,3,2)\n",
        "plt.boxplot(salient[sys_eval_4])\n",
        "plt.subplot(1,3,3)\n",
        "plt.boxplot(explanations[sys_eval_4])\n",
        "plt.show()"
      ]
    },
    {
      "cell_type": "code",
      "execution_count": 57,
      "metadata": {},
      "outputs": [
        {
          "data": {
            "image/png": "[encoded data removed]",
            "text/plain": [
              "<Figure size 2000x1000 with 3 Axes>"
            ]
          },
          "metadata": {},
          "output_type": "display_data"
        }
      ],
      "source": [
        "plt.figure(figsize=(20,10))\n",
        "plt.subplot(1,3,1)\n",
        "plt.boxplot(basic[sys_eval_5])\n",
        "plt.subplot(1,3,2)\n",
        "plt.boxplot(salient[sys_eval_5])\n",
        "plt.subplot(1,3,3)\n",
        "plt.boxplot(explanations[sys_eval_5])\n",
        "plt.show()"
      ]
    },
    {
      "cell_type": "code",
      "execution_count": 58,
      "metadata": {},
      "outputs": [
        {
          "data": {
            "image/png": "[encoded data removed]",
            "text/plain": [
              "<Figure size 2000x1000 with 3 Axes>"
            ]
          },
          "metadata": {},
          "output_type": "display_data"
        }
      ],
      "source": [
        "plt.figure(figsize=(20,10))\n",
        "plt.subplot(1,3,1)\n",
        "plt.boxplot(basic[sys_eval_6])\n",
        "plt.subplot(1,3,2)\n",
        "plt.boxplot(salient[sys_eval_6])\n",
        "plt.subplot(1,3,3)\n",
        "plt.boxplot(explanations[sys_eval_6])\n",
        "plt.show()"
      ]
    },
    {
      "cell_type": "markdown",
      "metadata": {},
      "source": [
        "## AI System evaluation "
      ]
    },
    {
      "cell_type": "code",
      "execution_count": 59,
      "metadata": {},
      "outputs": [],
      "source": [
        "ai_sys_eval_cols = [col for col in df.columns if col.startswith('ai-system-evaluation')]\n",
        "ai_sys_eval_cols.remove(\"ai-system-evaluation.additional-functionality\")\n",
        "ai_sys_eval_cols.remove(\"ai-system-evaluation.most-useful-explanation-feature\")\n",
        "ai_sys_eval_cols.remove(\"ai-system-evaluation.other-information-wish\")\n",
        "ai_sys_eval_cols.remove(\"ai-system-evaluation.value-speed-or-comprehensiveness\")\n"
      ]
    },
    {
      "cell_type": "code",
      "execution_count": 60,
      "metadata": {},
      "outputs": [
        {
          "name": "stdout",
          "output_type": "stream",
          "text": [
            "ai-system-evaluation.benefit-of-doubt count    160.000000\n",
            "mean       5.156250\n",
            "std        1.310561\n",
            "min        1.000000\n",
            "25%        5.000000\n",
            "50%        5.000000\n",
            "75%        6.000000\n",
            "max        7.000000\n",
            "Name: ai-system-evaluation.benefit-of-doubt, dtype: float64\n",
            "\n",
            "\n",
            "ai-system-evaluation.classification-comprehensible count    160.000000\n",
            "mean       5.337500\n",
            "std        1.288007\n",
            "min        1.000000\n",
            "25%        5.000000\n",
            "50%        6.000000\n",
            "75%        6.000000\n",
            "max        7.000000\n",
            "Name: ai-system-evaluation.classification-comprehensible, dtype: float64\n",
            "\n",
            "\n",
            "ai-system-evaluation.easy-to-follow-what-system-does count    160.000000\n",
            "mean       5.312500\n",
            "std        1.379032\n",
            "min        1.000000\n",
            "25%        5.000000\n",
            "50%        6.000000\n",
            "75%        6.000000\n",
            "max        7.000000\n",
            "Name: ai-system-evaluation.easy-to-follow-what-system-does, dtype: float64\n",
            "\n",
            "\n",
            "ai-system-evaluation.know-what-will-happen-next-time count    160.00000\n",
            "mean       4.99375\n",
            "std        1.55202\n",
            "min        1.00000\n",
            "25%        4.00000\n",
            "50%        5.00000\n",
            "75%        6.00000\n",
            "max        7.00000\n",
            "Name: ai-system-evaluation.know-what-will-happen-next-time, dtype: float64\n",
            "\n",
            "\n",
            "ai-system-evaluation.rely-on-ai-system count    160.000000\n",
            "mean       4.775000\n",
            "std        1.377949\n",
            "min        1.000000\n",
            "25%        4.000000\n",
            "50%        5.000000\n",
            "75%        6.000000\n",
            "max        7.000000\n",
            "Name: ai-system-evaluation.rely-on-ai-system, dtype: float64\n",
            "\n",
            "\n",
            "ai-system-evaluation.sceptical-about-ai-system count    160.000000\n",
            "mean       4.487500\n",
            "std        1.496274\n",
            "min        1.000000\n",
            "25%        3.000000\n",
            "50%        5.000000\n",
            "75%        6.000000\n",
            "max        7.000000\n",
            "Name: ai-system-evaluation.sceptical-about-ai-system, dtype: float64\n",
            "\n",
            "\n",
            "ai-system-evaluation.system-able-to-classify-news-articles count    160.00000\n",
            "mean       5.34375\n",
            "std        1.25416\n",
            "min        1.00000\n",
            "25%        5.00000\n",
            "50%        6.00000\n",
            "75%        6.00000\n",
            "max        7.00000\n",
            "Name: ai-system-evaluation.system-able-to-classify-news-articles, dtype: float64\n",
            "\n",
            "\n",
            "ai-system-evaluation.system-able-to-detect-SDG count    160.000000\n",
            "mean       5.512500\n",
            "std        1.176219\n",
            "min        1.000000\n",
            "25%        5.000000\n",
            "50%        6.000000\n",
            "75%        6.000000\n",
            "max        7.000000\n",
            "Name: ai-system-evaluation.system-able-to-detect-SDG, dtype: float64\n",
            "\n",
            "\n",
            "ai-system-evaluation.system-can-correctly-classify-news-articles count    160.000000\n",
            "mean       5.200000\n",
            "std        1.227566\n",
            "min        1.000000\n",
            "25%        5.000000\n",
            "50%        5.000000\n",
            "75%        6.000000\n",
            "max        7.000000\n",
            "Name: ai-system-evaluation.system-can-correctly-classify-news-articles, dtype: float64\n",
            "\n",
            "\n",
            "ai-system-evaluation.system-can-efficiently-classify-news-articles count    160.000000\n",
            "mean       5.293750\n",
            "std        1.226525\n",
            "min        1.000000\n",
            "25%        5.000000\n",
            "50%        5.000000\n",
            "75%        6.000000\n",
            "max        7.000000\n",
            "Name: ai-system-evaluation.system-can-efficiently-classify-news-articles, dtype: float64\n",
            "\n",
            "\n",
            "ai-system-evaluation.system-criteria-acceptable count    160.000000\n",
            "mean       5.187500\n",
            "std        1.318411\n",
            "min        1.000000\n",
            "25%        5.000000\n",
            "50%        5.000000\n",
            "75%        6.000000\n",
            "max        7.000000\n",
            "Name: ai-system-evaluation.system-criteria-acceptable, dtype: float64\n",
            "\n",
            "\n",
            "ai-system-evaluation.system-decides-consistently count    160.000000\n",
            "mean       4.918750\n",
            "std        1.391673\n",
            "min        1.000000\n",
            "25%        4.000000\n",
            "50%        5.000000\n",
            "75%        6.000000\n",
            "max        7.000000\n",
            "Name: ai-system-evaluation.system-decides-consistently, dtype: float64\n",
            "\n",
            "\n",
            "ai-system-evaluation.system-decides-neutral count    160.00000\n",
            "mean       4.33125\n",
            "std        1.58500\n",
            "min        1.00000\n",
            "25%        3.00000\n",
            "50%        4.00000\n",
            "75%        6.00000\n",
            "max        7.00000\n",
            "Name: ai-system-evaluation.system-decides-neutral, dtype: float64\n",
            "\n",
            "\n",
            "ai-system-evaluation.system-helpful count    160.000000\n",
            "mean       4.931250\n",
            "std        1.454215\n",
            "min        1.000000\n",
            "25%        4.000000\n",
            "50%        5.000000\n",
            "75%        6.000000\n",
            "max        7.000000\n",
            "Name: ai-system-evaluation.system-helpful, dtype: float64\n",
            "\n",
            "\n",
            "ai-system-evaluation.tend-to-trust-system-even-without-knowledge count    160.000000\n",
            "mean       4.443750\n",
            "std        1.478342\n",
            "min        1.000000\n",
            "25%        3.000000\n",
            "50%        5.000000\n",
            "75%        6.000000\n",
            "max        7.000000\n",
            "Name: ai-system-evaluation.tend-to-trust-system-even-without-knowledge, dtype: float64\n",
            "\n",
            "\n",
            "ai-system-evaluation.tendency-to-trust-system-high count    160.000000\n",
            "mean       4.375000\n",
            "std        1.465537\n",
            "min        1.000000\n",
            "25%        3.750000\n",
            "50%        5.000000\n",
            "75%        5.000000\n",
            "max        7.000000\n",
            "Name: ai-system-evaluation.tendency-to-trust-system-high, dtype: float64\n",
            "\n",
            "\n",
            "ai-system-evaluation.trust-new-tech count    160.000000\n",
            "mean       5.025000\n",
            "std        1.427273\n",
            "min        1.000000\n",
            "25%        4.000000\n",
            "50%        5.000000\n",
            "75%        6.000000\n",
            "max        7.000000\n",
            "Name: ai-system-evaluation.trust-new-tech, dtype: float64\n",
            "\n",
            "\n",
            "ai-system-evaluation.understand-what-system-bases-decision-on count    160.000000\n",
            "mean       5.350000\n",
            "std        1.365339\n",
            "min        1.000000\n",
            "25%        5.000000\n",
            "50%        6.000000\n",
            "75%        6.000000\n",
            "max        7.000000\n",
            "Name: ai-system-evaluation.understand-what-system-bases-decision-on, dtype: float64\n",
            "\n",
            "\n",
            "ai-system-evaluation.understand-why-system-provided-decision count    160.000000\n",
            "mean       5.368750\n",
            "std        1.403598\n",
            "min        1.000000\n",
            "25%        5.000000\n",
            "50%        6.000000\n",
            "75%        6.000000\n",
            "max        7.000000\n",
            "Name: ai-system-evaluation.understand-why-system-provided-decision, dtype: float64\n",
            "\n",
            "\n"
          ]
        },
        {
          "data": {
            "image/png": "[encoded data removed]",
            "text/plain": [
              "<Figure size 2000x1000 with 1 Axes>"
            ]
          },
          "metadata": {},
          "output_type": "display_data"
        }
      ],
      "source": [
        "\n",
        "\n",
        "for i, _col in enumerate(ai_sys_eval_cols):\n",
        "    print(f\"{_col}\", df[_col].describe())\n",
        "    \n",
        "    print('\\n')\n",
        "\n",
        "plt.figure(figsize=(20,10))\n",
        "plt.boxplot(df[ai_sys_eval_cols])\n",
        "plt.show()\n",
        "# # df[\"ai-system-evaluation.benefit-of-doubt\"].plot(kind='box')\n",
        "# plt.plot() \n",
        "# df[\"ai-system-evaluation.classification-comprehensible\"].plot(kind='box')"
      ]
    },
    {
      "cell_type": "markdown",
      "metadata": {},
      "source": [
        "## Expectations"
      ]
    },
    {
      "cell_type": "code",
      "execution_count": 61,
      "metadata": {},
      "outputs": [],
      "source": [
        "expectation_cols = [col for col in df.columns if col.startswith('expectations')] \n"
      ]
    },
    {
      "cell_type": "code",
      "execution_count": 62,
      "metadata": {},
      "outputs": [
        {
          "data": {
            "image/png": "[encoded data removed]",
            "text/plain": [
              "<Figure size 640x480 with 1 Axes>"
            ]
          },
          "metadata": {},
          "output_type": "display_data"
        }
      ],
      "source": [
        "plt.boxplot(df[expectation_cols])\n",
        "plt.show()"
      ]
    },
    {
      "cell_type": "markdown",
      "metadata": {},
      "source": [
        "## Information litteracy"
      ]
    },
    {
      "cell_type": "code",
      "execution_count": 63,
      "metadata": {},
      "outputs": [],
      "source": [
        "info_litteracy_cols = [col for col in df.columns if col.startswith('information-literacy')] "
      ]
    },
    {
      "cell_type": "code",
      "execution_count": 64,
      "metadata": {},
      "outputs": [
        {
          "data": {
            "image/png": "[encoded data removed]",
            "text/plain": [
              "<Figure size 640x480 with 1 Axes>"
            ]
          },
          "metadata": {},
          "output_type": "display_data"
        }
      ],
      "source": [
        "plt.boxplot(df[info_litteracy_cols])\n",
        "plt.show()"
      ]
    },
    {
      "cell_type": "markdown",
      "metadata": {},
      "source": [
        "## Correlation between demographics and consciousness\n",
        "\n",
        "Link to the SCQ-S : https://repository.uantwerpen.be/docman/irua/126198/152149_2020_07_12.pdf"
      ]
    },
    {
      "cell_type": "code",
      "execution_count": 65,
      "metadata": {},
      "outputs": [
        {
          "data": {
            "text/html": [
              "<div>\n",
              "<style scoped>\n",
              "    .dataframe tbody tr th:only-of-type {\n",
              "        vertical-align: middle;\n",
              "    }\n",
              "\n",
              "    .dataframe tbody tr th {\n",
              "        vertical-align: top;\n",
              "    }\n",
              "\n",
              "    .dataframe thead th {\n",
              "        text-align: right;\n",
              "    }\n",
              "</style>\n",
              "<table border=\"1\" class=\"dataframe\">\n",
              "  <thead>\n",
              "    <tr style=\"text-align: right;\">\n",
              "      <th></th>\n",
              "      <th>information-seeking.sources.A3</th>\n",
              "      <th>information-seeking.sources.A7</th>\n",
              "      <th>information-seeking.sources.A8</th>\n",
              "      <th>information-seeking.sources.B11</th>\n",
              "      <th>information-seeking.sources.B6</th>\n",
              "      <th>information-seeking.sources.B9</th>\n",
              "      <th>information-seeking.sources.K12</th>\n",
              "      <th>information-seeking.sources.K16</th>\n",
              "      <th>information-seeking.sources.K17</th>\n",
              "    </tr>\n",
              "  </thead>\n",
              "  <tbody>\n",
              "    <tr>\n",
              "      <th>0</th>\n",
              "      <td>3</td>\n",
              "      <td>2</td>\n",
              "      <td>7</td>\n",
              "      <td>1</td>\n",
              "      <td>3</td>\n",
              "      <td>4</td>\n",
              "      <td>2</td>\n",
              "      <td>5</td>\n",
              "      <td>6</td>\n",
              "    </tr>\n",
              "    <tr>\n",
              "      <th>1</th>\n",
              "      <td>4</td>\n",
              "      <td>5</td>\n",
              "      <td>4</td>\n",
              "      <td>3</td>\n",
              "      <td>3</td>\n",
              "      <td>4</td>\n",
              "      <td>4</td>\n",
              "      <td>5</td>\n",
              "      <td>3</td>\n",
              "    </tr>\n",
              "    <tr>\n",
              "      <th>2</th>\n",
              "      <td>6</td>\n",
              "      <td>5</td>\n",
              "      <td>6</td>\n",
              "      <td>6</td>\n",
              "      <td>6</td>\n",
              "      <td>6</td>\n",
              "      <td>6</td>\n",
              "      <td>7</td>\n",
              "      <td>6</td>\n",
              "    </tr>\n",
              "    <tr>\n",
              "      <th>3</th>\n",
              "      <td>7</td>\n",
              "      <td>7</td>\n",
              "      <td>6</td>\n",
              "      <td>6</td>\n",
              "      <td>6</td>\n",
              "      <td>4</td>\n",
              "      <td>7</td>\n",
              "      <td>7</td>\n",
              "      <td>7</td>\n",
              "    </tr>\n",
              "    <tr>\n",
              "      <th>4</th>\n",
              "      <td>7</td>\n",
              "      <td>7</td>\n",
              "      <td>6</td>\n",
              "      <td>4</td>\n",
              "      <td>6</td>\n",
              "      <td>5</td>\n",
              "      <td>7</td>\n",
              "      <td>6</td>\n",
              "      <td>4</td>\n",
              "    </tr>\n",
              "    <tr>\n",
              "      <th>...</th>\n",
              "      <td>...</td>\n",
              "      <td>...</td>\n",
              "      <td>...</td>\n",
              "      <td>...</td>\n",
              "      <td>...</td>\n",
              "      <td>...</td>\n",
              "      <td>...</td>\n",
              "      <td>...</td>\n",
              "      <td>...</td>\n",
              "    </tr>\n",
              "    <tr>\n",
              "      <th>155</th>\n",
              "      <td>7</td>\n",
              "      <td>7</td>\n",
              "      <td>5</td>\n",
              "      <td>7</td>\n",
              "      <td>5</td>\n",
              "      <td>5</td>\n",
              "      <td>7</td>\n",
              "      <td>6</td>\n",
              "      <td>6</td>\n",
              "    </tr>\n",
              "    <tr>\n",
              "      <th>156</th>\n",
              "      <td>7</td>\n",
              "      <td>6</td>\n",
              "      <td>6</td>\n",
              "      <td>3</td>\n",
              "      <td>6</td>\n",
              "      <td>3</td>\n",
              "      <td>7</td>\n",
              "      <td>5</td>\n",
              "      <td>6</td>\n",
              "    </tr>\n",
              "    <tr>\n",
              "      <th>157</th>\n",
              "      <td>7</td>\n",
              "      <td>7</td>\n",
              "      <td>6</td>\n",
              "      <td>7</td>\n",
              "      <td>7</td>\n",
              "      <td>7</td>\n",
              "      <td>7</td>\n",
              "      <td>7</td>\n",
              "      <td>5</td>\n",
              "    </tr>\n",
              "    <tr>\n",
              "      <th>158</th>\n",
              "      <td>7</td>\n",
              "      <td>7</td>\n",
              "      <td>7</td>\n",
              "      <td>2</td>\n",
              "      <td>5</td>\n",
              "      <td>5</td>\n",
              "      <td>7</td>\n",
              "      <td>6</td>\n",
              "      <td>6</td>\n",
              "    </tr>\n",
              "    <tr>\n",
              "      <th>159</th>\n",
              "      <td>7</td>\n",
              "      <td>7</td>\n",
              "      <td>7</td>\n",
              "      <td>6</td>\n",
              "      <td>7</td>\n",
              "      <td>5</td>\n",
              "      <td>7</td>\n",
              "      <td>5</td>\n",
              "      <td>6</td>\n",
              "    </tr>\n",
              "  </tbody>\n",
              "</table>\n",
              "<p>160 rows × 9 columns</p>\n",
              "</div>"
            ],
            "text/plain": [
              "     information-seeking.sources.A3  information-seeking.sources.A7  \\\n",
              "0                                 3                               2   \n",
              "1                                 4                               5   \n",
              "2                                 6                               5   \n",
              "3                                 7                               7   \n",
              "4                                 7                               7   \n",
              "..                              ...                             ...   \n",
              "155                               7                               7   \n",
              "156                               7                               6   \n",
              "157                               7                               7   \n",
              "158                               7                               7   \n",
              "159                               7                               7   \n",
              "\n",
              "     information-seeking.sources.A8  information-seeking.sources.B11  \\\n",
              "0                                 7                                1   \n",
              "1                                 4                                3   \n",
              "2                                 6                                6   \n",
              "3                                 6                                6   \n",
              "4                                 6                                4   \n",
              "..                              ...                              ...   \n",
              "155                               5                                7   \n",
              "156                               6                                3   \n",
              "157                               6                                7   \n",
              "158                               7                                2   \n",
              "159                               7                                6   \n",
              "\n",
              "     information-seeking.sources.B6  information-seeking.sources.B9  \\\n",
              "0                                 3                               4   \n",
              "1                                 3                               4   \n",
              "2                                 6                               6   \n",
              "3                                 6                               4   \n",
              "4                                 6                               5   \n",
              "..                              ...                             ...   \n",
              "155                               5                               5   \n",
              "156                               6                               3   \n",
              "157                               7                               7   \n",
              "158                               5                               5   \n",
              "159                               7                               5   \n",
              "\n",
              "     information-seeking.sources.K12  information-seeking.sources.K16  \\\n",
              "0                                  2                                5   \n",
              "1                                  4                                5   \n",
              "2                                  6                                7   \n",
              "3                                  7                                7   \n",
              "4                                  7                                6   \n",
              "..                               ...                              ...   \n",
              "155                                7                                6   \n",
              "156                                7                                5   \n",
              "157                                7                                7   \n",
              "158                                7                                6   \n",
              "159                                7                                5   \n",
              "\n",
              "     information-seeking.sources.K17  \n",
              "0                                  6  \n",
              "1                                  3  \n",
              "2                                  6  \n",
              "3                                  7  \n",
              "4                                  4  \n",
              "..                               ...  \n",
              "155                                6  \n",
              "156                                6  \n",
              "157                                5  \n",
              "158                                6  \n",
              "159                                6  \n",
              "\n",
              "[160 rows x 9 columns]"
            ]
          },
          "execution_count": 65,
          "metadata": {},
          "output_type": "execute_result"
        }
      ],
      "source": [
        "information_seeking_cols = [col for col in df.columns if col.startswith('information-seeking')] \n",
        "df[information_seeking_cols]"
      ]
    },
    {
      "cell_type": "code",
      "execution_count": 66,
      "metadata": {},
      "outputs": [],
      "source": [
        "def scq_score(df) :\n",
        "    tmp = pd.DataFrame(np.sum([df[\"information-seeking.sources.A3\"]*0.638,\n",
        "               df[\"information-seeking.sources.A7\"]*0.808,\n",
        "                 df[\"information-seeking.sources.A8\"]*0.683,\n",
        "                   df[\"information-seeking.sources.B11\"]*0.670,\n",
        "                     df[\"information-seeking.sources.B6\"]*0.506,\n",
        "                     df[\"information-seeking.sources.B9\"]*0.486,\n",
        "                     df[\"information-seeking.sources.K12\"]*0.514,\n",
        "                       df[\"information-seeking.sources.K16\"]*0.722,\n",
        "                         df[\"information-seeking.sources.K17\"]*0.644], axis=0))\n",
        "    return tmp"
      ]
    },
    {
      "cell_type": "code",
      "execution_count": 68,
      "metadata": {},
      "outputs": [
        {
          "name": "stdout",
          "output_type": "stream",
          "text": [
            "all :                  0\n",
            "count  160.000000\n",
            "mean    33.378506\n",
            "std      3.845124\n",
            "min     20.015000\n",
            "25%     31.069000\n",
            "50%     33.990500\n",
            "75%     36.041000\n",
            "max     39.697000\n",
            "basic :                 0\n",
            "count  51.000000\n",
            "mean   33.070686\n",
            "std     3.734029\n",
            "min    20.945000\n",
            "25%    31.377000\n",
            "50%    33.245000\n",
            "75%    35.135000\n",
            "max    39.697000\n",
            "salient :                 0\n",
            "count  53.000000\n",
            "mean   33.853604\n",
            "std     4.054941\n",
            "min    20.015000\n",
            "25%    31.447000\n",
            "50%    34.841000\n",
            "75%    36.656000\n",
            "max    39.697000\n",
            "exp :                 0\n",
            "count  56.000000\n",
            "mean   33.209196\n",
            "std     3.766478\n",
            "min    24.805000\n",
            "25%    30.166000\n",
            "50%    33.982000\n",
            "75%    35.966250\n",
            "max    39.697000\n"
          ]
        }
      ],
      "source": [
        "print('all : ', scq_score(df).describe())\n",
        "print('basic : ', scq_score(basic).describe())\n",
        "print('salient : ', scq_score(salient).describe())\n",
        "print('exp : ', scq_score(explanations).describe())"
      ]
    },
    {
      "cell_type": "code",
      "execution_count": 69,
      "metadata": {},
      "outputs": [],
      "source": [
        "age_21_29 =  df[df[\"demographics.age\"] == \"21-29\"]\n",
        "age_30_39 =  df[df[\"demographics.age\"] == \"30-39\"]\n",
        "age_40_49 =  df[df[\"demographics.age\"] == \"40-49\"]\n"
      ]
    },
    {
      "cell_type": "code",
      "execution_count": 70,
      "metadata": {},
      "outputs": [
        {
          "name": "stdout",
          "output_type": "stream",
          "text": [
            "eco 20                0\n",
            "count  33.000000\n",
            "mean   33.393061\n",
            "std     3.787925\n",
            "min    22.394000\n",
            "25%    31.260000\n",
            "50%    33.745000\n",
            "75%    35.229000\n",
            "max    39.697000\n",
            "eco 30                0\n",
            "count  69.000000\n",
            "mean   33.569464\n",
            "std     3.861897\n",
            "min    20.945000\n",
            "25%    31.386000\n",
            "50%    33.955000\n",
            "75%    36.781000\n",
            "max    39.697000\n",
            "eco 40                0\n",
            "count  33.000000\n",
            "mean   33.522333\n",
            "std     3.475885\n",
            "min    24.984000\n",
            "25%    31.447000\n",
            "50%    33.805000\n",
            "75%    36.162000\n",
            "max    39.697000\n"
          ]
        }
      ],
      "source": [
        "print(\"eco 20\", scq_score(age_21_29).describe())\n",
        "print(\"eco 30\", scq_score(age_30_39).describe())\n",
        "print(\"eco 40\", scq_score(age_40_49).describe())"
      ]
    },
    {
      "cell_type": "code",
      "execution_count": 71,
      "metadata": {},
      "outputs": [],
      "source": [
        "male = df[df[\"demographics.gender\"] == \"male\"]\n",
        "female = df[df[\"demographics.gender\"] == \"female\"]"
      ]
    },
    {
      "cell_type": "code",
      "execution_count": 72,
      "metadata": {},
      "outputs": [
        {
          "name": "stdout",
          "output_type": "stream",
          "text": [
            "               0\n",
            "count  51.000000\n",
            "mean   33.387412\n",
            "std     3.847123\n",
            "min    24.109000\n",
            "25%    30.752500\n",
            "50%    33.745000\n",
            "75%    36.550500\n",
            "max    39.697000\n",
            "                0\n",
            "count  105.000000\n",
            "mean    33.309743\n",
            "std      3.879984\n",
            "min     20.015000\n",
            "25%     31.427000\n",
            "50%     34.026000\n",
            "75%     35.854000\n",
            "max     39.697000\n"
          ]
        }
      ],
      "source": [
        "print(scq_score(male).describe())\n",
        "print(scq_score(female).describe())"
      ]
    },
    {
      "cell_type": "code",
      "execution_count": 73,
      "metadata": {},
      "outputs": [
        {
          "data": {
            "text/plain": [
              "array(['50000-74999-usd', '20000-34999-usd', '35000-49999-usd',\n",
              "       'over-100000-usd', 'less-than-20000-usd', '75000-99999-usd',\n",
              "       'no-answer'], dtype=object)"
            ]
          },
          "execution_count": 73,
          "metadata": {},
          "output_type": "execute_result"
        }
      ],
      "source": [
        "df[\"demographics.income\"].unique()"
      ]
    },
    {
      "cell_type": "code",
      "execution_count": 74,
      "metadata": {},
      "outputs": [],
      "source": [
        "val_50 = df[df['demographics.income'] == '50000-74999-usd'] \n",
        "val_20 = df[df['demographics.income'] == '20000-34999-usd']\n",
        "val_less = df[df['demographics.income'] == 'less-than-20000-usd']\n",
        "val_35 = df[df['demographics.income'] == '35000-49999-usd']\n",
        "val_75 = df[df['demographics.income'] == '75000-99999-usd']\n",
        "val_more = df[df['demographics.income'] == 'over-100000-usd']"
      ]
    },
    {
      "cell_type": "code",
      "execution_count": 75,
      "metadata": {},
      "outputs": [
        {
          "name": "stdout",
          "output_type": "stream",
          "text": [
            "               0\n",
            "count  27.000000\n",
            "mean   33.178481\n",
            "std     4.622623\n",
            "min    20.015000\n",
            "25%    30.903000\n",
            "50%    34.553000\n",
            "75%    35.692000\n",
            "max    39.697000\n",
            "               0\n",
            "count  32.000000\n",
            "mean   34.120750\n",
            "std     4.029673\n",
            "min    22.394000\n",
            "25%    32.418000\n",
            "50%    34.946500\n",
            "75%    37.264250\n",
            "max    39.211000\n",
            "               0\n",
            "count  26.000000\n",
            "mean   33.106615\n",
            "std     2.671739\n",
            "min    28.299000\n",
            "25%    31.305250\n",
            "50%    32.924000\n",
            "75%    34.941000\n",
            "max    37.765000\n",
            "               0\n",
            "count  32.000000\n",
            "mean   34.137062\n",
            "std     4.387254\n",
            "min    20.945000\n",
            "25%    32.351500\n",
            "50%    34.368500\n",
            "75%    37.251750\n",
            "max    39.697000\n",
            "               0\n",
            "count   9.000000\n",
            "mean   34.822889\n",
            "std     2.281088\n",
            "min    31.812000\n",
            "25%    33.369000\n",
            "50%    34.327000\n",
            "75%    35.854000\n",
            "max    39.697000\n",
            "               0\n",
            "count  20.000000\n",
            "mean   32.093250\n",
            "std     3.537013\n",
            "min    24.805000\n",
            "25%    29.329750\n",
            "50%    31.940500\n",
            "75%    34.493250\n",
            "max    37.726000\n"
          ]
        }
      ],
      "source": [
        "print(scq_score(val_less).describe())\n",
        "print(scq_score(val_20).describe())\n",
        "print(scq_score(val_35).describe())\n",
        "print(scq_score(val_50).describe())\n",
        "print(scq_score(val_75).describe())\n",
        "print(scq_score(val_more).describe())"
      ]
    },
    {
      "cell_type": "code",
      "execution_count": 76,
      "metadata": {},
      "outputs": [
        {
          "data": {
            "image/png": "[encoded data removed]",
            "text/plain": [
              "<Figure size 640x480 with 1 Axes>"
            ]
          },
          "metadata": {},
          "output_type": "display_data"
        }
      ],
      "source": [
        "plt.boxplot(df[information_seeking_cols])\n",
        "plt.show()"
      ]
    },
    {
      "cell_type": "code",
      "execution_count": 77,
      "metadata": {},
      "outputs": [
        {
          "data": {
            "text/plain": [
              "count    160.000000\n",
              "mean      21.526771\n",
              "std       12.923891\n",
              "min        2.966667\n",
              "25%       13.625000\n",
              "50%       18.850000\n",
              "75%       26.141667\n",
              "max       83.633333\n",
              "Name: METADATA.workDurationInMinutes.main, dtype: float64"
            ]
          },
          "execution_count": 77,
          "metadata": {},
          "output_type": "execute_result"
        }
      ],
      "source": [
        "df[\"METADATA.workDurationInMinutes.main\"].describe()"
      ]
    },
    {
      "cell_type": "code",
      "execution_count": 78,
      "metadata": {},
      "outputs": [],
      "source": [
        "test = scipy.stats.kruskal(basic[\"METADATA.workDurationInMinutes.qualification\"],salient[\"METADATA.workDurationInMinutes.qualification\"],explanations[\"METADATA.workDurationInMinutes.qualification\"])\n",
        "test2 = scipy.stats.kruskal(basic[\"METADATA.workDurationInSeconds.main\"],salient[\"METADATA.workDurationInSeconds.main\"],explanations[\"METADATA.workDurationInSeconds.main\"])"
      ]
    },
    {
      "cell_type": "code",
      "execution_count": 79,
      "metadata": {},
      "outputs": [
        {
          "name": "stdout",
          "output_type": "stream",
          "text": [
            "KruskalResult(statistic=0.21034506795310648, pvalue=0.9001691994158428)\n",
            "KruskalResult(statistic=1.2942453994282366, pvalue=0.5235500222689629)\n"
          ]
        }
      ],
      "source": [
        "print(test)\n",
        "print(test2)"
      ]
    },
    {
      "cell_type": "markdown",
      "metadata": {},
      "source": [
        "### Time spent to complete the questionnaire and the main part"
      ]
    },
    {
      "cell_type": "code",
      "execution_count": 80,
      "metadata": {},
      "outputs": [],
      "source": [
        "timeMain = {'All' : df[\"METADATA.workDurationInMinutes.main\"],\n",
        "                     'Basic' : basic[\"METADATA.workDurationInMinutes.main\"],\n",
        "                     'Salient' : salient[\"METADATA.workDurationInMinutes.main\"],\n",
        "                     'Axplanation' : explanations[\"METADATA.workDurationInMinutes.main\"]}"
      ]
    },
    {
      "cell_type": "code",
      "execution_count": 81,
      "metadata": {},
      "outputs": [],
      "source": [
        "timeQual = {'All' : df[\"METADATA.workDurationInMinutes.qualification\"],\n",
        "                     'Basic' : basic[\"METADATA.workDurationInMinutes.qualification\"],\n",
        "                     'Salient' : salient[\"METADATA.workDurationInMinutes.qualification\"],\n",
        "                     'Axplanation' : explanations[\"METADATA.workDurationInMinutes.qualification\"]}"
      ]
    },
    {
      "cell_type": "code",
      "execution_count": 82,
      "metadata": {},
      "outputs": [
        {
          "data": {
            "text/plain": [
              "Text(0.5, 1.0, 'Time needed to complete the main part')"
            ]
          },
          "execution_count": 82,
          "metadata": {},
          "output_type": "execute_result"
        },
        {
          "data": {
            "image/png": "[encoded data removed]",
            "text/plain": [
              "<Figure size 640x480 with 1 Axes>"
            ]
          },
          "metadata": {},
          "output_type": "display_data"
        }
      ],
      "source": [
        "fig, ax= plt.subplots()\n",
        "ax.boxplot(timeMain.values())\n",
        "ax.set_xticklabels(timeMain.keys())\n",
        "ax.set_title(\"Time needed to complete the main part\")\n",
        "\n"
      ]
    },
    {
      "cell_type": "code",
      "execution_count": 83,
      "metadata": {},
      "outputs": [
        {
          "data": {
            "text/plain": [
              "Text(0.5, 1.0, 'Time needed to complete the qualification part')"
            ]
          },
          "execution_count": 83,
          "metadata": {},
          "output_type": "execute_result"
        },
        {
          "data": {
            "image/png": "[encoded data removed]",
            "text/plain": [
              "<Figure size 640x480 with 1 Axes>"
            ]
          },
          "metadata": {},
          "output_type": "display_data"
        }
      ],
      "source": [
        "fig, ax= plt.subplots()\n",
        "ax.boxplot(timeQual.values())\n",
        "ax.set_xticklabels(timeQual.keys())\n",
        "ax.set_title(\"Time needed to complete the qualification part\")"
      ]
    },
    {
      "cell_type": "markdown",
      "metadata": {},
      "source": [
        "## News dashboard evaluation"
      ]
    },
    {
      "cell_type": "code",
      "execution_count": 84,
      "metadata": {},
      "outputs": [],
      "source": [
        "news_dashboard_cols = [col for col in df.columns if col.startswith('news-dashboard-evaluation')]"
      ]
    },
    {
      "cell_type": "code",
      "execution_count": 85,
      "metadata": {},
      "outputs": [
        {
          "data": {
            "image/png": "[encoded data removed]",
            "text/plain": [
              "<Figure size 640x480 with 1 Axes>"
            ]
          },
          "metadata": {},
          "output_type": "display_data"
        }
      ],
      "source": [
        "plt.boxplot(df[news_dashboard_cols])\n",
        "plt.show()"
      ]
    }
  ],
  "metadata": {
    "kernelspec": {
      "display_name": "base",
      "language": "python",
      "name": "python3"
    },
    "language_info": {
      "codemirror_mode": {
        "name": "ipython",
        "version": 3
      },
      "file_extension": ".py",
      "mimetype": "text/x-python",
      "name": "python",
      "nbconvert_exporter": "python",
      "pygments_lexer": "ipython3",
      "version": "3.10.12"
    },
    "orig_nbformat": 4
  },
  "nbformat": 4,
  "nbformat_minor": 2
}
