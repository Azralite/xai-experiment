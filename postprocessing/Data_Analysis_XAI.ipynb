{
  "cells": [
    {
      "attachments": {},
      "cell_type": "markdown",
      "metadata": {},
      "source": [
        "# XAI Experiment Data Analysis\n",
        "\n",
        "## Data Analysis todo list\n",
        "\n",
        "- ✅ Import and preprocess data\n",
        "- ✅ Demographics general overview \n",
        "- ✅ Performance (accuracy etc.)\n",
        "  - ✅ AI vs Human vs Human-AI\n",
        "  - ✅ Compare Human-AI performance among groups\n",
        "  - ✅ Compare change in performance among groups\n",
        "- ✅ Willingness to adjust judgments to match the AI system (Agreement percentage, switch percentage and AI preference)\n",
        "  - ✅ Compare agreement percentage among groups\n",
        "  - ✅ Compare switch percentage among groups\n",
        "  - ✅ Compare AI preference among groups\n",
        "- ⚙️ Effects of mistakes of the system (FP and FN)\n",
        "  - ⚙️ Performance and willingness to adjust at FP and FN compared to other news items\n",
        "  - ⚙️ Local evaluation metrics of FP and FN compared to other news items\n",
        "- [ ] Analysis of open questions\n",
        "  - [ ] What criteria do you usually use to judge whether a news/article is reliable?\n",
        "  - [ ] What other information would you like to obtain to better assess the truthfulness of an article?\n",
        "  - [ ] What functionality would be a good addition?\n",
        "\n",
        "### Bonus analyses todo list\n",
        "- [ ] Include journalists and interaction effects\n",
        "  - [ ] Compare Human-AI performance \n",
        "  - [ ] Compare change in performance\n",
        "  - [ ] Compare agreement percentage\n",
        "  - [ ] Compare switch percentage\n",
        "  - [ ] Compare AI preference"
      ]
    },
    {
      "cell_type": "code",
      "execution_count": 1,
      "metadata": {},
      "outputs": [],
      "source": [
        "import json\n",
        "import pandas as pd\n",
        "import requests\n",
        "import io\n",
        "from urllib.request import urlopen\n",
        "import json\n",
        "import logging\n",
        "import seaborn as sns\n",
        "import matplotlib.pyplot as plt\n",
        "import numpy as np\n",
        "from pandas.io.json import json_normalize\n",
        "import pingouin as pg\n",
        "import scikit_posthocs as sp"
      ]
    },
    {
      "cell_type": "code",
      "execution_count": 2,
      "metadata": {},
      "outputs": [],
      "source": [
        "%reload_ext autoreload\n",
        "%autoreload 2"
      ]
    },
    {
      "attachments": {},
      "cell_type": "markdown",
      "metadata": {},
      "source": [
        "## Import and preprocess data"
      ]
    },
    {
      "attachments": {},
      "cell_type": "markdown",
      "metadata": {},
      "source": [
        "### Read questionnaire data"
      ]
    },
    {
      "cell_type": "code",
      "execution_count": 3,
      "metadata": {},
      "outputs": [],
      "source": [
        "df = pd.read_csv('data/data_cleaned.csv')"
      ]
    },
    {
      "attachments": {},
      "cell_type": "markdown",
      "metadata": {},
      "source": [
        "### Read news items"
      ]
    },
    {
      "cell_type": "code",
      "execution_count": 4,
      "metadata": {},
      "outputs": [],
      "source": [
        "newsitems = pd.read_csv('../preprocessing/news-items.csv')"
      ]
    },
    {
      "cell_type": "code",
      "execution_count": 5,
      "metadata": {},
      "outputs": [],
      "source": [
        "newsitems[\"id\"] = newsitems.index + 1\n",
        "newsitems.index = newsitems.index + 1"
      ]
    },
    {
      "cell_type": "code",
      "execution_count": 6,
      "metadata": {},
      "outputs": [],
      "source": [
        "# only keep the relevant columns\n",
        "newsitems = newsitems[[\"id\", \"label\", \"group\",\n",
        "                       \"title\", \"subtitle\", \"content\",\n",
        "                       \"source\", \"publishing_date\", \"category\",\n",
        "                       \"highlighted_content\", \"truthfulness\", \"readability\",\"natural_language_explanation\",\n",
        "                       \"is_qualification\"]]"
      ]
    },
    {
      "cell_type": "code",
      "execution_count": 7,
      "metadata": {},
      "outputs": [],
      "source": [
        "# only keep newsitems from group 2 and newsitems without a group (FP and TN), \n",
        "# since only these are used in the experiment\n",
        "newsitems = newsitems[(newsitems[\"group\"] == 2) | newsitems[\"group\"].isna()]\n",
        "newsitems = newsitems.drop(columns=[\"group\"])"
      ]
    },
    {
      "cell_type": "code",
      "execution_count": 8,
      "metadata": {},
      "outputs": [],
      "source": [
        "# create a new column, \"is_fake_news\", based on if \"label\" is \"FAKE\" or \"TRUE\"\n",
        "newsitems[\"is_fake_news\"] = newsitems[\"label\"].apply(lambda x: True if x == \"FAKE\" else False)\n",
        "newsitems = newsitems.drop(columns=[\"label\"])"
      ]
    },
    {
      "cell_type": "code",
      "execution_count": 9,
      "metadata": {},
      "outputs": [],
      "source": [
        "# remove percentage sign from truthfulness and convert to int\n",
        "newsitems[\"truthfulness\"] = newsitems[\"truthfulness\"].apply(lambda x: int(x.replace(\"%\", \"\")))"
      ]
    },
    {
      "cell_type": "code",
      "execution_count": 10,
      "metadata": {},
      "outputs": [
        {
          "data": {
            "text/html": [
              "<div>\n",
              "<style scoped>\n",
              "    .dataframe tbody tr th:only-of-type {\n",
              "        vertical-align: middle;\n",
              "    }\n",
              "\n",
              "    .dataframe tbody tr th {\n",
              "        vertical-align: top;\n",
              "    }\n",
              "\n",
              "    .dataframe thead th {\n",
              "        text-align: right;\n",
              "    }\n",
              "</style>\n",
              "<table border=\"1\" class=\"dataframe\">\n",
              "  <thead>\n",
              "    <tr style=\"text-align: right;\">\n",
              "      <th></th>\n",
              "      <th>id</th>\n",
              "      <th>title</th>\n",
              "      <th>subtitle</th>\n",
              "      <th>content</th>\n",
              "      <th>source</th>\n",
              "      <th>publishing_date</th>\n",
              "      <th>category</th>\n",
              "      <th>highlighted_content</th>\n",
              "      <th>truthfulness</th>\n",
              "      <th>readability</th>\n",
              "      <th>natural_language_explanation</th>\n",
              "      <th>is_qualification</th>\n",
              "      <th>is_fake_news</th>\n",
              "    </tr>\n",
              "  </thead>\n",
              "  <tbody>\n",
              "    <tr>\n",
              "      <th>7</th>\n",
              "      <td>7</td>\n",
              "      <td>Facing unbearable heat, Qatar has begun to air...</td>\n",
              "      <td>2°C: BEYOND THE LIMIT</td>\n",
              "      <td>Already one of the hottest places on Earth, Qa...</td>\n",
              "      <td>Trustworthy Source</td>\n",
              "      <td>10/16/2019</td>\n",
              "      <td>Environment</td>\n",
              "      <td>Already one of the hottest places on Earth, Qa...</td>\n",
              "      <td>90</td>\n",
              "      <td>medium</td>\n",
              "      <td>Qatar is one of the hottest countries on earth...</td>\n",
              "      <td>False</td>\n",
              "      <td>False</td>\n",
              "    </tr>\n",
              "    <tr>\n",
              "      <th>8</th>\n",
              "      <td>8</td>\n",
              "      <td>Survival International launches campaign to st...</td>\n",
              "      <td>NaN</td>\n",
              "      <td>Survival International today (Earth Day) launc...</td>\n",
              "      <td>Untrustworthy Source</td>\n",
              "      <td>04/22/2022</td>\n",
              "      <td>Environment</td>\n",
              "      <td>Survival International today (Earth Day) launc...</td>\n",
              "      <td>47</td>\n",
              "      <td>medium</td>\n",
              "      <td>The statement by Survival International that 3...</td>\n",
              "      <td>False</td>\n",
              "      <td>True</td>\n",
              "    </tr>\n",
              "    <tr>\n",
              "      <th>9</th>\n",
              "      <td>9</td>\n",
              "      <td>How Biden's climate plan could limit you to ea...</td>\n",
              "      <td>NaN</td>\n",
              "      <td>President Joe Biden's ambitious plan to slash ...</td>\n",
              "      <td>Untrustworthy Source</td>\n",
              "      <td>04/22/2021</td>\n",
              "      <td>Environment</td>\n",
              "      <td>President Joe Biden's ambitious plan to &lt;span ...</td>\n",
              "      <td>5</td>\n",
              "      <td>easy</td>\n",
              "      <td>President Joe Biden’s climate plans do not inc...</td>\n",
              "      <td>False</td>\n",
              "      <td>True</td>\n",
              "    </tr>\n",
              "    <tr>\n",
              "      <th>10</th>\n",
              "      <td>10</td>\n",
              "      <td>Several Israelis wounded in attack on Jerusale...</td>\n",
              "      <td>Israeli police arrest suspected gunman after a...</td>\n",
              "      <td>Israeli police arrested a suspect in a shootin...</td>\n",
              "      <td>Trustworthy Source</td>\n",
              "      <td>8/14/2022</td>\n",
              "      <td>Crime</td>\n",
              "      <td>\"&lt;mark&gt;Israeli police arrested a suspect in a ...</td>\n",
              "      <td>92</td>\n",
              "      <td>medium</td>\n",
              "      <td>Israeli forces have allegedly been raiding hou...</td>\n",
              "      <td>True</td>\n",
              "      <td>False</td>\n",
              "    </tr>\n",
              "    <tr>\n",
              "      <th>11</th>\n",
              "      <td>11</td>\n",
              "      <td>Young Girl Hitchhiked Through The Middle East ...</td>\n",
              "      <td>NaN</td>\n",
              "      <td>Here’s a shocking and sad story that should be...</td>\n",
              "      <td>Untrustworthy Source</td>\n",
              "      <td>4/14/2016</td>\n",
              "      <td>Crime</td>\n",
              "      <td>\"&lt;span style='background-color:#00FEFE'&gt;Here’s...</td>\n",
              "      <td>21</td>\n",
              "      <td>easy</td>\n",
              "      <td>The article misleads the readers about the tim...</td>\n",
              "      <td>False</td>\n",
              "      <td>True</td>\n",
              "    </tr>\n",
              "  </tbody>\n",
              "</table>\n",
              "</div>"
            ],
            "text/plain": [
              "    id                                              title  \\\n",
              "7    7  Facing unbearable heat, Qatar has begun to air...   \n",
              "8    8  Survival International launches campaign to st...   \n",
              "9    9  How Biden's climate plan could limit you to ea...   \n",
              "10  10  Several Israelis wounded in attack on Jerusale...   \n",
              "11  11  Young Girl Hitchhiked Through The Middle East ...   \n",
              "\n",
              "                                             subtitle  \\\n",
              "7                               2°C: BEYOND THE LIMIT   \n",
              "8                                                 NaN   \n",
              "9                                                 NaN   \n",
              "10  Israeli police arrest suspected gunman after a...   \n",
              "11                                                NaN   \n",
              "\n",
              "                                              content                 source  \\\n",
              "7   Already one of the hottest places on Earth, Qa...     Trustworthy Source   \n",
              "8   Survival International today (Earth Day) launc...  Untrustworthy Source    \n",
              "9   President Joe Biden's ambitious plan to slash ...  Untrustworthy Source    \n",
              "10  Israeli police arrested a suspect in a shootin...     Trustworthy Source   \n",
              "11  Here’s a shocking and sad story that should be...  Untrustworthy Source    \n",
              "\n",
              "   publishing_date     category  \\\n",
              "7       10/16/2019  Environment   \n",
              "8       04/22/2022  Environment   \n",
              "9       04/22/2021  Environment   \n",
              "10       8/14/2022        Crime   \n",
              "11       4/14/2016        Crime   \n",
              "\n",
              "                                  highlighted_content  truthfulness  \\\n",
              "7   Already one of the hottest places on Earth, Qa...            90   \n",
              "8   Survival International today (Earth Day) launc...            47   \n",
              "9   President Joe Biden's ambitious plan to <span ...             5   \n",
              "10  \"<mark>Israeli police arrested a suspect in a ...            92   \n",
              "11  \"<span style='background-color:#00FEFE'>Here’s...            21   \n",
              "\n",
              "   readability                       natural_language_explanation  \\\n",
              "7       medium  Qatar is one of the hottest countries on earth...   \n",
              "8       medium  The statement by Survival International that 3...   \n",
              "9         easy  President Joe Biden’s climate plans do not inc...   \n",
              "10      medium  Israeli forces have allegedly been raiding hou...   \n",
              "11        easy  The article misleads the readers about the tim...   \n",
              "\n",
              "    is_qualification  is_fake_news  \n",
              "7              False         False  \n",
              "8              False          True  \n",
              "9              False          True  \n",
              "10              True         False  \n",
              "11             False          True  "
            ]
          },
          "execution_count": 10,
          "metadata": {},
          "output_type": "execute_result"
        }
      ],
      "source": [
        "newsitems.head()"
      ]
    },
    {
      "attachments": {},
      "cell_type": "markdown",
      "metadata": {},
      "source": [
        "### Filtering out assumed cheaters"
      ]
    },
    {
      "attachments": {},
      "cell_type": "markdown",
      "metadata": {},
      "source": [
        "Assume that participants who did answer at least 5 out of 6 control questions correctly were paying attention and gave valid answers."
      ]
    },
    {
      "cell_type": "code",
      "execution_count": 11,
      "metadata": {},
      "outputs": [],
      "source": [
        "# participants who did not get 2 points in the qualification shouldn't be considered\n",
        "# journalists don't have a qualification score, so they should be kept\n",
        "df = df[(df[\"POINTS.qualification\"].isna()) | (df['POINTS.qualification'] == 2)]"
      ]
    },
    {
      "cell_type": "code",
      "execution_count": 12,
      "metadata": {},
      "outputs": [],
      "source": [
        "# journalists don't have a main score, so they should be kept\n",
        "df = df[(df[\"POINTS.main\"].isna()) | (df[\"POINTS.main\"] >= 5)]"
      ]
    },
    {
      "cell_type": "code",
      "execution_count": 13,
      "metadata": {},
      "outputs": [],
      "source": [
        "# filter out journalists who didn't reach enough points in the merged task\n",
        "df = df[df[\"POINTS\"] >= 7]"
      ]
    },
    {
      "cell_type": "code",
      "execution_count": 14,
      "metadata": {},
      "outputs": [],
      "source": [
        "def lay(data):\n",
        "    return data[data[\"JOURNALIST\"] == False]"
      ]
    },
    {
      "cell_type": "code",
      "execution_count": 15,
      "metadata": {},
      "outputs": [],
      "source": [
        "# only lay participants are considered\n",
        "df = lay(df)"
      ]
    },
    {
      "attachments": {},
      "cell_type": "markdown",
      "metadata": {},
      "source": [
        "## Demographics"
      ]
    },
    {
      "cell_type": "code",
      "execution_count": 16,
      "metadata": {},
      "outputs": [
        {
          "data": {
            "text/plain": [
              "['demographics.age',\n",
              " 'demographics.country',\n",
              " 'demographics.education',\n",
              " 'demographics.employment',\n",
              " 'demographics.gender',\n",
              " 'demographics.income',\n",
              " 'demographics.nationality']"
            ]
          },
          "execution_count": 16,
          "metadata": {},
          "output_type": "execute_result"
        }
      ],
      "source": [
        "# get columns which start with \"demographics\"\n",
        "demographics_cols = [col for col in df.columns if col.startswith('demographics')]\n",
        "demographics_cols\n",
        "# country and nationality are not relevant, since the study was conducted in the US"
      ]
    },
    {
      "cell_type": "code",
      "execution_count": 17,
      "metadata": {},
      "outputs": [
        {
          "data": {
            "text/plain": [
              "18-20           3.940887\n",
              "21-29          25.862069\n",
              "30-39          38.423645\n",
              "40-49          22.906404\n",
              "50-59           6.896552\n",
              "60-or-older     1.970443\n",
              "Name: demographics.age, dtype: float64"
            ]
          },
          "execution_count": 17,
          "metadata": {},
          "output_type": "execute_result"
        }
      ],
      "source": [
        "df[\"demographics.age\"].value_counts(normalize=True).sort_index() * 100"
      ]
    },
    {
      "cell_type": "code",
      "execution_count": 18,
      "metadata": {},
      "outputs": [
        {
          "data": {
            "text/plain": [
              "university         54.187192\n",
              "high-school        39.655172\n",
              "no-degree           2.709360\n",
              "secondary           2.216749\n",
              "upper-secondary     1.231527\n",
              "Name: demographics.education, dtype: float64"
            ]
          },
          "execution_count": 18,
          "metadata": {},
          "output_type": "execute_result"
        }
      ],
      "source": [
        "df[\"demographics.education\"].value_counts(normalize=True) * 100\n",
        "# university degree is the most common education level, this is surprising"
      ]
    },
    {
      "cell_type": "code",
      "execution_count": 19,
      "metadata": {},
      "outputs": [
        {
          "data": {
            "text/plain": [
              "salaried-employee    36.453202\n",
              "self-employed        31.773399\n",
              "unemployed           13.546798\n",
              "student               9.852217\n",
              "other                 6.403941\n",
              "civil-servant         0.738916\n",
              "retiree-pensioner     0.738916\n",
              "apprentice            0.492611\n",
              "Name: demographics.employment, dtype: float64"
            ]
          },
          "execution_count": 19,
          "metadata": {},
          "output_type": "execute_result"
        }
      ],
      "source": [
        "df[\"demographics.employment\"].value_counts(normalize=True) * 100"
      ]
    },
    {
      "cell_type": "code",
      "execution_count": 20,
      "metadata": {},
      "outputs": [
        {
          "name": "stdout",
          "output_type": "stream",
          "text": [
            "less-than-20000-usd 14.285714285714285\n",
            "20000-34999-usd 17.733990147783253\n",
            "35000-49999-usd 10.83743842364532\n",
            "50000-74999-usd 20.44334975369458\n",
            "75000-99999-usd 12.068965517241379\n",
            "over-100000-usd 13.546798029556651\n",
            "no-answer 11.083743842364532\n"
          ]
        }
      ],
      "source": [
        "income_vc = df[\"demographics.income\"].value_counts(normalize=True)\n",
        "print(\"less-than-20000-usd\", income_vc[\"less-than-20000-usd\"] * 100)\n",
        "print(\"20000-34999-usd\", income_vc[\"20000-34999-usd\"] * 100)\n",
        "print(\"35000-49999-usd\", income_vc[\"35000-49999-usd\"] * 100)\n",
        "print(\"50000-74999-usd\", income_vc[\"50000-74999-usd\"] * 100)\n",
        "print(\"75000-99999-usd\", income_vc[\"75000-99999-usd\"] * 100)\n",
        "print(\"over-100000-usd\", income_vc[\"over-100000-usd\"] * 100)\n",
        "print(\"no-answer\", income_vc[\"no-answer\"] * 100)"
      ]
    },
    {
      "cell_type": "code",
      "execution_count": 21,
      "metadata": {},
      "outputs": [
        {
          "data": {
            "text/plain": [
              "female     63.546798\n",
              "male       35.714286\n",
              "diverse     0.738916\n",
              "Name: demographics.gender, dtype: float64"
            ]
          },
          "execution_count": 21,
          "metadata": {},
          "output_type": "execute_result"
        }
      ],
      "source": [
        "df[\"demographics.gender\"].value_counts(normalize=True) * 100"
      ]
    },
    {
      "attachments": {},
      "cell_type": "markdown",
      "metadata": {},
      "source": [
        "## Define Kruskal-Wallis test function"
      ]
    },
    {
      "cell_type": "code",
      "execution_count": 22,
      "metadata": {},
      "outputs": [],
      "source": [
        "def highlight(data, highlight_any=False, alpha=0.05):\n",
        "    columns = [\"p-val\", \"p-unc\", \"p-corr\", \"p\", \"pval\"]\n",
        "\n",
        "    if highlight_any:\n",
        "        columns = data.columns\n",
        "        \n",
        "    return data.style.apply(lambda x: [\"text-decoration: underline\" if isinstance(v, (int, float)) and v < alpha and c in columns else \"\" for c, v in zip(x.index, x)], axis=1)"
      ]
    },
    {
      "cell_type": "code",
      "execution_count": 23,
      "metadata": {},
      "outputs": [],
      "source": [
        "def perform_kruskal_with_posthoc(df, col, print_results=True, between=\"FEATURE\"):\n",
        "    kruskal_test = pg.kruskal(df, dv=col, between=between, detailed=True)\n",
        "    kruskal_pval = kruskal_test[\"p-unc\"].values[0]\n",
        "\n",
        "    # uses Mann–Whitney U test under the hood\n",
        "    posthoc = pg.pairwise_tests(df, dv=col, between=between, parametric=False, padjust=\"holm\")\n",
        "\n",
        "    # posthoc = sp.posthoc_dunn(df, val_col=col, group_col=between, p_adjust=\"holm\")\n",
        "\n",
        "    if print_results:\n",
        "        print(\"Column name:\", col)\n",
        "        print(\"kruskal_pval\", kruskal_pval, \"\\n\")\n",
        "        print(posthoc, \"\\n\")\n",
        "        print(df.groupby(between)[col].describe()[[\"mean\", \"std\"]], \"\\n\")\n",
        "\n",
        "    return kruskal_test, posthoc, df.groupby(between)[col].describe()[[\"count\", \"mean\", \"std\"]]"
      ]
    },
    {
      "attachments": {},
      "cell_type": "markdown",
      "metadata": {},
      "source": [
        "## Performance"
      ]
    },
    {
      "attachments": {},
      "cell_type": "markdown",
      "metadata": {},
      "source": [
        "### AI vs Human vs Human-AI\n",
        "\n",
        "How does the AI system perform compared to humans and the combination of humans and AI? \n",
        "\n",
        "The task is to judge whether a news item is fake news or not, thus this is a binary classification problem. Since both the AI and participants are asked to rate the news items on a 0-100 scale, we use a threshold of 50, where ratings of <50 are treated as predicted fake news and ratings >=50 are treated as predicted truthful news.\n",
        "\n",
        "The metrics for the AI are calculated over the 8 news items. Metrics are calculated for each participant separately over the presented news items (e.g. a participant correctly judged 6 out of 8 news items, thus the accuracy for the participant is 6/8 = 0.75). Human-AI performance is measured after presenting the AI rating to the participants, this is also calculated for each participant separately."
      ]
    },
    {
      "attachments": {},
      "cell_type": "markdown",
      "metadata": {},
      "source": [
        "### Calculate performance metrics of the AI system"
      ]
    },
    {
      "cell_type": "code",
      "execution_count": 24,
      "metadata": {},
      "outputs": [],
      "source": [
        "RATING_THRESHOLD = 50\n",
        "\n",
        "newsitems[\"is_fake_news_pred\"] = newsitems[\"truthfulness\"] < RATING_THRESHOLD"
      ]
    },
    {
      "cell_type": "code",
      "execution_count": 25,
      "metadata": {},
      "outputs": [
        {
          "data": {
            "text/plain": [
              "True     5\n",
              "False    3\n",
              "Name: is_fake_news, dtype: int64"
            ]
          },
          "execution_count": 25,
          "metadata": {},
          "output_type": "execute_result"
        }
      ],
      "source": [
        "newsitems[\"is_fake_news\"].value_counts()"
      ]
    },
    {
      "attachments": {},
      "cell_type": "markdown",
      "metadata": {},
      "source": [
        "Since the dataset is unbalanced (5 fake news items and 3 truthful news items), we also use metrics that are more robust to unbalanced datasets than accuracy, such as precision, recall, F1-score and ROC AUC. Furthermore, a Brier score is calculated to measure the accuracy of the predicted probabilities."
      ]
    },
    {
      "cell_type": "code",
      "execution_count": 26,
      "metadata": {},
      "outputs": [
        {
          "data": {
            "text/html": [
              "<div>\n",
              "<style scoped>\n",
              "    .dataframe tbody tr th:only-of-type {\n",
              "        vertical-align: middle;\n",
              "    }\n",
              "\n",
              "    .dataframe tbody tr th {\n",
              "        vertical-align: top;\n",
              "    }\n",
              "\n",
              "    .dataframe thead th {\n",
              "        text-align: right;\n",
              "    }\n",
              "</style>\n",
              "<table border=\"1\" class=\"dataframe\">\n",
              "  <thead>\n",
              "    <tr style=\"text-align: right;\">\n",
              "      <th></th>\n",
              "      <th>accuracy</th>\n",
              "      <th>precision</th>\n",
              "      <th>recall</th>\n",
              "      <th>f1</th>\n",
              "      <th>roc_auc_score</th>\n",
              "      <th>brier_score</th>\n",
              "    </tr>\n",
              "  </thead>\n",
              "  <tbody>\n",
              "    <tr>\n",
              "      <th>0</th>\n",
              "      <td>0.75</td>\n",
              "      <td>0.8</td>\n",
              "      <td>0.8</td>\n",
              "      <td>0.8</td>\n",
              "      <td>0.666667</td>\n",
              "      <td>0.254462</td>\n",
              "    </tr>\n",
              "  </tbody>\n",
              "</table>\n",
              "</div>"
            ],
            "text/plain": [
              "   accuracy  precision  recall   f1  roc_auc_score  brier_score\n",
              "0      0.75        0.8     0.8  0.8       0.666667     0.254462"
            ]
          },
          "execution_count": 26,
          "metadata": {},
          "output_type": "execute_result"
        }
      ],
      "source": [
        "from sklearn.metrics import accuracy_score, precision_score, recall_score, f1_score, roc_auc_score, brier_score_loss, log_loss\n",
        "\n",
        "ai_accuracy = accuracy_score(newsitems[\"is_fake_news\"], newsitems[\"is_fake_news_pred\"])\n",
        "ai_precision = precision_score(newsitems[\"is_fake_news\"], newsitems[\"is_fake_news_pred\"])\n",
        "ai_recall = recall_score(newsitems[\"is_fake_news\"], newsitems[\"is_fake_news_pred\"])\n",
        "ai_f1 = f1_score(newsitems[\"is_fake_news\"], newsitems[\"is_fake_news_pred\"])\n",
        "ai_roc_auc = roc_auc_score(newsitems[\"is_fake_news\"], 1 - (newsitems[\"truthfulness\"] / 100))\n",
        "ai_brier_score = brier_score_loss(\n",
        "    newsitems[\"is_fake_news\"],\n",
        "    newsitems[\"truthfulness\"] / 100, \n",
        "    pos_label=0\n",
        ")\n",
        "\n",
        "ai_performance_df = pd.DataFrame({\n",
        "  \"accuracy\": [ai_accuracy],\n",
        "  \"precision\": [ai_precision],\n",
        "  \"recall\": [ai_recall],\n",
        "  \"f1\": [ai_f1],\n",
        "  \"roc_auc_score\": [ai_roc_auc],\n",
        "  \"brier_score\": [ai_brier_score]\n",
        "})\n",
        "\n",
        "ai_performance_df"
      ]
    },
    {
      "attachments": {},
      "cell_type": "markdown",
      "metadata": {},
      "source": [
        "### Calculate performance metrics of the participants and Human-AI teams"
      ]
    },
    {
      "cell_type": "code",
      "execution_count": 27,
      "metadata": {},
      "outputs": [],
      "source": [
        "def calculate_human_metrics(row):\n",
        "    y_true = newsitems[\"is_fake_news\"]\n",
        "    y_pred_human = []\n",
        "    y_pred_human_prob = []\n",
        "    y_pred_human_ai = []\n",
        "    y_pred_human_ai_prob = []\n",
        "\n",
        "    for i in y_true.index:\n",
        "        y_pred_human.append(row[f\"newsitem.{i}.rating-before-xai\"] < 50)\n",
        "        y_pred_human_prob.append(row[f\"newsitem.{i}.rating-before-xai\"] / 100)\n",
        "        y_pred_human_ai.append(row[f\"newsitem.{i}.rating-after-xai\"] < 50)\n",
        "        y_pred_human_ai_prob.append(row[f\"newsitem.{i}.rating-after-xai\"] / 100)\n",
        "\n",
        "    for i, _id in enumerate(y_true.index):\n",
        "        # will be used later for comparing news items\n",
        "        row[f\"newsitem.{_id}.rating-before-correct\"] = y_true[_id] == y_pred_human[i]\n",
        "        row[f\"newsitem.{_id}.rating-after-correct\"] = y_true[_id] == y_pred_human_ai[i]\n",
        "\n",
        "    human_accuracy = accuracy_score(y_true, y_pred_human)\n",
        "    human_precision = precision_score(y_true, y_pred_human, zero_division=0)\n",
        "    human_recall = recall_score(y_true, y_pred_human)\n",
        "    human_f1 = f1_score(y_true, y_pred_human)\n",
        "    human_roc_auc = roc_auc_score(y_true, 1 - np.array(y_pred_human_prob))\n",
        "    human_brier_score = brier_score_loss(y_true, y_pred_human_prob, pos_label=0)\n",
        "\n",
        "    human_ai_accuracy = accuracy_score(y_true, y_pred_human_ai)\n",
        "    human_ai_precision = precision_score(y_true, y_pred_human_ai, zero_division=0)\n",
        "    human_ai_recall = recall_score(y_true, y_pred_human_ai)\n",
        "    human_ai_f1 = f1_score(y_true, y_pred_human_ai)\n",
        "    human_ai_roc_auc = roc_auc_score(y_true, 1 - np.array(y_pred_human_ai_prob))\n",
        "    human_ai_brier_score = brier_score_loss(y_true, y_pred_human_ai_prob, pos_label=0)\n",
        "\n",
        "    row[\"human_accuracy\"] = human_accuracy\n",
        "    row[\"human_precision\"] = human_precision\n",
        "    row[\"human_recall\"] = human_recall\n",
        "    row[\"human_f1\"] = human_f1\n",
        "    row[\"human_roc_auc_score\"] = human_roc_auc\n",
        "    row[\"human_brier_score\"] = human_brier_score\n",
        "\n",
        "    row[\"human_ai_accuracy\"] = human_ai_accuracy\n",
        "    row[\"human_ai_precision\"] = human_ai_precision\n",
        "    row[\"human_ai_recall\"] = human_ai_recall\n",
        "    row[\"human_ai_f1\"] = human_ai_f1\n",
        "    row[\"human_ai_roc_auc_score\"] = human_ai_roc_auc\n",
        "    row[\"human_ai_brier_score\"] = human_ai_brier_score\n",
        "\n",
        "    return row\n",
        "\n",
        "df = df.apply(calculate_human_metrics, axis=1)"
      ]
    },
    {
      "attachments": {},
      "cell_type": "markdown",
      "metadata": {},
      "source": [
        "#### Compare AI vs Human vs Human-AI (without journalists)"
      ]
    },
    {
      "attachments": {},
      "cell_type": "markdown",
      "metadata": {},
      "source": [
        "To compare the performance of the AI system to the performance of the participants and Human-AI teams, we average the metrics across the participants."
      ]
    },
    {
      "cell_type": "code",
      "execution_count": 28,
      "metadata": {},
      "outputs": [],
      "source": [
        "# show mean human scores, mean human_ai scores and ai scores in one dataframe\n",
        "human_scores = df[[\n",
        "    \"human_accuracy\", \n",
        "    \"human_precision\", \n",
        "    \"human_recall\", \n",
        "    \"human_f1\", \n",
        "    \"human_roc_auc_score\",\n",
        "    \"human_brier_score\",\n",
        "]].copy()\n",
        "\n",
        "human_ai_scores = df[[\n",
        "    \"human_ai_accuracy\", \n",
        "    \"human_ai_precision\", \n",
        "    \"human_ai_recall\", \n",
        "    \"human_ai_f1\", \n",
        "    \"human_ai_roc_auc_score\",\n",
        "    \"human_ai_brier_score\",\n",
        "]].copy()\n",
        "\n",
        "human_scores = human_scores.rename(columns=lambda x: x.replace(\"human_\", \"\"))\n",
        "human_ai_scores = human_ai_scores.rename(columns=lambda x: x.replace(\"human_ai_\", \"\"))\n",
        "\n",
        "human_scores = human_scores.mean()\n",
        "human_ai_scores = human_ai_scores.mean()\n"
      ]
    },
    {
      "cell_type": "code",
      "execution_count": 29,
      "metadata": {},
      "outputs": [
        {
          "data": {
            "text/html": [
              "<div>\n",
              "<style scoped>\n",
              "    .dataframe tbody tr th:only-of-type {\n",
              "        vertical-align: middle;\n",
              "    }\n",
              "\n",
              "    .dataframe tbody tr th {\n",
              "        vertical-align: top;\n",
              "    }\n",
              "\n",
              "    .dataframe thead th {\n",
              "        text-align: right;\n",
              "    }\n",
              "</style>\n",
              "<table border=\"1\" class=\"dataframe\">\n",
              "  <thead>\n",
              "    <tr style=\"text-align: right;\">\n",
              "      <th></th>\n",
              "      <th>ai</th>\n",
              "      <th>human</th>\n",
              "      <th>human_ai</th>\n",
              "    </tr>\n",
              "  </thead>\n",
              "  <tbody>\n",
              "    <tr>\n",
              "      <th>accuracy</th>\n",
              "      <td>0.750000</td>\n",
              "      <td>0.730911</td>\n",
              "      <td>0.818350</td>\n",
              "    </tr>\n",
              "    <tr>\n",
              "      <th>precision</th>\n",
              "      <td>0.800000</td>\n",
              "      <td>0.849748</td>\n",
              "      <td>0.897223</td>\n",
              "    </tr>\n",
              "    <tr>\n",
              "      <th>recall</th>\n",
              "      <td>0.800000</td>\n",
              "      <td>0.706404</td>\n",
              "      <td>0.809360</td>\n",
              "    </tr>\n",
              "    <tr>\n",
              "      <th>f1</th>\n",
              "      <td>0.800000</td>\n",
              "      <td>0.749796</td>\n",
              "      <td>0.840796</td>\n",
              "    </tr>\n",
              "    <tr>\n",
              "      <th>roc_auc_score</th>\n",
              "      <td>0.666667</td>\n",
              "      <td>0.806076</td>\n",
              "      <td>0.884975</td>\n",
              "    </tr>\n",
              "    <tr>\n",
              "      <th>brier_score</th>\n",
              "      <td>0.254462</td>\n",
              "      <td>0.181032</td>\n",
              "      <td>0.134820</td>\n",
              "    </tr>\n",
              "  </tbody>\n",
              "</table>\n",
              "</div>"
            ],
            "text/plain": [
              "                     ai     human  human_ai\n",
              "accuracy       0.750000  0.730911  0.818350\n",
              "precision      0.800000  0.849748  0.897223\n",
              "recall         0.800000  0.706404  0.809360\n",
              "f1             0.800000  0.749796  0.840796\n",
              "roc_auc_score  0.666667  0.806076  0.884975\n",
              "brier_score    0.254462  0.181032  0.134820"
            ]
          },
          "execution_count": 29,
          "metadata": {},
          "output_type": "execute_result"
        }
      ],
      "source": [
        "scores_df = pd.DataFrame({\n",
        "  \"ai\": ai_performance_df.iloc[0],\n",
        "  \"human\": human_scores,\n",
        "  \"human_ai\": human_ai_scores,\n",
        "})\n",
        "\n",
        "scores_df"
      ]
    },
    {
      "cell_type": "code",
      "execution_count": 30,
      "metadata": {},
      "outputs": [],
      "source": [
        "scores_plot_df = pd.melt(\n",
        "  scores_df.drop([\"brier_score\"]).reset_index(), \n",
        "  id_vars=[\"index\"], \n",
        "  value_vars=[\"ai\", \"human\", \"human_ai\"]\n",
        ")"
      ]
    },
    {
      "cell_type": "code",
      "execution_count": 31,
      "metadata": {},
      "outputs": [
        {
          "data": {
            "image/png": "[encoded data removed]",
            "text/plain": [
              "<Figure size 647.875x500 with 1 Axes>"
            ]
          },
          "metadata": {},
          "output_type": "display_data"
        }
      ],
      "source": [
        "import matplotlib.pyplot as plt\n",
        "import seaborn as sns\n",
        "\n",
        "c = sns.catplot(x=\"variable\", y=\"value\", hue=\"index\", data=scores_plot_df,  palette=\"muted\", kind=\"bar\")\n",
        "plt.title(\"Performances of AI vs Humans vs Human-AI teams\")\n",
        "plt.ylabel(\"Score\")\n",
        "plt.xlabel(\"Model\")\n",
        "c._legend.set_title(\"Metric\")"
      ]
    },
    {
      "attachments": {},
      "cell_type": "markdown",
      "metadata": {},
      "source": [
        "#### Human vs Human-AI\n",
        "\n",
        "We use a Wilcoxon signed-rank test to determine if there is a significant difference in participants' performance before and after seeing the AI scores (and explanations)."
      ]
    },
    {
      "cell_type": "code",
      "execution_count": 32,
      "metadata": {},
      "outputs": [
        {
          "data": {
            "text/html": [
              "<style type=\"text/css\">\n",
              "#T_013c3_row0_col2 {\n",
              "  text-decoration: underline;\n",
              "}\n",
              "</style>\n",
              "<table id=\"T_013c3\">\n",
              "  <thead>\n",
              "    <tr>\n",
              "      <th class=\"blank level0\" >&nbsp;</th>\n",
              "      <th id=\"T_013c3_level0_col0\" class=\"col_heading level0 col0\" >W-val</th>\n",
              "      <th id=\"T_013c3_level0_col1\" class=\"col_heading level0 col1\" >alternative</th>\n",
              "      <th id=\"T_013c3_level0_col2\" class=\"col_heading level0 col2\" >p-val</th>\n",
              "      <th id=\"T_013c3_level0_col3\" class=\"col_heading level0 col3\" >RBC</th>\n",
              "      <th id=\"T_013c3_level0_col4\" class=\"col_heading level0 col4\" >CLES</th>\n",
              "    </tr>\n",
              "  </thead>\n",
              "  <tbody>\n",
              "    <tr>\n",
              "      <th id=\"T_013c3_level0_row0\" class=\"row_heading level0 row0\" >Wilcoxon</th>\n",
              "      <td id=\"T_013c3_row0_col0\" class=\"data row0 col0\" >5429.500000</td>\n",
              "      <td id=\"T_013c3_row0_col1\" class=\"data row0 col1\" >two-sided</td>\n",
              "      <td id=\"T_013c3_row0_col2\" class=\"data row0 col2\" >0.000000</td>\n",
              "      <td id=\"T_013c3_row0_col3\" class=\"data row0 col3\" >-0.694207</td>\n",
              "      <td id=\"T_013c3_row0_col4\" class=\"data row0 col4\" >0.345625</td>\n",
              "    </tr>\n",
              "  </tbody>\n",
              "</table>\n"
            ],
            "text/plain": [
              "<pandas.io.formats.style.Styler at 0x222df78ee00>"
            ]
          },
          "execution_count": 32,
          "metadata": {},
          "output_type": "execute_result"
        }
      ],
      "source": [
        "wilcoxon_test = pg.wilcoxon(df[\"human_accuracy\"], df[\"human_ai_accuracy\"])\n",
        "highlight(wilcoxon_test)"
      ]
    },
    {
      "cell_type": "code",
      "execution_count": 33,
      "metadata": {},
      "outputs": [
        {
          "data": {
            "text/html": [
              "<div>\n",
              "<style scoped>\n",
              "    .dataframe tbody tr th:only-of-type {\n",
              "        vertical-align: middle;\n",
              "    }\n",
              "\n",
              "    .dataframe tbody tr th {\n",
              "        vertical-align: top;\n",
              "    }\n",
              "\n",
              "    .dataframe thead th {\n",
              "        text-align: right;\n",
              "    }\n",
              "</style>\n",
              "<table border=\"1\" class=\"dataframe\">\n",
              "  <thead>\n",
              "    <tr style=\"text-align: right;\">\n",
              "      <th></th>\n",
              "      <th>human_accuracy</th>\n",
              "      <th>human_ai_accuracy</th>\n",
              "    </tr>\n",
              "  </thead>\n",
              "  <tbody>\n",
              "    <tr>\n",
              "      <th>mean</th>\n",
              "      <td>0.730911</td>\n",
              "      <td>0.818350</td>\n",
              "    </tr>\n",
              "    <tr>\n",
              "      <th>std</th>\n",
              "      <td>0.158179</td>\n",
              "      <td>0.137579</td>\n",
              "    </tr>\n",
              "  </tbody>\n",
              "</table>\n",
              "</div>"
            ],
            "text/plain": [
              "      human_accuracy  human_ai_accuracy\n",
              "mean        0.730911           0.818350\n",
              "std         0.158179           0.137579"
            ]
          },
          "execution_count": 33,
          "metadata": {},
          "output_type": "execute_result"
        }
      ],
      "source": [
        "df[[\"human_accuracy\", \"human_ai_accuracy\"]].describe().loc[[\"mean\", \"std\"]]"
      ]
    },
    {
      "attachments": {},
      "cell_type": "markdown",
      "metadata": {},
      "source": [
        "A significant difference in accuracy before and after seeing the AI score (p < 0.01). The average human accuracy before is 0.730911. The average human accuracy after (= Human-AI accuracy) is 0.818350. (AI accuracy is 0.750000)"
      ]
    },
    {
      "attachments": {},
      "cell_type": "markdown",
      "metadata": {},
      "source": [
        "#### AI vs Human-AI\n",
        "\n",
        "We use a Wilcoxon signed-rank test to determine if there is a significant difference between AI performance and Human-AI performance."
      ]
    },
    {
      "cell_type": "code",
      "execution_count": 34,
      "metadata": {},
      "outputs": [],
      "source": [
        "ai_accuracy_df = pd.DataFrame({\"accuracy\": [ai_performance_df[\"accuracy\"][0]] * len(df)})\n"
      ]
    },
    {
      "cell_type": "code",
      "execution_count": 35,
      "metadata": {},
      "outputs": [
        {
          "data": {
            "text/html": [
              "<style type=\"text/css\">\n",
              "#T_8ac2b_row0_col2 {\n",
              "  text-decoration: underline;\n",
              "}\n",
              "</style>\n",
              "<table id=\"T_8ac2b\">\n",
              "  <thead>\n",
              "    <tr>\n",
              "      <th class=\"blank level0\" >&nbsp;</th>\n",
              "      <th id=\"T_8ac2b_level0_col0\" class=\"col_heading level0 col0\" >W-val</th>\n",
              "      <th id=\"T_8ac2b_level0_col1\" class=\"col_heading level0 col1\" >alternative</th>\n",
              "      <th id=\"T_8ac2b_level0_col2\" class=\"col_heading level0 col2\" >p-val</th>\n",
              "      <th id=\"T_8ac2b_level0_col3\" class=\"col_heading level0 col3\" >RBC</th>\n",
              "      <th id=\"T_8ac2b_level0_col4\" class=\"col_heading level0 col4\" >CLES</th>\n",
              "    </tr>\n",
              "  </thead>\n",
              "  <tbody>\n",
              "    <tr>\n",
              "      <th id=\"T_8ac2b_level0_row0\" class=\"row_heading level0 row0\" >Wilcoxon</th>\n",
              "      <td id=\"T_8ac2b_row0_col0\" class=\"data row0 col0\" >8505.000000</td>\n",
              "      <td id=\"T_8ac2b_row0_col1\" class=\"data row0 col1\" >two-sided</td>\n",
              "      <td id=\"T_8ac2b_row0_col2\" class=\"data row0 col2\" >0.000000</td>\n",
              "      <td id=\"T_8ac2b_row0_col3\" class=\"data row0 col3\" >-0.588415</td>\n",
              "      <td id=\"T_8ac2b_row0_col4\" class=\"data row0 col4\" >0.318966</td>\n",
              "    </tr>\n",
              "  </tbody>\n",
              "</table>\n"
            ],
            "text/plain": [
              "<pandas.io.formats.style.Styler at 0x222da75dde0>"
            ]
          },
          "execution_count": 35,
          "metadata": {},
          "output_type": "execute_result"
        }
      ],
      "source": [
        "wilcoxon_test = pg.wilcoxon(ai_accuracy_df[\"accuracy\"], df[\"human_ai_accuracy\"])\n",
        "highlight(wilcoxon_test)"
      ]
    },
    {
      "cell_type": "code",
      "execution_count": 36,
      "metadata": {},
      "outputs": [
        {
          "name": "stdout",
          "output_type": "stream",
          "text": [
            "Mean Human-AI accuracy: 0.8183497536945813\n",
            "Mean AI accuracy: 0.75\n"
          ]
        }
      ],
      "source": [
        "print(f\"Mean Human-AI accuracy: {df[['human_ai_accuracy']].mean().values[0]}\")\n",
        "print(f\"Mean AI accuracy: {ai_performance_df[['accuracy']].mean().values[0]}\")"
      ]
    },
    {
      "attachments": {},
      "cell_type": "markdown",
      "metadata": {},
      "source": [
        "The performance of AI-Human teams is significantly higher than the one of the AI system alone (p < 0.01). The average AI accuracy is 0.750000. The average Human-AI accuracy is 0.818350."
      ]
    },
    {
      "attachments": {},
      "cell_type": "markdown",
      "metadata": {},
      "source": [
        "### Compare Human-AI performance among groups (v1 vs v2 vs v3)"
      ]
    },
    {
      "attachments": {},
      "cell_type": "markdown",
      "metadata": {},
      "source": [
        "We use a Kruskal-Wallis H-test to determine if there is a significant difference in the accuracy of the Human-AI teams among the groups."
      ]
    },
    {
      "cell_type": "code",
      "execution_count": 37,
      "metadata": {},
      "outputs": [],
      "source": [
        "kruskal, pairwise, stats = perform_kruskal_with_posthoc(df, \"human_ai_accuracy\", print_results=False);"
      ]
    },
    {
      "cell_type": "code",
      "execution_count": 38,
      "metadata": {},
      "outputs": [
        {
          "data": {
            "text/html": [
              "<style type=\"text/css\">\n",
              "</style>\n",
              "<table id=\"T_514ad\">\n",
              "  <thead>\n",
              "    <tr>\n",
              "      <th class=\"blank level0\" >&nbsp;</th>\n",
              "      <th id=\"T_514ad_level0_col0\" class=\"col_heading level0 col0\" >Source</th>\n",
              "      <th id=\"T_514ad_level0_col1\" class=\"col_heading level0 col1\" >ddof1</th>\n",
              "      <th id=\"T_514ad_level0_col2\" class=\"col_heading level0 col2\" >H</th>\n",
              "      <th id=\"T_514ad_level0_col3\" class=\"col_heading level0 col3\" >p-unc</th>\n",
              "    </tr>\n",
              "  </thead>\n",
              "  <tbody>\n",
              "    <tr>\n",
              "      <th id=\"T_514ad_level0_row0\" class=\"row_heading level0 row0\" >Kruskal</th>\n",
              "      <td id=\"T_514ad_row0_col0\" class=\"data row0 col0\" >FEATURE</td>\n",
              "      <td id=\"T_514ad_row0_col1\" class=\"data row0 col1\" >2</td>\n",
              "      <td id=\"T_514ad_row0_col2\" class=\"data row0 col2\" >0.320474</td>\n",
              "      <td id=\"T_514ad_row0_col3\" class=\"data row0 col3\" >0.851942</td>\n",
              "    </tr>\n",
              "  </tbody>\n",
              "</table>\n"
            ],
            "text/plain": [
              "<pandas.io.formats.style.Styler at 0x222df742200>"
            ]
          },
          "execution_count": 38,
          "metadata": {},
          "output_type": "execute_result"
        }
      ],
      "source": [
        "highlight(kruskal)"
      ]
    },
    {
      "cell_type": "code",
      "execution_count": 39,
      "metadata": {},
      "outputs": [
        {
          "data": {
            "text/html": [
              "<div>\n",
              "<style scoped>\n",
              "    .dataframe tbody tr th:only-of-type {\n",
              "        vertical-align: middle;\n",
              "    }\n",
              "\n",
              "    .dataframe tbody tr th {\n",
              "        vertical-align: top;\n",
              "    }\n",
              "\n",
              "    .dataframe thead th {\n",
              "        text-align: right;\n",
              "    }\n",
              "</style>\n",
              "<table border=\"1\" class=\"dataframe\">\n",
              "  <thead>\n",
              "    <tr style=\"text-align: right;\">\n",
              "      <th></th>\n",
              "      <th>count</th>\n",
              "      <th>mean</th>\n",
              "      <th>std</th>\n",
              "    </tr>\n",
              "    <tr>\n",
              "      <th>FEATURE</th>\n",
              "      <th></th>\n",
              "      <th></th>\n",
              "      <th></th>\n",
              "    </tr>\n",
              "  </thead>\n",
              "  <tbody>\n",
              "    <tr>\n",
              "      <th>basic</th>\n",
              "      <td>133.0</td>\n",
              "      <td>0.815789</td>\n",
              "      <td>0.132876</td>\n",
              "    </tr>\n",
              "    <tr>\n",
              "      <th>explanations</th>\n",
              "      <td>133.0</td>\n",
              "      <td>0.822368</td>\n",
              "      <td>0.150921</td>\n",
              "    </tr>\n",
              "    <tr>\n",
              "      <th>salient</th>\n",
              "      <td>140.0</td>\n",
              "      <td>0.816964</td>\n",
              "      <td>0.129341</td>\n",
              "    </tr>\n",
              "  </tbody>\n",
              "</table>\n",
              "</div>"
            ],
            "text/plain": [
              "              count      mean       std\n",
              "FEATURE                                \n",
              "basic         133.0  0.815789  0.132876\n",
              "explanations  133.0  0.822368  0.150921\n",
              "salient       140.0  0.816964  0.129341"
            ]
          },
          "execution_count": 39,
          "metadata": {},
          "output_type": "execute_result"
        }
      ],
      "source": [
        "stats"
      ]
    },
    {
      "attachments": {},
      "cell_type": "markdown",
      "metadata": {},
      "source": [
        "A high p-value (0.851942) indicates that there is no significant difference in performance among the groups."
      ]
    },
    {
      "cell_type": "code",
      "execution_count": 40,
      "metadata": {},
      "outputs": [
        {
          "data": {
            "image/png": "[encoded data removed]",
            "text/plain": [
              "<Figure size 600x600 with 1 Axes>"
            ]
          },
          "metadata": {},
          "output_type": "display_data"
        }
      ],
      "source": [
        "col = \"human_ai_accuracy\"\n",
        "\n",
        "accuracy_data = df.groupby(\"FEATURE\")[col].describe()[[\"mean\", \"std\"]].reset_index()\n",
        "accuracy_data[\"FEATURE\"] = pd.Categorical(accuracy_data[\"FEATURE\"], categories=[\"basic\", \"salient\", \"explanations\"], ordered=True)\n",
        "accuracy_data = accuracy_data.sort_values(\"FEATURE\")\n",
        "\n",
        "fig, ax = plt.subplots(figsize=(6, 6))\n",
        "sns.barplot(x=\"FEATURE\", y=\"mean\", data=accuracy_data, ax=ax, palette=\"muted\", width=.4)\n",
        "ax.set_ylabel(\"Mean Human-AI accuracy\")\n",
        "ax.set_xlabel(\"XAI System Version\")\n",
        "ax.set_ylim(0, 1)\n",
        "ax.errorbar(x=accuracy_data[\"FEATURE\"], y=accuracy_data[\"mean\"], yerr=accuracy_data[\"std\"], fmt='none', c='black', capsize=5)\n",
        "ax.set_xticklabels([\"Version 1\", \"Version 2\", \"Version 3\"])\n",
        "ax.set_axisbelow(True)\n",
        "ax.yaxis.grid(True, which='major', color='grey', alpha=.25)"
      ]
    },
    {
      "attachments": {},
      "cell_type": "markdown",
      "metadata": {},
      "source": [
        "### Compare the change in performance among groups (v1 vs v2 vs v3)"
      ]
    },
    {
      "cell_type": "code",
      "execution_count": 41,
      "metadata": {},
      "outputs": [],
      "source": [
        "df[\"accuracy_change\"] = df[\"human_ai_accuracy\"] - df[\"human_accuracy\"]"
      ]
    },
    {
      "cell_type": "code",
      "execution_count": 42,
      "metadata": {},
      "outputs": [
        {
          "data": {
            "text/plain": [
              "count    406.000000\n",
              "mean       0.087438\n",
              "std        0.152568\n",
              "Name: accuracy_change, dtype: float64"
            ]
          },
          "execution_count": 42,
          "metadata": {},
          "output_type": "execute_result"
        }
      ],
      "source": [
        "df[\"accuracy_change\"].describe().loc[[\"count\", \"mean\", \"std\"]]"
      ]
    },
    {
      "attachments": {},
      "cell_type": "markdown",
      "metadata": {},
      "source": [
        "On average, the accuracy of the participants increased by 0.087438 after seeing the AI score. We use a Kruskal-Wallis H-test to determine if there is a significant difference in the change in performance of the participants among the groups."
      ]
    },
    {
      "cell_type": "code",
      "execution_count": 43,
      "metadata": {},
      "outputs": [],
      "source": [
        "kruskal, pairwise, stats = perform_kruskal_with_posthoc(df, \"accuracy_change\", print_results=False);"
      ]
    },
    {
      "cell_type": "code",
      "execution_count": 44,
      "metadata": {},
      "outputs": [
        {
          "data": {
            "text/html": [
              "<style type=\"text/css\">\n",
              "</style>\n",
              "<table id=\"T_54699\">\n",
              "  <thead>\n",
              "    <tr>\n",
              "      <th class=\"blank level0\" >&nbsp;</th>\n",
              "      <th id=\"T_54699_level0_col0\" class=\"col_heading level0 col0\" >Source</th>\n",
              "      <th id=\"T_54699_level0_col1\" class=\"col_heading level0 col1\" >ddof1</th>\n",
              "      <th id=\"T_54699_level0_col2\" class=\"col_heading level0 col2\" >H</th>\n",
              "      <th id=\"T_54699_level0_col3\" class=\"col_heading level0 col3\" >p-unc</th>\n",
              "    </tr>\n",
              "  </thead>\n",
              "  <tbody>\n",
              "    <tr>\n",
              "      <th id=\"T_54699_level0_row0\" class=\"row_heading level0 row0\" >Kruskal</th>\n",
              "      <td id=\"T_54699_row0_col0\" class=\"data row0 col0\" >FEATURE</td>\n",
              "      <td id=\"T_54699_row0_col1\" class=\"data row0 col1\" >2</td>\n",
              "      <td id=\"T_54699_row0_col2\" class=\"data row0 col2\" >5.674691</td>\n",
              "      <td id=\"T_54699_row0_col3\" class=\"data row0 col3\" >0.058581</td>\n",
              "    </tr>\n",
              "  </tbody>\n",
              "</table>\n"
            ],
            "text/plain": [
              "<pandas.io.formats.style.Styler at 0x222df870be0>"
            ]
          },
          "execution_count": 44,
          "metadata": {},
          "output_type": "execute_result"
        }
      ],
      "source": [
        "highlight(kruskal)"
      ]
    },
    {
      "cell_type": "code",
      "execution_count": 45,
      "metadata": {},
      "outputs": [
        {
          "data": {
            "text/html": [
              "<div>\n",
              "<style scoped>\n",
              "    .dataframe tbody tr th:only-of-type {\n",
              "        vertical-align: middle;\n",
              "    }\n",
              "\n",
              "    .dataframe tbody tr th {\n",
              "        vertical-align: top;\n",
              "    }\n",
              "\n",
              "    .dataframe thead th {\n",
              "        text-align: right;\n",
              "    }\n",
              "</style>\n",
              "<table border=\"1\" class=\"dataframe\">\n",
              "  <thead>\n",
              "    <tr style=\"text-align: right;\">\n",
              "      <th></th>\n",
              "      <th>count</th>\n",
              "      <th>mean</th>\n",
              "      <th>std</th>\n",
              "    </tr>\n",
              "    <tr>\n",
              "      <th>FEATURE</th>\n",
              "      <th></th>\n",
              "      <th></th>\n",
              "      <th></th>\n",
              "    </tr>\n",
              "  </thead>\n",
              "  <tbody>\n",
              "    <tr>\n",
              "      <th>basic</th>\n",
              "      <td>133.0</td>\n",
              "      <td>0.106203</td>\n",
              "      <td>0.139751</td>\n",
              "    </tr>\n",
              "    <tr>\n",
              "      <th>explanations</th>\n",
              "      <td>133.0</td>\n",
              "      <td>0.084586</td>\n",
              "      <td>0.168935</td>\n",
              "    </tr>\n",
              "    <tr>\n",
              "      <th>salient</th>\n",
              "      <td>140.0</td>\n",
              "      <td>0.072321</td>\n",
              "      <td>0.146963</td>\n",
              "    </tr>\n",
              "  </tbody>\n",
              "</table>\n",
              "</div>"
            ],
            "text/plain": [
              "              count      mean       std\n",
              "FEATURE                                \n",
              "basic         133.0  0.106203  0.139751\n",
              "explanations  133.0  0.084586  0.168935\n",
              "salient       140.0  0.072321  0.146963"
            ]
          },
          "execution_count": 45,
          "metadata": {},
          "output_type": "execute_result"
        }
      ],
      "source": [
        "stats"
      ]
    },
    {
      "attachments": {},
      "cell_type": "markdown",
      "metadata": {},
      "source": [
        "There is no significant difference in change in performance among the groups."
      ]
    },
    {
      "attachments": {},
      "cell_type": "markdown",
      "metadata": {},
      "source": [
        "## Willingness to adjust judgments to match the AI system\n",
        "\n",
        "We use three metrics to measure the willingness of the participants to adjust their judgments to match the AI system:\n",
        "- Agreement percentage: percentage of news items in which the participant’s final prediction agreed with the AI’s prediction (adapted from [1] and [2])\n",
        "- Switch percentage: percentage of news items in which the participant revised their predictions to match the model’s predictions (adapted from [1] and [2])\n",
        "- AI-preference: a number between 0 and 1 that indicates the degree to which the participant prefers the AI’s prediction over their own original prediction. This is defined for individual news item ratings of one participant. It is defined as:\n",
        "\n",
        "$$\n",
        "ai\\_preference = \n",
        "\\begin{cases}\n",
        "1 & \\text{if } rating_{before} = ai\\_rating \\text{ and } ai\\_rating = rating_{after} \\\\\n",
        "0 & \\text{if } rating_{before} = ai\\_rating \\text{ and } ai\\_rating \\neq rating_{after} \\\\\n",
        "\\min(1, \\max(0, \\frac{rating_{after} - rating_{before}}{ai\\_rating - rating_{before}})) & \\text{otherwise}\n",
        "\\end{cases}\n",
        "$$\n",
        "\n",
        "[1]: https://dl.acm.org/doi/10.1145/3290605.3300509 \n",
        "[2]: https://dl.acm.org/doi/10.1145/3351095.3372852"
      ]
    },
    {
      "attachments": {},
      "cell_type": "markdown",
      "metadata": {},
      "source": [
        "### Calculate willingness to adjust metrics"
      ]
    },
    {
      "cell_type": "code",
      "execution_count": 46,
      "metadata": {},
      "outputs": [],
      "source": [
        "def agrees_with_ai(row, newsitem_id):\n",
        "    ai_rating = newsitems[newsitems[\"id\"] == newsitem_id][\"truthfulness\"].values[0]\n",
        "    human_rating = row[f\"newsitem.{newsitem_id}.rating-after-xai\"]\n",
        "    return (human_rating < 50) == (ai_rating < 50)\n",
        "\n",
        "def switched_ratings(row, newsitem_id):\n",
        "    ai_rating = newsitems[newsitems[\"id\"] == newsitem_id][\"truthfulness\"].values[0]\n",
        "    human_rating_before = row[f\"newsitem.{newsitem_id}.rating-before-xai\"]\n",
        "    human_rating_after = row[f\"newsitem.{newsitem_id}.rating-after-xai\"]\n",
        "    \n",
        "    return ((human_rating_before < 50) != (human_rating_after < 50)\n",
        "            ) and ((human_rating_after < 50) == (ai_rating < 50))\n",
        "\n",
        "def calculate_ai_preference(row, newsitem_id):\n",
        "    rating_before_col = f\"newsitem.{i}.rating-before-xai\"\n",
        "    rating_after_col = f\"newsitem.{i}.rating-after-xai\"\n",
        "    ai_rating = newsitems[newsitems[\"id\"] == newsitem_id][\"truthfulness\"].values[0]\n",
        "\n",
        "    if row[rating_before_col] == ai_rating:\n",
        "        if ai_rating == row[rating_after_col]:\n",
        "            return 1\n",
        "        else:\n",
        "            return 0\n",
        "    else:\n",
        "        return min(1, max(0, (row[rating_after_col] - row[rating_before_col]) / (ai_rating - row[rating_before_col])))\n",
        "    \n",
        "for i in range(7, 15):\n",
        "    df[f\"newsitem.{i}.agrees-with-ai\"] = df.apply(lambda row: agrees_with_ai(row, i), axis=1)\n",
        "    df[f\"newsitem.{i}.switched-to-ai\"] = df.apply(lambda row: switched_ratings(row, i), axis=1)\n",
        "    df[f\"newsitem.{i}.ai-preference\"] = df.apply(lambda row: calculate_ai_preference(row, i), axis=1)"
      ]
    },
    {
      "cell_type": "code",
      "execution_count": 47,
      "metadata": {},
      "outputs": [],
      "source": [
        "agrees_with_ai_cols = [col for col in df.columns if col.startswith('newsitem') and col.endswith('agrees-with-ai')]\n",
        "switched_to_ai_cols = [col for col in df.columns if col.startswith('newsitem') and col.endswith('switched-to-ai')]\n",
        "ai_preference_cols = [col for col in df.columns if col.startswith('newsitem') and col.endswith('ai-preference')]\n",
        "\n",
        "# calculate average AI preference over all newsitems\n",
        "df[\"agrees-with-ai\"] = df[agrees_with_ai_cols].mean(axis=1)\n",
        "df[\"switched-to-ai\"] = df[switched_to_ai_cols].mean(axis=1)\n",
        "df[\"ai-preference\"] = df[ai_preference_cols].mean(axis=1)"
      ]
    },
    {
      "attachments": {},
      "cell_type": "markdown",
      "metadata": {},
      "source": [
        "We use Kruskal-Wallis H-tests to determine if there is a significant difference in the willingness of the participants to adjust their judgments among the groups (based on the three metrics). When the test shows a significant difference, we use Mann-Whitney U tests with a Holm correction to determine which groups differ significantly."
      ]
    },
    {
      "attachments": {},
      "cell_type": "markdown",
      "metadata": {},
      "source": [
        "### Agreement percentage (v1 vs v2 vs v3)"
      ]
    },
    {
      "cell_type": "code",
      "execution_count": 48,
      "metadata": {},
      "outputs": [],
      "source": [
        "kruskal, posthoc, stats = perform_kruskal_with_posthoc(df, \"agrees-with-ai\", print_results=False);"
      ]
    },
    {
      "cell_type": "code",
      "execution_count": 49,
      "metadata": {},
      "outputs": [
        {
          "data": {
            "text/html": [
              "<style type=\"text/css\">\n",
              "#T_e6d3a_row0_col3 {\n",
              "  text-decoration: underline;\n",
              "}\n",
              "</style>\n",
              "<table id=\"T_e6d3a\">\n",
              "  <thead>\n",
              "    <tr>\n",
              "      <th class=\"blank level0\" >&nbsp;</th>\n",
              "      <th id=\"T_e6d3a_level0_col0\" class=\"col_heading level0 col0\" >Source</th>\n",
              "      <th id=\"T_e6d3a_level0_col1\" class=\"col_heading level0 col1\" >ddof1</th>\n",
              "      <th id=\"T_e6d3a_level0_col2\" class=\"col_heading level0 col2\" >H</th>\n",
              "      <th id=\"T_e6d3a_level0_col3\" class=\"col_heading level0 col3\" >p-unc</th>\n",
              "    </tr>\n",
              "  </thead>\n",
              "  <tbody>\n",
              "    <tr>\n",
              "      <th id=\"T_e6d3a_level0_row0\" class=\"row_heading level0 row0\" >Kruskal</th>\n",
              "      <td id=\"T_e6d3a_row0_col0\" class=\"data row0 col0\" >FEATURE</td>\n",
              "      <td id=\"T_e6d3a_row0_col1\" class=\"data row0 col1\" >2</td>\n",
              "      <td id=\"T_e6d3a_row0_col2\" class=\"data row0 col2\" >10.511823</td>\n",
              "      <td id=\"T_e6d3a_row0_col3\" class=\"data row0 col3\" >0.005217</td>\n",
              "    </tr>\n",
              "  </tbody>\n",
              "</table>\n"
            ],
            "text/plain": [
              "<pandas.io.formats.style.Styler at 0x222df72a530>"
            ]
          },
          "execution_count": 49,
          "metadata": {},
          "output_type": "execute_result"
        }
      ],
      "source": [
        "highlight(kruskal)"
      ]
    },
    {
      "cell_type": "code",
      "execution_count": 50,
      "metadata": {},
      "outputs": [
        {
          "data": {
            "text/html": [
              "<style type=\"text/css\">\n",
              "#T_cd771_row0_col7, #T_cd771_row0_col8, #T_cd771_row2_col7, #T_cd771_row2_col8 {\n",
              "  text-decoration: underline;\n",
              "}\n",
              "</style>\n",
              "<table id=\"T_cd771\">\n",
              "  <thead>\n",
              "    <tr>\n",
              "      <th class=\"blank level0\" >&nbsp;</th>\n",
              "      <th id=\"T_cd771_level0_col0\" class=\"col_heading level0 col0\" >Contrast</th>\n",
              "      <th id=\"T_cd771_level0_col1\" class=\"col_heading level0 col1\" >A</th>\n",
              "      <th id=\"T_cd771_level0_col2\" class=\"col_heading level0 col2\" >B</th>\n",
              "      <th id=\"T_cd771_level0_col3\" class=\"col_heading level0 col3\" >Paired</th>\n",
              "      <th id=\"T_cd771_level0_col4\" class=\"col_heading level0 col4\" >Parametric</th>\n",
              "      <th id=\"T_cd771_level0_col5\" class=\"col_heading level0 col5\" >U-val</th>\n",
              "      <th id=\"T_cd771_level0_col6\" class=\"col_heading level0 col6\" >alternative</th>\n",
              "      <th id=\"T_cd771_level0_col7\" class=\"col_heading level0 col7\" >p-unc</th>\n",
              "      <th id=\"T_cd771_level0_col8\" class=\"col_heading level0 col8\" >p-corr</th>\n",
              "      <th id=\"T_cd771_level0_col9\" class=\"col_heading level0 col9\" >p-adjust</th>\n",
              "      <th id=\"T_cd771_level0_col10\" class=\"col_heading level0 col10\" >hedges</th>\n",
              "    </tr>\n",
              "  </thead>\n",
              "  <tbody>\n",
              "    <tr>\n",
              "      <th id=\"T_cd771_level0_row0\" class=\"row_heading level0 row0\" >0</th>\n",
              "      <td id=\"T_cd771_row0_col0\" class=\"data row0 col0\" >FEATURE</td>\n",
              "      <td id=\"T_cd771_row0_col1\" class=\"data row0 col1\" >basic</td>\n",
              "      <td id=\"T_cd771_row0_col2\" class=\"data row0 col2\" >explanations</td>\n",
              "      <td id=\"T_cd771_row0_col3\" class=\"data row0 col3\" >False</td>\n",
              "      <td id=\"T_cd771_row0_col4\" class=\"data row0 col4\" >False</td>\n",
              "      <td id=\"T_cd771_row0_col5\" class=\"data row0 col5\" >7219.000000</td>\n",
              "      <td id=\"T_cd771_row0_col6\" class=\"data row0 col6\" >two-sided</td>\n",
              "      <td id=\"T_cd771_row0_col7\" class=\"data row0 col7\" >0.006941</td>\n",
              "      <td id=\"T_cd771_row0_col8\" class=\"data row0 col8\" >0.013883</td>\n",
              "      <td id=\"T_cd771_row0_col9\" class=\"data row0 col9\" >holm</td>\n",
              "      <td id=\"T_cd771_row0_col10\" class=\"data row0 col10\" >-0.321403</td>\n",
              "    </tr>\n",
              "    <tr>\n",
              "      <th id=\"T_cd771_level0_row1\" class=\"row_heading level0 row1\" >1</th>\n",
              "      <td id=\"T_cd771_row1_col0\" class=\"data row1 col0\" >FEATURE</td>\n",
              "      <td id=\"T_cd771_row1_col1\" class=\"data row1 col1\" >basic</td>\n",
              "      <td id=\"T_cd771_row1_col2\" class=\"data row1 col2\" >salient</td>\n",
              "      <td id=\"T_cd771_row1_col3\" class=\"data row1 col3\" >False</td>\n",
              "      <td id=\"T_cd771_row1_col4\" class=\"data row1 col4\" >False</td>\n",
              "      <td id=\"T_cd771_row1_col5\" class=\"data row1 col5\" >9418.000000</td>\n",
              "      <td id=\"T_cd771_row1_col6\" class=\"data row1 col6\" >two-sided</td>\n",
              "      <td id=\"T_cd771_row1_col7\" class=\"data row1 col7\" >0.864163</td>\n",
              "      <td id=\"T_cd771_row1_col8\" class=\"data row1 col8\" >0.864163</td>\n",
              "      <td id=\"T_cd771_row1_col9\" class=\"data row1 col9\" >holm</td>\n",
              "      <td id=\"T_cd771_row1_col10\" class=\"data row1 col10\" >0.014156</td>\n",
              "    </tr>\n",
              "    <tr>\n",
              "      <th id=\"T_cd771_level0_row2\" class=\"row_heading level0 row2\" >2</th>\n",
              "      <td id=\"T_cd771_row2_col0\" class=\"data row2 col0\" >FEATURE</td>\n",
              "      <td id=\"T_cd771_row2_col1\" class=\"data row2 col1\" >explanations</td>\n",
              "      <td id=\"T_cd771_row2_col2\" class=\"data row2 col2\" >salient</td>\n",
              "      <td id=\"T_cd771_row2_col3\" class=\"data row2 col3\" >False</td>\n",
              "      <td id=\"T_cd771_row2_col4\" class=\"data row2 col4\" >False</td>\n",
              "      <td id=\"T_cd771_row2_col5\" class=\"data row2 col5\" >11140.000000</td>\n",
              "      <td id=\"T_cd771_row2_col6\" class=\"data row2 col6\" >two-sided</td>\n",
              "      <td id=\"T_cd771_row2_col7\" class=\"data row2 col7\" >0.003469</td>\n",
              "      <td id=\"T_cd771_row2_col8\" class=\"data row2 col8\" >0.010407</td>\n",
              "      <td id=\"T_cd771_row2_col9\" class=\"data row2 col9\" >holm</td>\n",
              "      <td id=\"T_cd771_row2_col10\" class=\"data row2 col10\" >0.345823</td>\n",
              "    </tr>\n",
              "  </tbody>\n",
              "</table>\n"
            ],
            "text/plain": [
              "<pandas.io.formats.style.Styler at 0x222df880ee0>"
            ]
          },
          "execution_count": 50,
          "metadata": {},
          "output_type": "execute_result"
        }
      ],
      "source": [
        "highlight(posthoc)"
      ]
    },
    {
      "cell_type": "code",
      "execution_count": 51,
      "metadata": {},
      "outputs": [
        {
          "data": {
            "text/html": [
              "<div>\n",
              "<style scoped>\n",
              "    .dataframe tbody tr th:only-of-type {\n",
              "        vertical-align: middle;\n",
              "    }\n",
              "\n",
              "    .dataframe tbody tr th {\n",
              "        vertical-align: top;\n",
              "    }\n",
              "\n",
              "    .dataframe thead th {\n",
              "        text-align: right;\n",
              "    }\n",
              "</style>\n",
              "<table border=\"1\" class=\"dataframe\">\n",
              "  <thead>\n",
              "    <tr style=\"text-align: right;\">\n",
              "      <th></th>\n",
              "      <th>count</th>\n",
              "      <th>mean</th>\n",
              "      <th>std</th>\n",
              "    </tr>\n",
              "    <tr>\n",
              "      <th>FEATURE</th>\n",
              "      <th></th>\n",
              "      <th></th>\n",
              "      <th></th>\n",
              "    </tr>\n",
              "  </thead>\n",
              "  <tbody>\n",
              "    <tr>\n",
              "      <th>basic</th>\n",
              "      <td>133.0</td>\n",
              "      <td>0.736842</td>\n",
              "      <td>0.146182</td>\n",
              "    </tr>\n",
              "    <tr>\n",
              "      <th>explanations</th>\n",
              "      <td>133.0</td>\n",
              "      <td>0.781015</td>\n",
              "      <td>0.127258</td>\n",
              "    </tr>\n",
              "    <tr>\n",
              "      <th>salient</th>\n",
              "      <td>140.0</td>\n",
              "      <td>0.734821</td>\n",
              "      <td>0.138618</td>\n",
              "    </tr>\n",
              "  </tbody>\n",
              "</table>\n",
              "</div>"
            ],
            "text/plain": [
              "              count      mean       std\n",
              "FEATURE                                \n",
              "basic         133.0  0.736842  0.146182\n",
              "explanations  133.0  0.781015  0.127258\n",
              "salient       140.0  0.734821  0.138618"
            ]
          },
          "execution_count": 51,
          "metadata": {},
          "output_type": "execute_result"
        }
      ],
      "source": [
        "stats"
      ]
    },
    {
      "attachments": {},
      "cell_type": "markdown",
      "metadata": {},
      "source": [
        "There is a significant difference in **agreement percentage** among the groups (Kruskal-Wallis H-test, p=0.005217), the posthoc tests show that the agreement percentage is significantly higher in v3 than in v1 (Mann-Whitney U test, p=0.013883) or v2 (Mann-Whitney U test, p=0.010407). There is no significant difference between the agreement percentage of groups v1 and v2 (Mann-Whitney U test, p=0.864163)."
      ]
    },
    {
      "attachments": {},
      "cell_type": "markdown",
      "metadata": {},
      "source": [
        "### Switch percentage (v1 vs v2 vs v3)"
      ]
    },
    {
      "cell_type": "code",
      "execution_count": 52,
      "metadata": {},
      "outputs": [],
      "source": [
        "kruskal, posthoc, stats = perform_kruskal_with_posthoc(df, \"switched-to-ai\", print_results=False);"
      ]
    },
    {
      "cell_type": "code",
      "execution_count": 53,
      "metadata": {},
      "outputs": [
        {
          "data": {
            "text/html": [
              "<style type=\"text/css\">\n",
              "#T_62b23_row0_col3 {\n",
              "  text-decoration: underline;\n",
              "}\n",
              "</style>\n",
              "<table id=\"T_62b23\">\n",
              "  <thead>\n",
              "    <tr>\n",
              "      <th class=\"blank level0\" >&nbsp;</th>\n",
              "      <th id=\"T_62b23_level0_col0\" class=\"col_heading level0 col0\" >Source</th>\n",
              "      <th id=\"T_62b23_level0_col1\" class=\"col_heading level0 col1\" >ddof1</th>\n",
              "      <th id=\"T_62b23_level0_col2\" class=\"col_heading level0 col2\" >H</th>\n",
              "      <th id=\"T_62b23_level0_col3\" class=\"col_heading level0 col3\" >p-unc</th>\n",
              "    </tr>\n",
              "  </thead>\n",
              "  <tbody>\n",
              "    <tr>\n",
              "      <th id=\"T_62b23_level0_row0\" class=\"row_heading level0 row0\" >Kruskal</th>\n",
              "      <td id=\"T_62b23_row0_col0\" class=\"data row0 col0\" >FEATURE</td>\n",
              "      <td id=\"T_62b23_row0_col1\" class=\"data row0 col1\" >2</td>\n",
              "      <td id=\"T_62b23_row0_col2\" class=\"data row0 col2\" >10.108654</td>\n",
              "      <td id=\"T_62b23_row0_col3\" class=\"data row0 col3\" >0.006382</td>\n",
              "    </tr>\n",
              "  </tbody>\n",
              "</table>\n"
            ],
            "text/plain": [
              "<pandas.io.formats.style.Styler at 0x222df72a950>"
            ]
          },
          "execution_count": 53,
          "metadata": {},
          "output_type": "execute_result"
        }
      ],
      "source": [
        "highlight(kruskal)"
      ]
    },
    {
      "cell_type": "code",
      "execution_count": 54,
      "metadata": {},
      "outputs": [
        {
          "data": {
            "text/html": [
              "<style type=\"text/css\">\n",
              "#T_d0aa7_row2_col7, #T_d0aa7_row2_col8 {\n",
              "  text-decoration: underline;\n",
              "}\n",
              "</style>\n",
              "<table id=\"T_d0aa7\">\n",
              "  <thead>\n",
              "    <tr>\n",
              "      <th class=\"blank level0\" >&nbsp;</th>\n",
              "      <th id=\"T_d0aa7_level0_col0\" class=\"col_heading level0 col0\" >Contrast</th>\n",
              "      <th id=\"T_d0aa7_level0_col1\" class=\"col_heading level0 col1\" >A</th>\n",
              "      <th id=\"T_d0aa7_level0_col2\" class=\"col_heading level0 col2\" >B</th>\n",
              "      <th id=\"T_d0aa7_level0_col3\" class=\"col_heading level0 col3\" >Paired</th>\n",
              "      <th id=\"T_d0aa7_level0_col4\" class=\"col_heading level0 col4\" >Parametric</th>\n",
              "      <th id=\"T_d0aa7_level0_col5\" class=\"col_heading level0 col5\" >U-val</th>\n",
              "      <th id=\"T_d0aa7_level0_col6\" class=\"col_heading level0 col6\" >alternative</th>\n",
              "      <th id=\"T_d0aa7_level0_col7\" class=\"col_heading level0 col7\" >p-unc</th>\n",
              "      <th id=\"T_d0aa7_level0_col8\" class=\"col_heading level0 col8\" >p-corr</th>\n",
              "      <th id=\"T_d0aa7_level0_col9\" class=\"col_heading level0 col9\" >p-adjust</th>\n",
              "      <th id=\"T_d0aa7_level0_col10\" class=\"col_heading level0 col10\" >hedges</th>\n",
              "    </tr>\n",
              "  </thead>\n",
              "  <tbody>\n",
              "    <tr>\n",
              "      <th id=\"T_d0aa7_level0_row0\" class=\"row_heading level0 row0\" >0</th>\n",
              "      <td id=\"T_d0aa7_row0_col0\" class=\"data row0 col0\" >FEATURE</td>\n",
              "      <td id=\"T_d0aa7_row0_col1\" class=\"data row0 col1\" >basic</td>\n",
              "      <td id=\"T_d0aa7_row0_col2\" class=\"data row0 col2\" >explanations</td>\n",
              "      <td id=\"T_d0aa7_row0_col3\" class=\"data row0 col3\" >False</td>\n",
              "      <td id=\"T_d0aa7_row0_col4\" class=\"data row0 col4\" >False</td>\n",
              "      <td id=\"T_d0aa7_row0_col5\" class=\"data row0 col5\" >7899.500000</td>\n",
              "      <td id=\"T_d0aa7_row0_col6\" class=\"data row0 col6\" >two-sided</td>\n",
              "      <td id=\"T_d0aa7_row0_col7\" class=\"data row0 col7\" >0.123774</td>\n",
              "      <td id=\"T_d0aa7_row0_col8\" class=\"data row0 col8\" >0.198357</td>\n",
              "      <td id=\"T_d0aa7_row0_col9\" class=\"data row0 col9\" >holm</td>\n",
              "      <td id=\"T_d0aa7_row0_col10\" class=\"data row0 col10\" >-0.181025</td>\n",
              "    </tr>\n",
              "    <tr>\n",
              "      <th id=\"T_d0aa7_level0_row1\" class=\"row_heading level0 row1\" >1</th>\n",
              "      <td id=\"T_d0aa7_row1_col0\" class=\"data row1 col0\" >FEATURE</td>\n",
              "      <td id=\"T_d0aa7_row1_col1\" class=\"data row1 col1\" >basic</td>\n",
              "      <td id=\"T_d0aa7_row1_col2\" class=\"data row1 col2\" >salient</td>\n",
              "      <td id=\"T_d0aa7_row1_col3\" class=\"data row1 col3\" >False</td>\n",
              "      <td id=\"T_d0aa7_row1_col4\" class=\"data row1 col4\" >False</td>\n",
              "      <td id=\"T_d0aa7_row1_col5\" class=\"data row1 col5\" >10357.500000</td>\n",
              "      <td id=\"T_d0aa7_row1_col6\" class=\"data row1 col6\" >two-sided</td>\n",
              "      <td id=\"T_d0aa7_row1_col7\" class=\"data row1 col7\" >0.099179</td>\n",
              "      <td id=\"T_d0aa7_row1_col8\" class=\"data row1 col8\" >0.198357</td>\n",
              "      <td id=\"T_d0aa7_row1_col9\" class=\"data row1 col9\" >holm</td>\n",
              "      <td id=\"T_d0aa7_row1_col10\" class=\"data row1 col10\" >0.217095</td>\n",
              "    </tr>\n",
              "    <tr>\n",
              "      <th id=\"T_d0aa7_level0_row2\" class=\"row_heading level0 row2\" >2</th>\n",
              "      <td id=\"T_d0aa7_row2_col0\" class=\"data row2 col0\" >FEATURE</td>\n",
              "      <td id=\"T_d0aa7_row2_col1\" class=\"data row2 col1\" >explanations</td>\n",
              "      <td id=\"T_d0aa7_row2_col2\" class=\"data row2 col2\" >salient</td>\n",
              "      <td id=\"T_d0aa7_row2_col3\" class=\"data row2 col3\" >False</td>\n",
              "      <td id=\"T_d0aa7_row2_col4\" class=\"data row2 col4\" >False</td>\n",
              "      <td id=\"T_d0aa7_row2_col5\" class=\"data row2 col5\" >11323.000000</td>\n",
              "      <td id=\"T_d0aa7_row2_col6\" class=\"data row2 col6\" >two-sided</td>\n",
              "      <td id=\"T_d0aa7_row2_col7\" class=\"data row2 col7\" >0.001584</td>\n",
              "      <td id=\"T_d0aa7_row2_col8\" class=\"data row2 col8\" >0.004753</td>\n",
              "      <td id=\"T_d0aa7_row2_col9\" class=\"data row2 col9\" >holm</td>\n",
              "      <td id=\"T_d0aa7_row2_col10\" class=\"data row2 col10\" >0.403911</td>\n",
              "    </tr>\n",
              "  </tbody>\n",
              "</table>\n"
            ],
            "text/plain": [
              "<pandas.io.formats.style.Styler at 0x222df84e1a0>"
            ]
          },
          "execution_count": 54,
          "metadata": {},
          "output_type": "execute_result"
        }
      ],
      "source": [
        "highlight(posthoc)"
      ]
    },
    {
      "cell_type": "code",
      "execution_count": 55,
      "metadata": {},
      "outputs": [
        {
          "data": {
            "text/html": [
              "<div>\n",
              "<style scoped>\n",
              "    .dataframe tbody tr th:only-of-type {\n",
              "        vertical-align: middle;\n",
              "    }\n",
              "\n",
              "    .dataframe tbody tr th {\n",
              "        vertical-align: top;\n",
              "    }\n",
              "\n",
              "    .dataframe thead th {\n",
              "        text-align: right;\n",
              "    }\n",
              "</style>\n",
              "<table border=\"1\" class=\"dataframe\">\n",
              "  <thead>\n",
              "    <tr style=\"text-align: right;\">\n",
              "      <th></th>\n",
              "      <th>count</th>\n",
              "      <th>mean</th>\n",
              "      <th>std</th>\n",
              "    </tr>\n",
              "    <tr>\n",
              "      <th>FEATURE</th>\n",
              "      <th></th>\n",
              "      <th></th>\n",
              "      <th></th>\n",
              "    </tr>\n",
              "  </thead>\n",
              "  <tbody>\n",
              "    <tr>\n",
              "      <th>basic</th>\n",
              "      <td>133.0</td>\n",
              "      <td>0.223684</td>\n",
              "      <td>0.178809</td>\n",
              "    </tr>\n",
              "    <tr>\n",
              "      <th>explanations</th>\n",
              "      <td>133.0</td>\n",
              "      <td>0.256579</td>\n",
              "      <td>0.183554</td>\n",
              "    </tr>\n",
              "    <tr>\n",
              "      <th>salient</th>\n",
              "      <td>140.0</td>\n",
              "      <td>0.186607</td>\n",
              "      <td>0.161836</td>\n",
              "    </tr>\n",
              "  </tbody>\n",
              "</table>\n",
              "</div>"
            ],
            "text/plain": [
              "              count      mean       std\n",
              "FEATURE                                \n",
              "basic         133.0  0.223684  0.178809\n",
              "explanations  133.0  0.256579  0.183554\n",
              "salient       140.0  0.186607  0.161836"
            ]
          },
          "execution_count": 55,
          "metadata": {},
          "output_type": "execute_result"
        }
      ],
      "source": [
        "stats"
      ]
    },
    {
      "attachments": {},
      "cell_type": "markdown",
      "metadata": {},
      "source": [
        "There is a significant difference in **switch percentage** among the groups (Kruskal-Wallis H-test, p=0.006382), the posthoc tests show that switch percentage is significantly higher in v3 than in v2 (Mann-Whitney U test, p=0.004753). There is no significant difference between the switch percentage of groups v1 and v2 (Mann-Whitney U test, p=0.198357) or v1 and v3 (Mann-Whitney U test, p=0.198357)."
      ]
    },
    {
      "attachments": {},
      "cell_type": "markdown",
      "metadata": {},
      "source": [
        "### AI-preference (v1 vs v2 vs v3)"
      ]
    },
    {
      "cell_type": "code",
      "execution_count": 56,
      "metadata": {},
      "outputs": [],
      "source": [
        "kruskal, posthoc, stats = perform_kruskal_with_posthoc(df, \"ai-preference\", print_results=False);"
      ]
    },
    {
      "cell_type": "code",
      "execution_count": 57,
      "metadata": {},
      "outputs": [
        {
          "data": {
            "text/html": [
              "<style type=\"text/css\">\n",
              "#T_1141b_row0_col3 {\n",
              "  text-decoration: underline;\n",
              "}\n",
              "</style>\n",
              "<table id=\"T_1141b\">\n",
              "  <thead>\n",
              "    <tr>\n",
              "      <th class=\"blank level0\" >&nbsp;</th>\n",
              "      <th id=\"T_1141b_level0_col0\" class=\"col_heading level0 col0\" >Source</th>\n",
              "      <th id=\"T_1141b_level0_col1\" class=\"col_heading level0 col1\" >ddof1</th>\n",
              "      <th id=\"T_1141b_level0_col2\" class=\"col_heading level0 col2\" >H</th>\n",
              "      <th id=\"T_1141b_level0_col3\" class=\"col_heading level0 col3\" >p-unc</th>\n",
              "    </tr>\n",
              "  </thead>\n",
              "  <tbody>\n",
              "    <tr>\n",
              "      <th id=\"T_1141b_level0_row0\" class=\"row_heading level0 row0\" >Kruskal</th>\n",
              "      <td id=\"T_1141b_row0_col0\" class=\"data row0 col0\" >FEATURE</td>\n",
              "      <td id=\"T_1141b_row0_col1\" class=\"data row0 col1\" >2</td>\n",
              "      <td id=\"T_1141b_row0_col2\" class=\"data row0 col2\" >18.061552</td>\n",
              "      <td id=\"T_1141b_row0_col3\" class=\"data row0 col3\" >0.000120</td>\n",
              "    </tr>\n",
              "  </tbody>\n",
              "</table>\n"
            ],
            "text/plain": [
              "<pandas.io.formats.style.Styler at 0x222e09c9150>"
            ]
          },
          "execution_count": 57,
          "metadata": {},
          "output_type": "execute_result"
        }
      ],
      "source": [
        "highlight(kruskal)"
      ]
    },
    {
      "cell_type": "code",
      "execution_count": 58,
      "metadata": {},
      "outputs": [
        {
          "data": {
            "text/html": [
              "<style type=\"text/css\">\n",
              "#T_e9b95_row0_col7, #T_e9b95_row0_col8, #T_e9b95_row2_col7, #T_e9b95_row2_col8 {\n",
              "  text-decoration: underline;\n",
              "}\n",
              "</style>\n",
              "<table id=\"T_e9b95\">\n",
              "  <thead>\n",
              "    <tr>\n",
              "      <th class=\"blank level0\" >&nbsp;</th>\n",
              "      <th id=\"T_e9b95_level0_col0\" class=\"col_heading level0 col0\" >Contrast</th>\n",
              "      <th id=\"T_e9b95_level0_col1\" class=\"col_heading level0 col1\" >A</th>\n",
              "      <th id=\"T_e9b95_level0_col2\" class=\"col_heading level0 col2\" >B</th>\n",
              "      <th id=\"T_e9b95_level0_col3\" class=\"col_heading level0 col3\" >Paired</th>\n",
              "      <th id=\"T_e9b95_level0_col4\" class=\"col_heading level0 col4\" >Parametric</th>\n",
              "      <th id=\"T_e9b95_level0_col5\" class=\"col_heading level0 col5\" >U-val</th>\n",
              "      <th id=\"T_e9b95_level0_col6\" class=\"col_heading level0 col6\" >alternative</th>\n",
              "      <th id=\"T_e9b95_level0_col7\" class=\"col_heading level0 col7\" >p-unc</th>\n",
              "      <th id=\"T_e9b95_level0_col8\" class=\"col_heading level0 col8\" >p-corr</th>\n",
              "      <th id=\"T_e9b95_level0_col9\" class=\"col_heading level0 col9\" >p-adjust</th>\n",
              "      <th id=\"T_e9b95_level0_col10\" class=\"col_heading level0 col10\" >hedges</th>\n",
              "    </tr>\n",
              "  </thead>\n",
              "  <tbody>\n",
              "    <tr>\n",
              "      <th id=\"T_e9b95_level0_row0\" class=\"row_heading level0 row0\" >0</th>\n",
              "      <td id=\"T_e9b95_row0_col0\" class=\"data row0 col0\" >FEATURE</td>\n",
              "      <td id=\"T_e9b95_row0_col1\" class=\"data row0 col1\" >basic</td>\n",
              "      <td id=\"T_e9b95_row0_col2\" class=\"data row0 col2\" >explanations</td>\n",
              "      <td id=\"T_e9b95_row0_col3\" class=\"data row0 col3\" >False</td>\n",
              "      <td id=\"T_e9b95_row0_col4\" class=\"data row0 col4\" >False</td>\n",
              "      <td id=\"T_e9b95_row0_col5\" class=\"data row0 col5\" >7104.000000</td>\n",
              "      <td id=\"T_e9b95_row0_col6\" class=\"data row0 col6\" >two-sided</td>\n",
              "      <td id=\"T_e9b95_row0_col7\" class=\"data row0 col7\" >0.005545</td>\n",
              "      <td id=\"T_e9b95_row0_col8\" class=\"data row0 col8\" >0.011090</td>\n",
              "      <td id=\"T_e9b95_row0_col9\" class=\"data row0 col9\" >holm</td>\n",
              "      <td id=\"T_e9b95_row0_col10\" class=\"data row0 col10\" >-0.325073</td>\n",
              "    </tr>\n",
              "    <tr>\n",
              "      <th id=\"T_e9b95_level0_row1\" class=\"row_heading level0 row1\" >1</th>\n",
              "      <td id=\"T_e9b95_row1_col0\" class=\"data row1 col0\" >FEATURE</td>\n",
              "      <td id=\"T_e9b95_row1_col1\" class=\"data row1 col1\" >basic</td>\n",
              "      <td id=\"T_e9b95_row1_col2\" class=\"data row1 col2\" >salient</td>\n",
              "      <td id=\"T_e9b95_row1_col3\" class=\"data row1 col3\" >False</td>\n",
              "      <td id=\"T_e9b95_row1_col4\" class=\"data row1 col4\" >False</td>\n",
              "      <td id=\"T_e9b95_row1_col5\" class=\"data row1 col5\" >10309.500000</td>\n",
              "      <td id=\"T_e9b95_row1_col6\" class=\"data row1 col6\" >two-sided</td>\n",
              "      <td id=\"T_e9b95_row1_col7\" class=\"data row1 col7\" >0.125494</td>\n",
              "      <td id=\"T_e9b95_row1_col8\" class=\"data row1 col8\" >0.125494</td>\n",
              "      <td id=\"T_e9b95_row1_col9\" class=\"data row1 col9\" >holm</td>\n",
              "      <td id=\"T_e9b95_row1_col10\" class=\"data row1 col10\" >0.160249</td>\n",
              "    </tr>\n",
              "    <tr>\n",
              "      <th id=\"T_e9b95_level0_row2\" class=\"row_heading level0 row2\" >2</th>\n",
              "      <td id=\"T_e9b95_row2_col0\" class=\"data row2 col0\" >FEATURE</td>\n",
              "      <td id=\"T_e9b95_row2_col1\" class=\"data row2 col1\" >explanations</td>\n",
              "      <td id=\"T_e9b95_row2_col2\" class=\"data row2 col2\" >salient</td>\n",
              "      <td id=\"T_e9b95_row2_col3\" class=\"data row2 col3\" >False</td>\n",
              "      <td id=\"T_e9b95_row2_col4\" class=\"data row2 col4\" >False</td>\n",
              "      <td id=\"T_e9b95_row2_col5\" class=\"data row2 col5\" >11998.000000</td>\n",
              "      <td id=\"T_e9b95_row2_col6\" class=\"data row2 col6\" >two-sided</td>\n",
              "      <td id=\"T_e9b95_row2_col7\" class=\"data row2 col7\" >0.000038</td>\n",
              "      <td id=\"T_e9b95_row2_col8\" class=\"data row2 col8\" >0.000113</td>\n",
              "      <td id=\"T_e9b95_row2_col9\" class=\"data row2 col9\" >holm</td>\n",
              "      <td id=\"T_e9b95_row2_col10\" class=\"data row2 col10\" >0.482682</td>\n",
              "    </tr>\n",
              "  </tbody>\n",
              "</table>\n"
            ],
            "text/plain": [
              "<pandas.io.formats.style.Styler at 0x222da75d600>"
            ]
          },
          "execution_count": 58,
          "metadata": {},
          "output_type": "execute_result"
        }
      ],
      "source": [
        "highlight(posthoc)"
      ]
    },
    {
      "cell_type": "code",
      "execution_count": 59,
      "metadata": {},
      "outputs": [
        {
          "data": {
            "text/html": [
              "<div>\n",
              "<style scoped>\n",
              "    .dataframe tbody tr th:only-of-type {\n",
              "        vertical-align: middle;\n",
              "    }\n",
              "\n",
              "    .dataframe tbody tr th {\n",
              "        vertical-align: top;\n",
              "    }\n",
              "\n",
              "    .dataframe thead th {\n",
              "        text-align: right;\n",
              "    }\n",
              "</style>\n",
              "<table border=\"1\" class=\"dataframe\">\n",
              "  <thead>\n",
              "    <tr style=\"text-align: right;\">\n",
              "      <th></th>\n",
              "      <th>count</th>\n",
              "      <th>mean</th>\n",
              "      <th>std</th>\n",
              "    </tr>\n",
              "    <tr>\n",
              "      <th>FEATURE</th>\n",
              "      <th></th>\n",
              "      <th></th>\n",
              "      <th></th>\n",
              "    </tr>\n",
              "  </thead>\n",
              "  <tbody>\n",
              "    <tr>\n",
              "      <th>basic</th>\n",
              "      <td>133.0</td>\n",
              "      <td>0.509299</td>\n",
              "      <td>0.205499</td>\n",
              "    </tr>\n",
              "    <tr>\n",
              "      <th>explanations</th>\n",
              "      <td>133.0</td>\n",
              "      <td>0.576165</td>\n",
              "      <td>0.204720</td>\n",
              "    </tr>\n",
              "    <tr>\n",
              "      <th>salient</th>\n",
              "      <td>140.0</td>\n",
              "      <td>0.475976</td>\n",
              "      <td>0.209125</td>\n",
              "    </tr>\n",
              "  </tbody>\n",
              "</table>\n",
              "</div>"
            ],
            "text/plain": [
              "              count      mean       std\n",
              "FEATURE                                \n",
              "basic         133.0  0.509299  0.205499\n",
              "explanations  133.0  0.576165  0.204720\n",
              "salient       140.0  0.475976  0.209125"
            ]
          },
          "execution_count": 59,
          "metadata": {},
          "output_type": "execute_result"
        }
      ],
      "source": [
        "stats"
      ]
    },
    {
      "attachments": {},
      "cell_type": "markdown",
      "metadata": {},
      "source": [
        "There is a significant difference in **AI-preference** among the groups (Kruskal-Wallis H-test, p=0.00012), the posthoc tests show that AI-preference is significantly higher in v3 than in v1 (Mann-Whitney U test, p=0.011090) or v2 (Mann-Whitney U test, p=0.000113). There is no significant difference between the AI-preference of groups v1 and v2 (Mann-Whitney U test, p=0.125494)."
      ]
    },
    {
      "cell_type": "code",
      "execution_count": 60,
      "metadata": {},
      "outputs": [
        {
          "data": {
            "text/plain": [
              "(0.8186625030487245, array([0.786, 0.847]))"
            ]
          },
          "execution_count": 60,
          "metadata": {},
          "output_type": "execute_result"
        }
      ],
      "source": [
        "pg.cronbach_alpha(df[[\"agrees-with-ai\", \"switched-to-ai\", \"ai-preference\"]])"
      ]
    },
    {
      "attachments": {},
      "cell_type": "markdown",
      "metadata": {},
      "source": [
        "As the three metrics aim to measure similar concepts, we calculate Cronbach's alpha to determine if the metrics are consistent. The Cronbach's alpha is 0.818663, which indicates that the metrics are consistent."
      ]
    },
    {
      "cell_type": "code",
      "execution_count": 61,
      "metadata": {},
      "outputs": [
        {
          "data": {
            "image/png": "[encoded data removed]",
            "text/plain": [
              "<Figure size 600x600 with 1 Axes>"
            ]
          },
          "metadata": {},
          "output_type": "display_data"
        }
      ],
      "source": [
        "ai_pref_data = df.groupby(\"FEATURE\")[\"ai-preference\"].describe()[[\"mean\", \"std\"]].reset_index()\n",
        "ai_pref_data[\"FEATURE\"] = pd.Categorical(ai_pref_data[\"FEATURE\"], categories=[\"basic\", \"salient\", \"explanations\"], ordered=True)\n",
        "ai_pref_data = ai_pref_data.sort_values(\"FEATURE\")\n",
        "\n",
        "fig, ax = plt.subplots(figsize=(6, 6))\n",
        "sns.barplot(x=\"FEATURE\", y=\"mean\", data=ai_pref_data, ax=ax, palette=\"muted\", width=.4)\n",
        "ax.set_ylabel(\"Mean AI preference\")\n",
        "ax.set_xlabel(\"XAI Explanation type\")\n",
        "ax.set_ylim(0, 1)\n",
        "ax.errorbar(x=ai_pref_data[\"FEATURE\"], y=ai_pref_data[\"mean\"], yerr=ai_pref_data[\"std\"], fmt='none', c='black', capsize=5)\n",
        "ax.set_xticklabels([\"Version 1\", \"Version 2\", \"Version 3\"])\n",
        "ax.set_axisbelow(True)\n",
        "ax.yaxis.grid(True, which='major', color='grey', alpha=.25)"
      ]
    },
    {
      "attachments": {},
      "cell_type": "markdown",
      "metadata": {},
      "source": [
        "## Effects of mistakes of the system"
      ]
    },
    {
      "cell_type": "markdown",
      "metadata": {},
      "source": [
        "The experiment was designed to intentionally include mistakes of the AI system. We want to investigate if the participants are able to detect these mistakes, if they are willing to adjust their judgments to match the AI system and how they rate the AI-system when looking at the mistakes.\n",
        "\n",
        "Two types of mistakes are included in the experiment:\n",
        "- **False positive**: the AI system predicts a news item to be fake, while it is actually truthful (newsitem 14)\n",
        "- **False negative**: the AI system predicts a news item to be truthful, while it is actually fake (newsitem 13)"
      ]
    },
    {
      "cell_type": "code",
      "execution_count": 62,
      "metadata": {},
      "outputs": [],
      "source": [
        "newsitems[\"is_mistake\"] = newsitems[\"is_fake_news\"] != newsitems[\"is_fake_news_pred\"]\n",
        "newsitems[\"is_false_positive\"] = (newsitems[\"is_fake_news\"] == False) & (newsitems[\"is_fake_news_pred\"] == True)\n",
        "newsitems[\"is_false_negative\"] = (newsitems[\"is_fake_news\"] == True) & (newsitems[\"is_fake_news_pred\"] == False)\n",
        "newsitems[\"mistake_type\"] = newsitems.apply(lambda row: \"FP\" if row[\"is_false_positive\"] else \"FN\" if row[\"is_false_negative\"] else \"TP\" if row[\"is_fake_news\"] else \"TN\", axis=1)"
      ]
    },
    {
      "cell_type": "code",
      "execution_count": 63,
      "metadata": {},
      "outputs": [
        {
          "data": {
            "text/html": [
              "<div>\n",
              "<style scoped>\n",
              "    .dataframe tbody tr th:only-of-type {\n",
              "        vertical-align: middle;\n",
              "    }\n",
              "\n",
              "    .dataframe tbody tr th {\n",
              "        vertical-align: top;\n",
              "    }\n",
              "\n",
              "    .dataframe thead th {\n",
              "        text-align: right;\n",
              "    }\n",
              "</style>\n",
              "<table border=\"1\" class=\"dataframe\">\n",
              "  <thead>\n",
              "    <tr style=\"text-align: right;\">\n",
              "      <th></th>\n",
              "      <th>title</th>\n",
              "      <th>subtitle</th>\n",
              "      <th>content</th>\n",
              "      <th>truthfulness</th>\n",
              "      <th>is_fake_news</th>\n",
              "      <th>is_fake_news_pred</th>\n",
              "      <th>is_mistake</th>\n",
              "      <th>is_false_positive</th>\n",
              "      <th>is_false_negative</th>\n",
              "      <th>mistake_type</th>\n",
              "    </tr>\n",
              "  </thead>\n",
              "  <tbody>\n",
              "    <tr>\n",
              "      <th>13</th>\n",
              "      <td>JOE BIDEN SAYS BIBLE BELIEVING CHRISTIANS VIOLATE LGBT RIGHTS BY SIMPLY EXISTING</td>\n",
              "      <td>In too many places, Joe Biden said today, LGBT community members face violence with impunity, mistreatment by police, the denial of healthcare, or religious condemnation and social isolation....\\n</td>\n",
              "      <td>Vice President Joe Biden say today that the rights of the LGBT people are violated by “religious condemnation”. He is directly referring to Bible verses. The Progressive Liberals are well aware th...</td>\n",
              "      <td>97</td>\n",
              "      <td>True</td>\n",
              "      <td>False</td>\n",
              "      <td>True</td>\n",
              "      <td>False</td>\n",
              "      <td>True</td>\n",
              "      <td>FN</td>\n",
              "    </tr>\n",
              "    <tr>\n",
              "      <th>14</th>\n",
              "      <td>Boys need to talk more about feelings and fight inequality, report says</td>\n",
              "      <td>The Global Boyhood Initiative aims to enable adults to raise boys to become men who embrace healthy masculinity\\r\\n</td>\n",
              "      <td>Boys should be encouraged to ignore gender stereotypes and share their emotions, according to the team behind a new UK initiative aimed at encouraging them to talk about their feelings and speak o...</td>\n",
              "      <td>10</td>\n",
              "      <td>False</td>\n",
              "      <td>True</td>\n",
              "      <td>True</td>\n",
              "      <td>True</td>\n",
              "      <td>False</td>\n",
              "      <td>FP</td>\n",
              "    </tr>\n",
              "  </tbody>\n",
              "</table>\n",
              "</div>"
            ],
            "text/plain": [
              "                                                                               title  \\\n",
              "13  JOE BIDEN SAYS BIBLE BELIEVING CHRISTIANS VIOLATE LGBT RIGHTS BY SIMPLY EXISTING   \n",
              "14           Boys need to talk more about feelings and fight inequality, report says   \n",
              "\n",
              "                                                                                                                                                                                                subtitle  \\\n",
              "13  In too many places, Joe Biden said today, LGBT community members face violence with impunity, mistreatment by police, the denial of healthcare, or religious condemnation and social isolation....\\n   \n",
              "14                                                                                   The Global Boyhood Initiative aims to enable adults to raise boys to become men who embrace healthy masculinity\\r\\n   \n",
              "\n",
              "                                                                                                                                                                                                    content  \\\n",
              "13  Vice President Joe Biden say today that the rights of the LGBT people are violated by “religious condemnation”. He is directly referring to Bible verses. The Progressive Liberals are well aware th...   \n",
              "14  Boys should be encouraged to ignore gender stereotypes and share their emotions, according to the team behind a new UK initiative aimed at encouraging them to talk about their feelings and speak o...   \n",
              "\n",
              "    truthfulness  is_fake_news  is_fake_news_pred  is_mistake  \\\n",
              "13            97          True              False        True   \n",
              "14            10         False               True        True   \n",
              "\n",
              "    is_false_positive  is_false_negative mistake_type  \n",
              "13              False               True           FN  \n",
              "14               True              False           FP  "
            ]
          },
          "execution_count": 63,
          "metadata": {},
          "output_type": "execute_result"
        }
      ],
      "source": [
        "pd.set_option('display.max_colwidth', 200)\n",
        "\n",
        "newsitems[(newsitems[\"id\"] == 13) | (newsitems[\"id\"] == 14)][[\"title\", \"subtitle\", \"content\", \"truthfulness\", \"is_fake_news\", \"is_fake_news_pred\", \"is_mistake\", \"is_false_positive\", \"is_false_negative\", \"mistake_type\"]]"
      ]
    },
    {
      "cell_type": "code",
      "execution_count": 64,
      "metadata": {},
      "outputs": [],
      "source": [
        "newsitem_eval_df = pd.DataFrame()\n",
        "\n",
        "for i in range(7, 15):\n",
        "    newsitem_cols = [\n",
        "                     f\"newsitem.{i}.system-evaluation.classified-correctly\",\n",
        "                     f\"newsitem.{i}.system-evaluation.explanations-comprehensible-and-help-assess\",\n",
        "                     f\"newsitem.{i}.system-evaluation.indications-useful\",\n",
        "                     f\"newsitem.{i}.system-evaluation.understand-what-system-does\",\n",
        "                     f\"newsitem.{i}.system-evaluation.xai-features-useful\",\n",
        "                     f\"newsitem.{i}.rating-before-correct\",\n",
        "                     f\"newsitem.{i}.rating-after-correct\",\n",
        "                     f\"newsitem.{i}.ai-preference\",\n",
        "                     f\"newsitem.{i}.switched-to-ai\",\n",
        "                     \"FEATURE\"\n",
        "                    ]\n",
        "    newsitem_eval_df = pd.concat([newsitem_eval_df, df[newsitem_cols].rename(columns={col: col.split(\".\")[-1] for col in newsitem_cols}).assign(newsitem=i)])\n",
        "\n",
        "# make \"newsitem\" the first column\n",
        "cols = newsitem_eval_df.columns.tolist()\n",
        "cols = cols[-2:] + cols[:-2]\n",
        "newsitem_eval_df = newsitem_eval_df[cols]"
      ]
    },
    {
      "cell_type": "code",
      "execution_count": 65,
      "metadata": {},
      "outputs": [],
      "source": [
        "# join newsitem_eval_df with newsitems to get the \"is_mistake\" column\n",
        "newsitem_eval_df = newsitem_eval_df.merge(newsitems[[\"id\", \"is_fake_news\", \"is_mistake\", \"is_false_positive\", \"is_false_negative\", \"mistake_type\"]], left_on=\"newsitem\", right_on=\"id\").drop(columns=[\"id\"])"
      ]
    },
    {
      "cell_type": "markdown",
      "metadata": {},
      "source": [
        "measures:\n",
        "- on newsitem level: accuracy, change in accuracy, agreement percentage, switch percentage\n",
        "- on single rating level: ai-preference, local evaluation metrics"
      ]
    },
    {
      "cell_type": "markdown",
      "metadata": {},
      "source": [
        "### Is rating the newsitems equally difficult?"
      ]
    },
    {
      "cell_type": "markdown",
      "metadata": {},
      "source": [
        "We use a chi-squared test to determine if there is a significant difference in correct and incorrect ratings among the news items. We look at ratings before seeing the AI score. "
      ]
    },
    {
      "cell_type": "code",
      "execution_count": 66,
      "metadata": {},
      "outputs": [],
      "source": [
        "# perform chi2 test\n",
        "expected, observed, stats = pg.chi2_independence(newsitem_eval_df, x='newsitem', y='rating-before-correct')"
      ]
    },
    {
      "cell_type": "code",
      "execution_count": 67,
      "metadata": {},
      "outputs": [
        {
          "data": {
            "text/html": [
              "<style type=\"text/css\">\n",
              "#T_2d4b0_row0_col4, #T_2d4b0_row1_col4, #T_2d4b0_row2_col4, #T_2d4b0_row3_col4, #T_2d4b0_row4_col4, #T_2d4b0_row5_col4 {\n",
              "  text-decoration: underline;\n",
              "}\n",
              "</style>\n",
              "<table id=\"T_2d4b0\">\n",
              "  <thead>\n",
              "    <tr>\n",
              "      <th class=\"blank level0\" >&nbsp;</th>\n",
              "      <th id=\"T_2d4b0_level0_col0\" class=\"col_heading level0 col0\" >test</th>\n",
              "      <th id=\"T_2d4b0_level0_col1\" class=\"col_heading level0 col1\" >lambda</th>\n",
              "      <th id=\"T_2d4b0_level0_col2\" class=\"col_heading level0 col2\" >chi2</th>\n",
              "      <th id=\"T_2d4b0_level0_col3\" class=\"col_heading level0 col3\" >dof</th>\n",
              "      <th id=\"T_2d4b0_level0_col4\" class=\"col_heading level0 col4\" >pval</th>\n",
              "      <th id=\"T_2d4b0_level0_col5\" class=\"col_heading level0 col5\" >cramer</th>\n",
              "      <th id=\"T_2d4b0_level0_col6\" class=\"col_heading level0 col6\" >power</th>\n",
              "    </tr>\n",
              "  </thead>\n",
              "  <tbody>\n",
              "    <tr>\n",
              "      <th id=\"T_2d4b0_level0_row0\" class=\"row_heading level0 row0\" >0</th>\n",
              "      <td id=\"T_2d4b0_row0_col0\" class=\"data row0 col0\" >pearson</td>\n",
              "      <td id=\"T_2d4b0_row0_col1\" class=\"data row0 col1\" >1.000000</td>\n",
              "      <td id=\"T_2d4b0_row0_col2\" class=\"data row0 col2\" >474.070408</td>\n",
              "      <td id=\"T_2d4b0_row0_col3\" class=\"data row0 col3\" >7.000000</td>\n",
              "      <td id=\"T_2d4b0_row0_col4\" class=\"data row0 col4\" >0.000000</td>\n",
              "      <td id=\"T_2d4b0_row0_col5\" class=\"data row0 col5\" >0.382044</td>\n",
              "      <td id=\"T_2d4b0_row0_col6\" class=\"data row0 col6\" >1.000000</td>\n",
              "    </tr>\n",
              "    <tr>\n",
              "      <th id=\"T_2d4b0_level0_row1\" class=\"row_heading level0 row1\" >1</th>\n",
              "      <td id=\"T_2d4b0_row1_col0\" class=\"data row1 col0\" >cressie-read</td>\n",
              "      <td id=\"T_2d4b0_row1_col1\" class=\"data row1 col1\" >0.666667</td>\n",
              "      <td id=\"T_2d4b0_row1_col2\" class=\"data row1 col2\" >474.167871</td>\n",
              "      <td id=\"T_2d4b0_row1_col3\" class=\"data row1 col3\" >7.000000</td>\n",
              "      <td id=\"T_2d4b0_row1_col4\" class=\"data row1 col4\" >0.000000</td>\n",
              "      <td id=\"T_2d4b0_row1_col5\" class=\"data row1 col5\" >0.382083</td>\n",
              "      <td id=\"T_2d4b0_row1_col6\" class=\"data row1 col6\" >1.000000</td>\n",
              "    </tr>\n",
              "    <tr>\n",
              "      <th id=\"T_2d4b0_level0_row2\" class=\"row_heading level0 row2\" >2</th>\n",
              "      <td id=\"T_2d4b0_row2_col0\" class=\"data row2 col0\" >log-likelihood</td>\n",
              "      <td id=\"T_2d4b0_row2_col1\" class=\"data row2 col1\" >0.000000</td>\n",
              "      <td id=\"T_2d4b0_row2_col2\" class=\"data row2 col2\" >489.889830</td>\n",
              "      <td id=\"T_2d4b0_row2_col3\" class=\"data row2 col3\" >7.000000</td>\n",
              "      <td id=\"T_2d4b0_row2_col4\" class=\"data row2 col4\" >0.000000</td>\n",
              "      <td id=\"T_2d4b0_row2_col5\" class=\"data row2 col5\" >0.388366</td>\n",
              "      <td id=\"T_2d4b0_row2_col6\" class=\"data row2 col6\" >1.000000</td>\n",
              "    </tr>\n",
              "    <tr>\n",
              "      <th id=\"T_2d4b0_level0_row3\" class=\"row_heading level0 row3\" >3</th>\n",
              "      <td id=\"T_2d4b0_row3_col0\" class=\"data row3 col0\" >freeman-tukey</td>\n",
              "      <td id=\"T_2d4b0_row3_col1\" class=\"data row3 col1\" >-0.500000</td>\n",
              "      <td id=\"T_2d4b0_row3_col2\" class=\"data row3 col2\" >517.876552</td>\n",
              "      <td id=\"T_2d4b0_row3_col3\" class=\"data row3 col3\" >7.000000</td>\n",
              "      <td id=\"T_2d4b0_row3_col4\" class=\"data row3 col4\" >0.000000</td>\n",
              "      <td id=\"T_2d4b0_row3_col5\" class=\"data row3 col5\" >0.399305</td>\n",
              "      <td id=\"T_2d4b0_row3_col6\" class=\"data row3 col6\" >1.000000</td>\n",
              "    </tr>\n",
              "    <tr>\n",
              "      <th id=\"T_2d4b0_level0_row4\" class=\"row_heading level0 row4\" >4</th>\n",
              "      <td id=\"T_2d4b0_row4_col0\" class=\"data row4 col0\" >mod-log-likelihood</td>\n",
              "      <td id=\"T_2d4b0_row4_col1\" class=\"data row4 col1\" >-1.000000</td>\n",
              "      <td id=\"T_2d4b0_row4_col2\" class=\"data row4 col2\" >564.398137</td>\n",
              "      <td id=\"T_2d4b0_row4_col3\" class=\"data row4 col3\" >7.000000</td>\n",
              "      <td id=\"T_2d4b0_row4_col4\" class=\"data row4 col4\" >0.000000</td>\n",
              "      <td id=\"T_2d4b0_row4_col5\" class=\"data row4 col5\" >0.416855</td>\n",
              "      <td id=\"T_2d4b0_row4_col6\" class=\"data row4 col6\" >1.000000</td>\n",
              "    </tr>\n",
              "    <tr>\n",
              "      <th id=\"T_2d4b0_level0_row5\" class=\"row_heading level0 row5\" >5</th>\n",
              "      <td id=\"T_2d4b0_row5_col0\" class=\"data row5 col0\" >neyman</td>\n",
              "      <td id=\"T_2d4b0_row5_col1\" class=\"data row5 col1\" >-2.000000</td>\n",
              "      <td id=\"T_2d4b0_row5_col2\" class=\"data row5 col2\" >748.395305</td>\n",
              "      <td id=\"T_2d4b0_row5_col3\" class=\"data row5 col3\" >7.000000</td>\n",
              "      <td id=\"T_2d4b0_row5_col4\" class=\"data row5 col4\" >0.000000</td>\n",
              "      <td id=\"T_2d4b0_row5_col5\" class=\"data row5 col5\" >0.480018</td>\n",
              "      <td id=\"T_2d4b0_row5_col6\" class=\"data row5 col6\" >1.000000</td>\n",
              "    </tr>\n",
              "  </tbody>\n",
              "</table>\n"
            ],
            "text/plain": [
              "<pandas.io.formats.style.Styler at 0x222de94f3a0>"
            ]
          },
          "execution_count": 67,
          "metadata": {},
          "output_type": "execute_result"
        }
      ],
      "source": [
        "highlight(stats)"
      ]
    },
    {
      "cell_type": "markdown",
      "metadata": {},
      "source": [
        "The low p values (<0.01) show us that the newsitems are unequally difficult to rate."
      ]
    },
    {
      "cell_type": "markdown",
      "metadata": {},
      "source": [
        "### Accuracy on newsitems before and after seeing the AI score"
      ]
    },
    {
      "cell_type": "code",
      "execution_count": 68,
      "metadata": {},
      "outputs": [],
      "source": [
        "# calculate average performance over newsitems\n",
        "performance_df = newsitem_eval_df.groupby([\"newsitem\"])[[\"rating-before-correct\", \"rating-after-correct\"]].mean().reset_index()"
      ]
    },
    {
      "cell_type": "code",
      "execution_count": 69,
      "metadata": {},
      "outputs": [],
      "source": [
        "performance_df[\"accuracy-diff\"] = performance_df[\"rating-after-correct\"] - performance_df[\"rating-before-correct\"]"
      ]
    },
    {
      "cell_type": "code",
      "execution_count": 70,
      "metadata": {},
      "outputs": [],
      "source": [
        "# join newsitems with performance_df to add the rating-before-correct and rating-after-correct columns\n",
        "newsitems = newsitems.merge(performance_df, left_on=\"id\", right_on=\"newsitem\").drop(columns=[\"newsitem\"])"
      ]
    },
    {
      "cell_type": "code",
      "execution_count": 71,
      "metadata": {},
      "outputs": [
        {
          "data": {
            "image/png": "[encoded data removed]",
            "text/plain": [
              "<Figure size 600x600 with 1 Axes>"
            ]
          },
          "metadata": {},
          "output_type": "display_data"
        }
      ],
      "source": [
        "# visualize performance\n",
        "\n",
        "newsitems = newsitems.sort_values(\"rating-before-correct\")\n",
        "\n",
        "# transform data to long format\n",
        "data = newsitems[[\"id\", \"rating-before-correct\", \"rating-after-correct\"]].melt(id_vars=[\"id\"], var_name=\"measure\", value_name=\"rating\")\n",
        "sorted_ids = data[data[\"measure\"] == \"rating-before-correct\"].sort_values(\"rating\", ascending=False)[\"id\"].unique()\n",
        "\n",
        "fig, ax = plt.subplots(figsize=(6, 6))\n",
        "sns.barplot(x=\"id\", y=\"rating\", \n",
        "  hue=\"measure\", \n",
        "  data=data, \n",
        "  ax=ax, \n",
        "  palette=\"muted\", \n",
        "  order=sorted_ids)\n",
        "\n",
        "# rename legend labels\n",
        "handles, labels = ax.get_legend_handles_labels()\n",
        "# put legend outside of plot\n",
        "ax.legend(handles=handles, labels=[\"Before XAI\", \"After XAI\"], title=\"Accuracy\", bbox_to_anchor=(1.05, 1), loc=2, borderaxespad=0.)\n",
        "\n",
        "\n",
        "ax.set_ylabel(\"Accuracy before and after XAI\")\n",
        "ax.set_xlabel(\"Newsitem\")\n",
        "\n",
        "# set the ticks belonging to ids 13 and 14 to red\n",
        "for tick in ax.get_xticklabels():\n",
        "    if int(tick.get_text()) in [13, 14]:\n",
        "        tick.set_color(\"red\")\n",
        "\n",
        "ticks = [f\"{_id}\\n{newsitems[newsitems['id'] == _id].mistake_type.values[0]}\" for _id in sorted_ids]\n",
        "ax.set_xticklabels(ticks)\n",
        "ax.set_axisbelow(True)\n",
        "ax.yaxis.grid(True, which='major', color='grey', alpha=.25)\n"
      ]
    },
    {
      "cell_type": "markdown",
      "metadata": {},
      "source": [
        "The graph shows that in the case of all newsitems, the accuracy of the participants increased after seeing the AI score, except for the system mistakes where it decreased.\n",
        "\n",
        "Next we look at the change in accuracy."
      ]
    },
    {
      "cell_type": "code",
      "execution_count": 72,
      "metadata": {},
      "outputs": [
        {
          "data": {
            "image/png": "[encoded data removed]",
            "text/plain": [
              "<Figure size 600x600 with 1 Axes>"
            ]
          },
          "metadata": {},
          "output_type": "display_data"
        }
      ],
      "source": [
        "blue = \"#4C72B0\"\n",
        "red = \"#DB5F57\"\n",
        "\n",
        "fig, ax = plt.subplots(figsize=(6, 6))\n",
        "sns.barplot(x=\"id\", y=\"accuracy-diff\", data=newsitems, ax=ax, palette=\"muted\", width=.5, order=newsitems.sort_values(\"accuracy-diff\", ascending=False)[\"id\"])\n",
        "ax.set_ylabel(\"Accuracy difference after and before XAI\")\n",
        "ax.set_xlabel(\"Newsitem\")\n",
        "\n",
        "ticks = [f\"{item.id}\\n{item.mistake_type}\" for i, item in newsitems.sort_values(\"accuracy-diff\", ascending=False).iterrows()]\n",
        "ax.set_xticklabels(ticks)\n",
        "\n",
        "# set the colors of the bars based on their value\n",
        "for i, bar in enumerate(ax.patches):\n",
        "  if bar.get_height() > 0:\n",
        "    bar.set_color(blue)\n",
        "  else:\n",
        "    bar.set_color(red)\n",
        "\n",
        "# set the last two ticks to red\n",
        "ax.get_xticklabels()[-2].set_color(\"red\")\n",
        "ax.get_xticklabels()[-1].set_color(\"red\")\n",
        "\n",
        "ax.set_axisbelow(True)\n",
        "ax.yaxis.grid(True, which='major', color='grey', alpha=.25)\n"
      ]
    },
    {
      "cell_type": "code",
      "execution_count": 73,
      "metadata": {},
      "outputs": [
        {
          "data": {
            "text/html": [
              "<div>\n",
              "<style scoped>\n",
              "    .dataframe tbody tr th:only-of-type {\n",
              "        vertical-align: middle;\n",
              "    }\n",
              "\n",
              "    .dataframe tbody tr th {\n",
              "        vertical-align: top;\n",
              "    }\n",
              "\n",
              "    .dataframe thead th {\n",
              "        text-align: right;\n",
              "    }\n",
              "</style>\n",
              "<table border=\"1\" class=\"dataframe\">\n",
              "  <thead>\n",
              "    <tr style=\"text-align: right;\">\n",
              "      <th></th>\n",
              "      <th>count</th>\n",
              "      <th>mean</th>\n",
              "      <th>std</th>\n",
              "      <th>min</th>\n",
              "      <th>25%</th>\n",
              "      <th>50%</th>\n",
              "      <th>75%</th>\n",
              "      <th>max</th>\n",
              "    </tr>\n",
              "    <tr>\n",
              "      <th>is_mistake</th>\n",
              "      <th></th>\n",
              "      <th></th>\n",
              "      <th></th>\n",
              "      <th></th>\n",
              "      <th></th>\n",
              "      <th></th>\n",
              "      <th></th>\n",
              "      <th></th>\n",
              "    </tr>\n",
              "  </thead>\n",
              "  <tbody>\n",
              "    <tr>\n",
              "      <th>False</th>\n",
              "      <td>6.0</td>\n",
              "      <td>0.198686</td>\n",
              "      <td>0.111559</td>\n",
              "      <td>0.041872</td>\n",
              "      <td>0.136700</td>\n",
              "      <td>0.198276</td>\n",
              "      <td>0.269089</td>\n",
              "      <td>0.344828</td>\n",
              "    </tr>\n",
              "    <tr>\n",
              "      <th>True</th>\n",
              "      <td>2.0</td>\n",
              "      <td>-0.246305</td>\n",
              "      <td>0.076632</td>\n",
              "      <td>-0.300493</td>\n",
              "      <td>-0.273399</td>\n",
              "      <td>-0.246305</td>\n",
              "      <td>-0.219212</td>\n",
              "      <td>-0.192118</td>\n",
              "    </tr>\n",
              "  </tbody>\n",
              "</table>\n",
              "</div>"
            ],
            "text/plain": [
              "            count      mean       std       min       25%       50%       75%  \\\n",
              "is_mistake                                                                      \n",
              "False         6.0  0.198686  0.111559  0.041872  0.136700  0.198276  0.269089   \n",
              "True          2.0 -0.246305  0.076632 -0.300493 -0.273399 -0.246305 -0.219212   \n",
              "\n",
              "                 max  \n",
              "is_mistake            \n",
              "False       0.344828  \n",
              "True       -0.192118  "
            ]
          },
          "execution_count": 73,
          "metadata": {},
          "output_type": "execute_result"
        }
      ],
      "source": [
        "newsitems.groupby(\"is_mistake\")[\"accuracy-diff\"].describe()"
      ]
    },
    {
      "cell_type": "code",
      "execution_count": 74,
      "metadata": {},
      "outputs": [
        {
          "data": {
            "text/html": [
              "<style type=\"text/css\">\n",
              "</style>\n",
              "<table id=\"T_50c20\">\n",
              "  <thead>\n",
              "    <tr>\n",
              "      <th class=\"blank level0\" >&nbsp;</th>\n",
              "      <th id=\"T_50c20_level0_col0\" class=\"col_heading level0 col0\" >U-val</th>\n",
              "      <th id=\"T_50c20_level0_col1\" class=\"col_heading level0 col1\" >alternative</th>\n",
              "      <th id=\"T_50c20_level0_col2\" class=\"col_heading level0 col2\" >p-val</th>\n",
              "      <th id=\"T_50c20_level0_col3\" class=\"col_heading level0 col3\" >RBC</th>\n",
              "      <th id=\"T_50c20_level0_col4\" class=\"col_heading level0 col4\" >CLES</th>\n",
              "    </tr>\n",
              "  </thead>\n",
              "  <tbody>\n",
              "    <tr>\n",
              "      <th id=\"T_50c20_level0_row0\" class=\"row_heading level0 row0\" >MWU</th>\n",
              "      <td id=\"T_50c20_row0_col0\" class=\"data row0 col0\" >0.000000</td>\n",
              "      <td id=\"T_50c20_row0_col1\" class=\"data row0 col1\" >two-sided</td>\n",
              "      <td id=\"T_50c20_row0_col2\" class=\"data row0 col2\" >0.071429</td>\n",
              "      <td id=\"T_50c20_row0_col3\" class=\"data row0 col3\" >1.000000</td>\n",
              "      <td id=\"T_50c20_row0_col4\" class=\"data row0 col4\" >0.000000</td>\n",
              "    </tr>\n",
              "  </tbody>\n",
              "</table>\n"
            ],
            "text/plain": [
              "<pandas.io.formats.style.Styler at 0x222e17a46a0>"
            ]
          },
          "execution_count": 74,
          "metadata": {},
          "output_type": "execute_result"
        }
      ],
      "source": [
        "mwu_test = pg.mwu(\n",
        "    newsitems[newsitems[\"is_mistake\"] == True][\"accuracy-diff\"],\n",
        "    newsitems[newsitems[\"is_mistake\"] == False][\"accuracy-diff\"]\n",
        ")\n",
        "\n",
        "highlight(mwu_test)"
      ]
    },
    {
      "cell_type": "markdown",
      "metadata": {},
      "source": [
        "The MWU test shows that there is no significant difference in the change in accuracy between the newsitems (p=0.071429). **This test might not be relevant because of the low number of items (2 mistakes, 6 no mistakes)**"
      ]
    },
    {
      "cell_type": "markdown",
      "metadata": {},
      "source": [
        "We perform a chi-squared test to determine if there is a significant difference in the number of correct and incorrect ratings among the news items after seeing the AI score among newsitems where the AI made a mistake vs newsitems where the AI did not make a mistake."
      ]
    },
    {
      "cell_type": "code",
      "execution_count": 75,
      "metadata": {},
      "outputs": [],
      "source": [
        "# perform chi2 test\n",
        "expected, observed, stats = pg.chi2_independence(newsitem_eval_df, x='is_mistake', y='rating-after-correct')"
      ]
    },
    {
      "cell_type": "code",
      "execution_count": 76,
      "metadata": {},
      "outputs": [
        {
          "data": {
            "text/html": [
              "<style type=\"text/css\">\n",
              "#T_0fa09_row0_col4, #T_0fa09_row1_col4, #T_0fa09_row2_col4, #T_0fa09_row3_col4, #T_0fa09_row4_col4, #T_0fa09_row5_col4 {\n",
              "  text-decoration: underline;\n",
              "}\n",
              "</style>\n",
              "<table id=\"T_0fa09\">\n",
              "  <thead>\n",
              "    <tr>\n",
              "      <th class=\"blank level0\" >&nbsp;</th>\n",
              "      <th id=\"T_0fa09_level0_col0\" class=\"col_heading level0 col0\" >test</th>\n",
              "      <th id=\"T_0fa09_level0_col1\" class=\"col_heading level0 col1\" >lambda</th>\n",
              "      <th id=\"T_0fa09_level0_col2\" class=\"col_heading level0 col2\" >chi2</th>\n",
              "      <th id=\"T_0fa09_level0_col3\" class=\"col_heading level0 col3\" >dof</th>\n",
              "      <th id=\"T_0fa09_level0_col4\" class=\"col_heading level0 col4\" >pval</th>\n",
              "      <th id=\"T_0fa09_level0_col5\" class=\"col_heading level0 col5\" >cramer</th>\n",
              "      <th id=\"T_0fa09_level0_col6\" class=\"col_heading level0 col6\" >power</th>\n",
              "    </tr>\n",
              "  </thead>\n",
              "  <tbody>\n",
              "    <tr>\n",
              "      <th id=\"T_0fa09_level0_row0\" class=\"row_heading level0 row0\" >0</th>\n",
              "      <td id=\"T_0fa09_row0_col0\" class=\"data row0 col0\" >pearson</td>\n",
              "      <td id=\"T_0fa09_row0_col1\" class=\"data row0 col1\" >1.000000</td>\n",
              "      <td id=\"T_0fa09_row0_col2\" class=\"data row0 col2\" >241.953100</td>\n",
              "      <td id=\"T_0fa09_row0_col3\" class=\"data row0 col3\" >1.000000</td>\n",
              "      <td id=\"T_0fa09_row0_col4\" class=\"data row0 col4\" >0.000000</td>\n",
              "      <td id=\"T_0fa09_row0_col5\" class=\"data row0 col5\" >0.272934</td>\n",
              "      <td id=\"T_0fa09_row0_col6\" class=\"data row0 col6\" >1.000000</td>\n",
              "    </tr>\n",
              "    <tr>\n",
              "      <th id=\"T_0fa09_level0_row1\" class=\"row_heading level0 row1\" >1</th>\n",
              "      <td id=\"T_0fa09_row1_col0\" class=\"data row1 col0\" >cressie-read</td>\n",
              "      <td id=\"T_0fa09_row1_col1\" class=\"data row1 col1\" >0.666667</td>\n",
              "      <td id=\"T_0fa09_row1_col2\" class=\"data row1 col2\" >232.123054</td>\n",
              "      <td id=\"T_0fa09_row1_col3\" class=\"data row1 col3\" >1.000000</td>\n",
              "      <td id=\"T_0fa09_row1_col4\" class=\"data row1 col4\" >0.000000</td>\n",
              "      <td id=\"T_0fa09_row1_col5\" class=\"data row1 col5\" >0.267332</td>\n",
              "      <td id=\"T_0fa09_row1_col6\" class=\"data row1 col6\" >1.000000</td>\n",
              "    </tr>\n",
              "    <tr>\n",
              "      <th id=\"T_0fa09_level0_row2\" class=\"row_heading level0 row2\" >2</th>\n",
              "      <td id=\"T_0fa09_row2_col0\" class=\"data row2 col0\" >log-likelihood</td>\n",
              "      <td id=\"T_0fa09_row2_col1\" class=\"data row2 col1\" >0.000000</td>\n",
              "      <td id=\"T_0fa09_row2_col2\" class=\"data row2 col2\" >217.283935</td>\n",
              "      <td id=\"T_0fa09_row2_col3\" class=\"data row2 col3\" >1.000000</td>\n",
              "      <td id=\"T_0fa09_row2_col4\" class=\"data row2 col4\" >0.000000</td>\n",
              "      <td id=\"T_0fa09_row2_col5\" class=\"data row2 col5\" >0.258646</td>\n",
              "      <td id=\"T_0fa09_row2_col6\" class=\"data row2 col6\" >1.000000</td>\n",
              "    </tr>\n",
              "    <tr>\n",
              "      <th id=\"T_0fa09_level0_row3\" class=\"row_heading level0 row3\" >3</th>\n",
              "      <td id=\"T_0fa09_row3_col0\" class=\"data row3 col0\" >freeman-tukey</td>\n",
              "      <td id=\"T_0fa09_row3_col1\" class=\"data row3 col1\" >-0.500000</td>\n",
              "      <td id=\"T_0fa09_row3_col2\" class=\"data row3 col2\" >209.705625</td>\n",
              "      <td id=\"T_0fa09_row3_col3\" class=\"data row3 col3\" >1.000000</td>\n",
              "      <td id=\"T_0fa09_row3_col4\" class=\"data row3 col4\" >0.000000</td>\n",
              "      <td id=\"T_0fa09_row3_col5\" class=\"data row3 col5\" >0.254096</td>\n",
              "      <td id=\"T_0fa09_row3_col6\" class=\"data row3 col6\" >1.000000</td>\n",
              "    </tr>\n",
              "    <tr>\n",
              "      <th id=\"T_0fa09_level0_row4\" class=\"row_heading level0 row4\" >4</th>\n",
              "      <td id=\"T_0fa09_row4_col0\" class=\"data row4 col0\" >mod-log-likelihood</td>\n",
              "      <td id=\"T_0fa09_row4_col1\" class=\"data row4 col1\" >-1.000000</td>\n",
              "      <td id=\"T_0fa09_row4_col2\" class=\"data row4 col2\" >204.686662</td>\n",
              "      <td id=\"T_0fa09_row4_col3\" class=\"data row4 col3\" >1.000000</td>\n",
              "      <td id=\"T_0fa09_row4_col4\" class=\"data row4 col4\" >0.000000</td>\n",
              "      <td id=\"T_0fa09_row4_col5\" class=\"data row4 col5\" >0.251036</td>\n",
              "      <td id=\"T_0fa09_row4_col6\" class=\"data row4 col6\" >1.000000</td>\n",
              "    </tr>\n",
              "    <tr>\n",
              "      <th id=\"T_0fa09_level0_row5\" class=\"row_heading level0 row5\" >5</th>\n",
              "      <td id=\"T_0fa09_row5_col0\" class=\"data row5 col0\" >neyman</td>\n",
              "      <td id=\"T_0fa09_row5_col1\" class=\"data row5 col1\" >-2.000000</td>\n",
              "      <td id=\"T_0fa09_row5_col2\" class=\"data row5 col2\" >201.138985</td>\n",
              "      <td id=\"T_0fa09_row5_col3\" class=\"data row5 col3\" >1.000000</td>\n",
              "      <td id=\"T_0fa09_row5_col4\" class=\"data row5 col4\" >0.000000</td>\n",
              "      <td id=\"T_0fa09_row5_col5\" class=\"data row5 col5\" >0.248851</td>\n",
              "      <td id=\"T_0fa09_row5_col6\" class=\"data row5 col6\" >1.000000</td>\n",
              "    </tr>\n",
              "  </tbody>\n",
              "</table>\n"
            ],
            "text/plain": [
              "<pandas.io.formats.style.Styler at 0x222e17a7550>"
            ]
          },
          "execution_count": 76,
          "metadata": {},
          "output_type": "execute_result"
        }
      ],
      "source": [
        "highlight(stats)"
      ]
    },
    {
      "cell_type": "code",
      "execution_count": 77,
      "metadata": {},
      "outputs": [
        {
          "data": {
            "text/plain": [
              "is_mistake\n",
              "False    0.879310\n",
              "True     0.635468\n",
              "Name: rating-after-correct, dtype: float64"
            ]
          },
          "execution_count": 77,
          "metadata": {},
          "output_type": "execute_result"
        }
      ],
      "source": [
        "newsitem_eval_df.groupby(\"is_mistake\")[\"rating-after-correct\"].mean()"
      ]
    },
    {
      "cell_type": "markdown",
      "metadata": {},
      "source": [
        "### Define MWU"
      ]
    },
    {
      "cell_type": "code",
      "execution_count": 78,
      "metadata": {},
      "outputs": [],
      "source": [
        "def perform_mwu(df, dv, between):\n",
        "    # get both possible values of the between variable\n",
        "    values = df[between].unique()\n",
        "\n",
        "    if len(values) != 2:\n",
        "        raise ValueError(\"The between variable should have exactly two possible values\")\n",
        "    \n",
        "    # check if dv is a numeric variable\n",
        "    value = df[dv].values[0]\n",
        "    is_numeric = isinstance(value, (int, float, complex))\n",
        "    \n",
        "    if not is_numeric:\n",
        "        raise ValueError(\"The dependent variable should be numeric\")\n",
        "\n",
        "    mwu_test = pg.mwu(\n",
        "        df[df[between] == values[0]][dv],\n",
        "        df[df[between] == values[1]][dv]\n",
        "    )\n",
        "\n",
        "    stats = df.groupby(between)[dv].describe()[[\"count\", \"mean\", \"std\"]]\n",
        "\n",
        "    return mwu_test, stats"
      ]
    },
    {
      "cell_type": "markdown",
      "metadata": {},
      "source": [
        "### AI-preference on newsitems"
      ]
    },
    {
      "cell_type": "code",
      "execution_count": 79,
      "metadata": {},
      "outputs": [],
      "source": [
        "ai_preference_means = newsitem_eval_df.groupby(\"newsitem\")[\"ai-preference\"].mean().reset_index()"
      ]
    },
    {
      "cell_type": "code",
      "execution_count": 80,
      "metadata": {},
      "outputs": [
        {
          "data": {
            "image/png": "[encoded data removed]",
            "text/plain": [
              "<Figure size 600x600 with 1 Axes>"
            ]
          },
          "metadata": {},
          "output_type": "display_data"
        }
      ],
      "source": [
        "sorted_ids = ai_preference_means.sort_values(\"ai-preference\", ascending=False)[\"newsitem\"].unique()\n",
        "\n",
        "fig, ax = plt.subplots(figsize=(6, 6))\n",
        "sns.barplot(\n",
        "  x=\"newsitem\", \n",
        "  y=\"ai-preference\", \n",
        "  data=ai_preference_means, \n",
        "  ax=ax, \n",
        "  palette=\"muted\", \n",
        "  width=.5, \n",
        "  order=sorted_ids\n",
        ")\n",
        "\n",
        "ticks = [f\"{_id}\\n{newsitems[newsitems['id'] == _id].mistake_type.values[0]}\" for _id in sorted_ids]\n",
        "ax.set_xticklabels(ticks)\n",
        "\n",
        "ax.set_ylabel(\"AI-preference\")\n",
        "ax.set_xlabel(\"Newsitem\")\n",
        "\n",
        "# set the colors of the bars based on their value\n",
        "for i, bar in enumerate(ax.patches):\n",
        "  if bar.get_height() > 0:\n",
        "    bar.set_color(blue)\n",
        "  else:\n",
        "    bar.set_color(red)\n",
        "\n",
        "# set the last two ticks to red\n",
        "ax.get_xticklabels()[-2].set_color(\"red\")\n",
        "ax.get_xticklabels()[-1].set_color(\"red\")\n",
        "\n",
        "ax.set_axisbelow(True)\n",
        "ax.yaxis.grid(True, which='major', color='grey', alpha=.25)"
      ]
    },
    {
      "cell_type": "code",
      "execution_count": 81,
      "metadata": {},
      "outputs": [],
      "source": [
        "mwu, stats = perform_mwu(newsitem_eval_df, dv=\"ai-preference\", between=\"is_mistake\")"
      ]
    },
    {
      "cell_type": "code",
      "execution_count": 82,
      "metadata": {},
      "outputs": [
        {
          "data": {
            "text/html": [
              "<style type=\"text/css\">\n",
              "#T_7b48b_row0_col2 {\n",
              "  text-decoration: underline;\n",
              "}\n",
              "</style>\n",
              "<table id=\"T_7b48b\">\n",
              "  <thead>\n",
              "    <tr>\n",
              "      <th class=\"blank level0\" >&nbsp;</th>\n",
              "      <th id=\"T_7b48b_level0_col0\" class=\"col_heading level0 col0\" >U-val</th>\n",
              "      <th id=\"T_7b48b_level0_col1\" class=\"col_heading level0 col1\" >alternative</th>\n",
              "      <th id=\"T_7b48b_level0_col2\" class=\"col_heading level0 col2\" >p-val</th>\n",
              "      <th id=\"T_7b48b_level0_col3\" class=\"col_heading level0 col3\" >RBC</th>\n",
              "      <th id=\"T_7b48b_level0_col4\" class=\"col_heading level0 col4\" >CLES</th>\n",
              "    </tr>\n",
              "  </thead>\n",
              "  <tbody>\n",
              "    <tr>\n",
              "      <th id=\"T_7b48b_level0_row0\" class=\"row_heading level0 row0\" >MWU</th>\n",
              "      <td id=\"T_7b48b_row0_col0\" class=\"data row0 col0\" >1366683.500000</td>\n",
              "      <td id=\"T_7b48b_row0_col1\" class=\"data row0 col1\" >two-sided</td>\n",
              "      <td id=\"T_7b48b_row0_col2\" class=\"data row0 col2\" >0.000000</td>\n",
              "      <td id=\"T_7b48b_row0_col3\" class=\"data row0 col3\" >-0.381862</td>\n",
              "      <td id=\"T_7b48b_row0_col4\" class=\"data row0 col4\" >0.690931</td>\n",
              "    </tr>\n",
              "  </tbody>\n",
              "</table>\n"
            ],
            "text/plain": [
              "<pandas.io.formats.style.Styler at 0x222e17a5750>"
            ]
          },
          "execution_count": 82,
          "metadata": {},
          "output_type": "execute_result"
        }
      ],
      "source": [
        "highlight(mwu)"
      ]
    },
    {
      "cell_type": "code",
      "execution_count": 83,
      "metadata": {},
      "outputs": [
        {
          "data": {
            "text/html": [
              "<div>\n",
              "<style scoped>\n",
              "    .dataframe tbody tr th:only-of-type {\n",
              "        vertical-align: middle;\n",
              "    }\n",
              "\n",
              "    .dataframe tbody tr th {\n",
              "        vertical-align: top;\n",
              "    }\n",
              "\n",
              "    .dataframe thead th {\n",
              "        text-align: right;\n",
              "    }\n",
              "</style>\n",
              "<table border=\"1\" class=\"dataframe\">\n",
              "  <thead>\n",
              "    <tr style=\"text-align: right;\">\n",
              "      <th></th>\n",
              "      <th>count</th>\n",
              "      <th>mean</th>\n",
              "      <th>std</th>\n",
              "    </tr>\n",
              "    <tr>\n",
              "      <th>is_mistake</th>\n",
              "      <th></th>\n",
              "      <th></th>\n",
              "      <th></th>\n",
              "    </tr>\n",
              "  </thead>\n",
              "  <tbody>\n",
              "    <tr>\n",
              "      <th>False</th>\n",
              "      <td>2436.0</td>\n",
              "      <td>0.592599</td>\n",
              "      <td>0.388072</td>\n",
              "    </tr>\n",
              "    <tr>\n",
              "      <th>True</th>\n",
              "      <td>812.0</td>\n",
              "      <td>0.301055</td>\n",
              "      <td>0.358981</td>\n",
              "    </tr>\n",
              "  </tbody>\n",
              "</table>\n",
              "</div>"
            ],
            "text/plain": [
              "             count      mean       std\n",
              "is_mistake                            \n",
              "False       2436.0  0.592599  0.388072\n",
              "True         812.0  0.301055  0.358981"
            ]
          },
          "execution_count": 83,
          "metadata": {},
          "output_type": "execute_result"
        }
      ],
      "source": [
        "stats"
      ]
    },
    {
      "cell_type": "markdown",
      "metadata": {},
      "source": [
        "### Local evaluation of newsitems"
      ]
    },
    {
      "cell_type": "code",
      "execution_count": 84,
      "metadata": {},
      "outputs": [],
      "source": [
        "local_eval_cols = [\n",
        "    'classified-correctly', # The AI-System classified the news items correctly\n",
        "    'explanations-comprehensible-and-help-assess', # The presented explanations are comprehensible and help me with assessing the news articles\n",
        "    'indications-useful', # The indications given by the AI-System are useful to assess the truthfulness of the news article\n",
        "    'understand-what-system-does', # I understand what the AI-System does\n",
        "    'xai-features-useful' # The explainability features presented are useful to assess the truthfulness of the news article\n",
        "]"
      ]
    },
    {
      "cell_type": "code",
      "execution_count": 85,
      "metadata": {},
      "outputs": [],
      "source": [
        "local_eval_means = newsitem_eval_df.groupby('newsitem')[local_eval_cols].mean().reset_index()"
      ]
    },
    {
      "cell_type": "code",
      "execution_count": 86,
      "metadata": {},
      "outputs": [],
      "source": [
        "chart_data = local_eval_means.melt(id_vars=[\"newsitem\"], var_name=\"measure\", value_name=\"rating\")"
      ]
    },
    {
      "cell_type": "code",
      "execution_count": 87,
      "metadata": {},
      "outputs": [
        {
          "data": {
            "image/png": "[encoded data removed]",
            "text/plain": [
              "<Figure size 640x480 with 1 Axes>"
            ]
          },
          "metadata": {},
          "output_type": "display_data"
        }
      ],
      "source": [
        "sorted_ids = chart_data[chart_data[\"measure\"] == \"classified-correctly\"].sort_values(\"rating\", ascending=False)[\"newsitem\"].unique()\n",
        "\n",
        "fig, ax = plt.subplots()\n",
        "sns.barplot(\n",
        "  x=\"newsitem\", \n",
        "  y=\"rating\", \n",
        "  hue=\"measure\", \n",
        "  data=chart_data, \n",
        "  ax=ax, \n",
        "  palette=\"muted\",\n",
        "  order=sorted_ids\n",
        "  )\n",
        "\n",
        "# put legend outside of the plot\n",
        "ax.legend(bbox_to_anchor=(1.05, 1), loc=2, borderaxespad=0.)\n",
        "\n",
        "ax.set_ylabel(\"Mean local evaluation metrics\")\n",
        "ax.set_xlabel(\"Newsitem\")\n",
        "\n",
        "# set y scale to 0-7\n",
        "ax.set_ylim(1, 7)\n",
        "\n",
        "# set the ticks belonging to ids 13 and 14 to red\n",
        "for tick in ax.get_xticklabels():\n",
        "    if int(tick.get_text()) in [13, 14]:\n",
        "        tick.set_color(\"red\")\n",
        "\n",
        "ticks = [f\"{_id}\\n{newsitems[newsitems['id'] == _id].mistake_type.values[0]}\" for _id in sorted_ids]\n",
        "ax.set_xticklabels(ticks)\n",
        "\n",
        "ax.set_axisbelow(True)\n",
        "ax.yaxis.grid(True, which='major', color='grey', alpha=.25)\n"
      ]
    },
    {
      "cell_type": "code",
      "execution_count": 88,
      "metadata": {},
      "outputs": [],
      "source": [
        "summary_data = []\n",
        "\n",
        "for col in local_eval_cols:\n",
        "    mwu, stats = perform_mwu(newsitem_eval_df, dv=col, between=\"is_mistake\")\n",
        "    summary_data.append({\n",
        "        \"measure\": col,\n",
        "        \"mwu\": mwu[\"U-val\"].values[0],\n",
        "        \"mwu-p\": mwu[\"p-val\"].values[0],\n",
        "        \"mean-no-mistake\": stats.loc[False, \"mean\"],\n",
        "        \"std-no-mistake\": stats.loc[False, \"std\"],\n",
        "        \"mean-mistake\": stats.loc[True, \"mean\"],\n",
        "        \"std-mistake\": stats.loc[True, \"std\"],\n",
        "    })\n",
        "\n",
        "summary_df = pd.DataFrame(summary_data)"
      ]
    },
    {
      "cell_type": "code",
      "execution_count": 89,
      "metadata": {},
      "outputs": [
        {
          "data": {
            "text/html": [
              "<style type=\"text/css\">\n",
              "#T_da3d5_row0_col2, #T_da3d5_row1_col2, #T_da3d5_row2_col2, #T_da3d5_row3_col2, #T_da3d5_row4_col2 {\n",
              "  text-decoration: underline;\n",
              "}\n",
              "</style>\n",
              "<table id=\"T_da3d5\">\n",
              "  <thead>\n",
              "    <tr>\n",
              "      <th class=\"blank level0\" >&nbsp;</th>\n",
              "      <th id=\"T_da3d5_level0_col0\" class=\"col_heading level0 col0\" >measure</th>\n",
              "      <th id=\"T_da3d5_level0_col1\" class=\"col_heading level0 col1\" >mwu</th>\n",
              "      <th id=\"T_da3d5_level0_col2\" class=\"col_heading level0 col2\" >mwu-p</th>\n",
              "      <th id=\"T_da3d5_level0_col3\" class=\"col_heading level0 col3\" >mean-no-mistake</th>\n",
              "      <th id=\"T_da3d5_level0_col4\" class=\"col_heading level0 col4\" >std-no-mistake</th>\n",
              "      <th id=\"T_da3d5_level0_col5\" class=\"col_heading level0 col5\" >mean-mistake</th>\n",
              "      <th id=\"T_da3d5_level0_col6\" class=\"col_heading level0 col6\" >std-mistake</th>\n",
              "    </tr>\n",
              "  </thead>\n",
              "  <tbody>\n",
              "    <tr>\n",
              "      <th id=\"T_da3d5_level0_row0\" class=\"row_heading level0 row0\" >0</th>\n",
              "      <td id=\"T_da3d5_row0_col0\" class=\"data row0 col0\" >classified-correctly</td>\n",
              "      <td id=\"T_da3d5_row0_col1\" class=\"data row0 col1\" >1549605.500000</td>\n",
              "      <td id=\"T_da3d5_row0_col2\" class=\"data row0 col2\" >0.000000</td>\n",
              "      <td id=\"T_da3d5_row0_col3\" class=\"data row0 col3\" >6.119869</td>\n",
              "      <td id=\"T_da3d5_row0_col4\" class=\"data row0 col4\" >1.224493</td>\n",
              "      <td id=\"T_da3d5_row0_col5\" class=\"data row0 col5\" >3.852217</td>\n",
              "      <td id=\"T_da3d5_row0_col6\" class=\"data row0 col6\" >2.227024</td>\n",
              "    </tr>\n",
              "    <tr>\n",
              "      <th id=\"T_da3d5_level0_row1\" class=\"row_heading level0 row1\" >1</th>\n",
              "      <td id=\"T_da3d5_row1_col0\" class=\"data row1 col0\" >explanations-comprehensible-and-help-assess</td>\n",
              "      <td id=\"T_da3d5_row1_col1\" class=\"data row1 col1\" >1289826.500000</td>\n",
              "      <td id=\"T_da3d5_row1_col2\" class=\"data row1 col2\" >0.000000</td>\n",
              "      <td id=\"T_da3d5_row1_col3\" class=\"data row1 col3\" >6.163383</td>\n",
              "      <td id=\"T_da3d5_row1_col4\" class=\"data row1 col4\" >1.070603</td>\n",
              "      <td id=\"T_da3d5_row1_col5\" class=\"data row1 col5\" >5.277094</td>\n",
              "      <td id=\"T_da3d5_row1_col6\" class=\"data row1 col6\" >1.685016</td>\n",
              "    </tr>\n",
              "    <tr>\n",
              "      <th id=\"T_da3d5_level0_row2\" class=\"row_heading level0 row2\" >2</th>\n",
              "      <td id=\"T_da3d5_row2_col0\" class=\"data row2 col0\" >indications-useful</td>\n",
              "      <td id=\"T_da3d5_row2_col1\" class=\"data row2 col1\" >1354785.000000</td>\n",
              "      <td id=\"T_da3d5_row2_col2\" class=\"data row2 col2\" >0.000000</td>\n",
              "      <td id=\"T_da3d5_row2_col3\" class=\"data row2 col3\" >6.075944</td>\n",
              "      <td id=\"T_da3d5_row2_col4\" class=\"data row2 col4\" >1.144750</td>\n",
              "      <td id=\"T_da3d5_row2_col5\" class=\"data row2 col5\" >4.865764</td>\n",
              "      <td id=\"T_da3d5_row2_col6\" class=\"data row2 col6\" >1.884576</td>\n",
              "    </tr>\n",
              "    <tr>\n",
              "      <th id=\"T_da3d5_level0_row3\" class=\"row_heading level0 row3\" >3</th>\n",
              "      <td id=\"T_da3d5_row3_col0\" class=\"data row3 col0\" >understand-what-system-does</td>\n",
              "      <td id=\"T_da3d5_row3_col1\" class=\"data row3 col1\" >1168118.000000</td>\n",
              "      <td id=\"T_da3d5_row3_col2\" class=\"data row3 col2\" >0.000000</td>\n",
              "      <td id=\"T_da3d5_row3_col3\" class=\"data row3 col3\" >6.323071</td>\n",
              "      <td id=\"T_da3d5_row3_col4\" class=\"data row3 col4\" >0.872285</td>\n",
              "      <td id=\"T_da3d5_row3_col5\" class=\"data row3 col5\" >5.848522</td>\n",
              "      <td id=\"T_da3d5_row3_col6\" class=\"data row3 col6\" >1.346488</td>\n",
              "    </tr>\n",
              "    <tr>\n",
              "      <th id=\"T_da3d5_level0_row4\" class=\"row_heading level0 row4\" >4</th>\n",
              "      <td id=\"T_da3d5_row4_col0\" class=\"data row4 col0\" >xai-features-useful</td>\n",
              "      <td id=\"T_da3d5_row4_col1\" class=\"data row4 col1\" >1271111.000000</td>\n",
              "      <td id=\"T_da3d5_row4_col2\" class=\"data row4 col2\" >0.000000</td>\n",
              "      <td id=\"T_da3d5_row4_col3\" class=\"data row4 col3\" >6.135468</td>\n",
              "      <td id=\"T_da3d5_row4_col4\" class=\"data row4 col4\" >1.057543</td>\n",
              "      <td id=\"T_da3d5_row4_col5\" class=\"data row4 col5\" >5.246305</td>\n",
              "      <td id=\"T_da3d5_row4_col6\" class=\"data row4 col6\" >1.733381</td>\n",
              "    </tr>\n",
              "  </tbody>\n",
              "</table>\n"
            ],
            "text/plain": [
              "<pandas.io.formats.style.Styler at 0x222e1a60ee0>"
            ]
          },
          "execution_count": 89,
          "metadata": {},
          "output_type": "execute_result"
        }
      ],
      "source": [
        "highlight(summary_df, highlight_any=True)"
      ]
    },
    {
      "attachments": {},
      "cell_type": "markdown",
      "metadata": {},
      "source": [
        "## Analysis of open questions"
      ]
    },
    {
      "cell_type": "code",
      "execution_count": 90,
      "metadata": {},
      "outputs": [],
      "source": [
        "# TODO"
      ]
    }
  ],
  "metadata": {
    "kernelspec": {
      "display_name": "base",
      "language": "python",
      "name": "python3"
    },
    "language_info": {
      "codemirror_mode": {
        "name": "ipython",
        "version": 3
      },
      "file_extension": ".py",
      "mimetype": "text/x-python",
      "name": "python",
      "nbconvert_exporter": "python",
      "pygments_lexer": "ipython3",
      "version": "3.10.9"
    },
    "orig_nbformat": 4
  },
  "nbformat": 4,
  "nbformat_minor": 2
}
