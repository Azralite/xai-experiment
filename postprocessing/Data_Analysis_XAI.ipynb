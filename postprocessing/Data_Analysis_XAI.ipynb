{
  "cells": [
    {
      "attachments": {},
      "cell_type": "markdown",
      "metadata": {},
      "source": [
        "# XAI Experiment Data Analysis\n",
        "\n",
        "## Data Analysis todo list\n",
        "\n",
        "- [x] Import and preprocess data\n",
        "- [x] Demographics general overview \n",
        "- [X] Performance (accuracy etc.)\n",
        "  - [X] AI vs Human vs Human-AI\n",
        "  - [X] Compare Human-AI performance among groups (v1 vs v2 vs v3)\n",
        "  - [ ] Compare Human-AI performance among groups and layperson vs journalists (including interaction effects)\n",
        "- [ ] Willingness to adjust judgments to match the AI system (Agreement percentage, switch percentage and AI preference)\n",
        "  - [X] Compare among groups (v1 vs v2 vs v3)\n",
        "  - [ ] Compare among groups and layperson vs journalists (including interaction effects)\n",
        "- [ ] Effects of mistakes of the system (FP and FN)\n",
        "  - [ ] Performance and willingness to adjust at FP and FN compared to other news items\n",
        "  - [ ] Local evaluation metrics of FP and FN compared to other news items\n",
        "- [ ] Analysis of open questions\n",
        "  - [ ] What criteria do you usually use to judge whether a news/article is reliable?\n",
        "  - [ ] What other information would you like to obtain to better assess the truthfulness of an article?\n",
        "  - [ ] What functionality would be a good addition?"
      ]
    },
    {
      "cell_type": "code",
      "execution_count": 1,
      "metadata": {},
      "outputs": [],
      "source": [
        "import json\n",
        "import pandas as pd\n",
        "import requests\n",
        "import io\n",
        "from urllib.request import urlopen\n",
        "import json\n",
        "import logging\n",
        "import seaborn as sns\n",
        "import matplotlib.pyplot as plt\n",
        "import numpy as np\n",
        "from pandas.io.json import json_normalize\n",
        "import pingouin as pg"
      ]
    },
    {
      "attachments": {},
      "cell_type": "markdown",
      "metadata": {},
      "source": [
        "## Import and preprocess data"
      ]
    },
    {
      "attachments": {},
      "cell_type": "markdown",
      "metadata": {},
      "source": [
        "### Read questionnaire data"
      ]
    },
    {
      "cell_type": "code",
      "execution_count": 2,
      "metadata": {},
      "outputs": [],
      "source": [
        "df_v1 = pd.read_csv('data/v1_cleaned.csv')\n",
        "df_v2 = pd.read_csv('data/v2_cleaned.csv')\n",
        "df_v3 = pd.read_csv('data/v3_cleaned.csv')"
      ]
    },
    {
      "cell_type": "code",
      "execution_count": 3,
      "metadata": {},
      "outputs": [],
      "source": [
        "# merge the two dataframes\n",
        "df = pd.concat([df_v1, df_v2, df_v3], ignore_index=True)"
      ]
    },
    {
      "cell_type": "code",
      "execution_count": 4,
      "metadata": {},
      "outputs": [],
      "source": [
        "# make sure seperate dataframes are not used\n",
        "del df_v1\n",
        "del df_v2\n",
        "del df_v3"
      ]
    },
    {
      "attachments": {},
      "cell_type": "markdown",
      "metadata": {},
      "source": [
        "### Read news items"
      ]
    },
    {
      "cell_type": "code",
      "execution_count": 5,
      "metadata": {},
      "outputs": [],
      "source": [
        "newsitems = pd.read_csv('../preprocessing/news-items.csv')"
      ]
    },
    {
      "cell_type": "code",
      "execution_count": 6,
      "metadata": {},
      "outputs": [],
      "source": [
        "newsitems[\"id\"] = newsitems.index + 1\n",
        "newsitems.index = newsitems.index + 1"
      ]
    },
    {
      "cell_type": "code",
      "execution_count": 7,
      "metadata": {},
      "outputs": [],
      "source": [
        "# only keep the relevant columns\n",
        "newsitems = newsitems[[\"id\", \"label\", \"group\",\n",
        "                       \"title\", \"subtitle\", \"content\",\n",
        "                       \"source\", \"publishing_date\", \"category\",\n",
        "                       \"highlighted_content\", \"truthfulness\", \"readability\",\"natural_language_explanation\",\n",
        "                       \"is_false_positive\", \"is_true_negative\", \"is_qualification\"]]"
      ]
    },
    {
      "cell_type": "code",
      "execution_count": 8,
      "metadata": {},
      "outputs": [],
      "source": [
        "# only keep newsitems from group 2 and newsitems without a group (FP and TN), \n",
        "# since only these are used in the experiment\n",
        "newsitems = newsitems[(newsitems[\"group\"] == 2) | newsitems[\"group\"].isna()]\n",
        "newsitems = newsitems.drop(columns=[\"group\"])"
      ]
    },
    {
      "cell_type": "code",
      "execution_count": 9,
      "metadata": {},
      "outputs": [],
      "source": [
        "# create a new column, \"is_fake_news\", based on if \"label\" is \"FAKE\" or \"TRUE\"\n",
        "newsitems[\"is_fake_news\"] = newsitems[\"label\"].apply(lambda x: True if x == \"FAKE\" else False)\n",
        "newsitems = newsitems.drop(columns=[\"label\"])"
      ]
    },
    {
      "cell_type": "code",
      "execution_count": 10,
      "metadata": {},
      "outputs": [],
      "source": [
        "# remove percentage sign from truthfulness and convert to int\n",
        "newsitems[\"truthfulness\"] = newsitems[\"truthfulness\"].apply(lambda x: int(x.replace(\"%\", \"\")))"
      ]
    },
    {
      "cell_type": "code",
      "execution_count": 11,
      "metadata": {},
      "outputs": [
        {
          "data": {
            "text/html": [
              "<div>\n",
              "<style scoped>\n",
              "    .dataframe tbody tr th:only-of-type {\n",
              "        vertical-align: middle;\n",
              "    }\n",
              "\n",
              "    .dataframe tbody tr th {\n",
              "        vertical-align: top;\n",
              "    }\n",
              "\n",
              "    .dataframe thead th {\n",
              "        text-align: right;\n",
              "    }\n",
              "</style>\n",
              "<table border=\"1\" class=\"dataframe\">\n",
              "  <thead>\n",
              "    <tr style=\"text-align: right;\">\n",
              "      <th></th>\n",
              "      <th>id</th>\n",
              "      <th>title</th>\n",
              "      <th>subtitle</th>\n",
              "      <th>content</th>\n",
              "      <th>source</th>\n",
              "      <th>publishing_date</th>\n",
              "      <th>category</th>\n",
              "      <th>highlighted_content</th>\n",
              "      <th>truthfulness</th>\n",
              "      <th>readability</th>\n",
              "      <th>natural_language_explanation</th>\n",
              "      <th>is_false_positive</th>\n",
              "      <th>is_true_negative</th>\n",
              "      <th>is_qualification</th>\n",
              "      <th>is_fake_news</th>\n",
              "    </tr>\n",
              "  </thead>\n",
              "  <tbody>\n",
              "    <tr>\n",
              "      <th>7</th>\n",
              "      <td>7</td>\n",
              "      <td>Facing unbearable heat, Qatar has begun to air...</td>\n",
              "      <td>2°C: BEYOND THE LIMIT</td>\n",
              "      <td>Already one of the hottest places on Earth, Qa...</td>\n",
              "      <td>Trustworthy Source</td>\n",
              "      <td>10/16/2019</td>\n",
              "      <td>Environment</td>\n",
              "      <td>Already one of the hottest places on Earth, Qa...</td>\n",
              "      <td>90</td>\n",
              "      <td>medium</td>\n",
              "      <td>Qatar is one of the hottest countries on earth...</td>\n",
              "      <td>False</td>\n",
              "      <td>False</td>\n",
              "      <td>False</td>\n",
              "      <td>False</td>\n",
              "    </tr>\n",
              "    <tr>\n",
              "      <th>8</th>\n",
              "      <td>8</td>\n",
              "      <td>Survival International launches campaign to st...</td>\n",
              "      <td>NaN</td>\n",
              "      <td>Survival International today (Earth Day) launc...</td>\n",
              "      <td>Untrustworthy Source</td>\n",
              "      <td>04/22/2022</td>\n",
              "      <td>Environment</td>\n",
              "      <td>Survival International today (Earth Day) launc...</td>\n",
              "      <td>47</td>\n",
              "      <td>medium</td>\n",
              "      <td>The statement by Survival International that 3...</td>\n",
              "      <td>False</td>\n",
              "      <td>False</td>\n",
              "      <td>False</td>\n",
              "      <td>True</td>\n",
              "    </tr>\n",
              "    <tr>\n",
              "      <th>9</th>\n",
              "      <td>9</td>\n",
              "      <td>How Biden's climate plan could limit you to ea...</td>\n",
              "      <td>NaN</td>\n",
              "      <td>President Joe Biden's ambitious plan to slash ...</td>\n",
              "      <td>Untrustworthy Source</td>\n",
              "      <td>04/22/2021</td>\n",
              "      <td>Environment</td>\n",
              "      <td>President Joe Biden's ambitious plan to &lt;span ...</td>\n",
              "      <td>5</td>\n",
              "      <td>easy</td>\n",
              "      <td>President Joe Biden’s climate plans do not inc...</td>\n",
              "      <td>False</td>\n",
              "      <td>False</td>\n",
              "      <td>False</td>\n",
              "      <td>True</td>\n",
              "    </tr>\n",
              "    <tr>\n",
              "      <th>10</th>\n",
              "      <td>10</td>\n",
              "      <td>Several Israelis wounded in attack on Jerusale...</td>\n",
              "      <td>Israeli police arrest suspected gunman after a...</td>\n",
              "      <td>Israeli police arrested a suspect in a shootin...</td>\n",
              "      <td>Trustworthy Source</td>\n",
              "      <td>8/14/2022</td>\n",
              "      <td>Crime</td>\n",
              "      <td>\"&lt;mark&gt;Israeli police arrested a suspect in a ...</td>\n",
              "      <td>92</td>\n",
              "      <td>medium</td>\n",
              "      <td>Israeli forces have allegedly been raiding hou...</td>\n",
              "      <td>False</td>\n",
              "      <td>False</td>\n",
              "      <td>True</td>\n",
              "      <td>False</td>\n",
              "    </tr>\n",
              "    <tr>\n",
              "      <th>11</th>\n",
              "      <td>11</td>\n",
              "      <td>Young Girl Hitchhiked Through The Middle East ...</td>\n",
              "      <td>NaN</td>\n",
              "      <td>Here’s a shocking and sad story that should be...</td>\n",
              "      <td>Untrustworthy Source</td>\n",
              "      <td>4/14/2016</td>\n",
              "      <td>Crime</td>\n",
              "      <td>\"&lt;span style='background-color:#00FEFE'&gt;Here’s...</td>\n",
              "      <td>21</td>\n",
              "      <td>easy</td>\n",
              "      <td>The article misleads the readers about the tim...</td>\n",
              "      <td>False</td>\n",
              "      <td>False</td>\n",
              "      <td>False</td>\n",
              "      <td>True</td>\n",
              "    </tr>\n",
              "    <tr>\n",
              "      <th>12</th>\n",
              "      <td>12</td>\n",
              "      <td>Military Arrests Bill Gates</td>\n",
              "      <td>NaN</td>\n",
              "      <td>The U.S. military on Tuesday arrested Microsof...</td>\n",
              "      <td>Untrustworthy Source</td>\n",
              "      <td>8/1/2021</td>\n",
              "      <td>Crime</td>\n",
              "      <td>\"The U.S. military on Tuesday arrested Microso...</td>\n",
              "      <td>3</td>\n",
              "      <td>easy</td>\n",
              "      <td>Real Raw News is a website that contains humor...</td>\n",
              "      <td>False</td>\n",
              "      <td>False</td>\n",
              "      <td>True</td>\n",
              "      <td>True</td>\n",
              "    </tr>\n",
              "    <tr>\n",
              "      <th>13</th>\n",
              "      <td>13</td>\n",
              "      <td>JOE BIDEN SAYS BIBLE BELIEVING CHRISTIANS VIOL...</td>\n",
              "      <td>In too many places, Joe Biden said today, LGBT...</td>\n",
              "      <td>Vice President Joe Biden say today that the ri...</td>\n",
              "      <td>Untrustworthy Source</td>\n",
              "      <td>05/17/2015</td>\n",
              "      <td>Gender</td>\n",
              "      <td>&lt;mark&gt;Vice President Joe Biden say today that ...</td>\n",
              "      <td>97</td>\n",
              "      <td>easy</td>\n",
              "      <td>The NTEB headline misrepresented Biden's state...</td>\n",
              "      <td>True</td>\n",
              "      <td>False</td>\n",
              "      <td>False</td>\n",
              "      <td>True</td>\n",
              "    </tr>\n",
              "    <tr>\n",
              "      <th>14</th>\n",
              "      <td>14</td>\n",
              "      <td>Boys need to talk more about feelings and figh...</td>\n",
              "      <td>The Global Boyhood Initiative aims to enable a...</td>\n",
              "      <td>Boys should be encouraged to ignore gender ste...</td>\n",
              "      <td>Trustworthy Source</td>\n",
              "      <td>11/8/2022</td>\n",
              "      <td>Gender</td>\n",
              "      <td>Boys should be &lt;span style='background-color:#...</td>\n",
              "      <td>10</td>\n",
              "      <td>hard</td>\n",
              "      <td>\"The State of UK Boys\" report has been release...</td>\n",
              "      <td>False</td>\n",
              "      <td>True</td>\n",
              "      <td>False</td>\n",
              "      <td>False</td>\n",
              "    </tr>\n",
              "  </tbody>\n",
              "</table>\n",
              "</div>"
            ],
            "text/plain": [
              "    id                                              title  \\\n",
              "7    7  Facing unbearable heat, Qatar has begun to air...   \n",
              "8    8  Survival International launches campaign to st...   \n",
              "9    9  How Biden's climate plan could limit you to ea...   \n",
              "10  10  Several Israelis wounded in attack on Jerusale...   \n",
              "11  11  Young Girl Hitchhiked Through The Middle East ...   \n",
              "12  12                        Military Arrests Bill Gates   \n",
              "13  13  JOE BIDEN SAYS BIBLE BELIEVING CHRISTIANS VIOL...   \n",
              "14  14  Boys need to talk more about feelings and figh...   \n",
              "\n",
              "                                             subtitle  \\\n",
              "7                               2°C: BEYOND THE LIMIT   \n",
              "8                                                 NaN   \n",
              "9                                                 NaN   \n",
              "10  Israeli police arrest suspected gunman after a...   \n",
              "11                                                NaN   \n",
              "12                                                NaN   \n",
              "13  In too many places, Joe Biden said today, LGBT...   \n",
              "14  The Global Boyhood Initiative aims to enable a...   \n",
              "\n",
              "                                              content                 source  \\\n",
              "7   Already one of the hottest places on Earth, Qa...     Trustworthy Source   \n",
              "8   Survival International today (Earth Day) launc...  Untrustworthy Source    \n",
              "9   President Joe Biden's ambitious plan to slash ...  Untrustworthy Source    \n",
              "10  Israeli police arrested a suspect in a shootin...     Trustworthy Source   \n",
              "11  Here’s a shocking and sad story that should be...  Untrustworthy Source    \n",
              "12  The U.S. military on Tuesday arrested Microsof...  Untrustworthy Source    \n",
              "13  Vice President Joe Biden say today that the ri...  Untrustworthy Source    \n",
              "14  Boys should be encouraged to ignore gender ste...     Trustworthy Source   \n",
              "\n",
              "   publishing_date     category  \\\n",
              "7       10/16/2019  Environment   \n",
              "8       04/22/2022  Environment   \n",
              "9       04/22/2021  Environment   \n",
              "10       8/14/2022        Crime   \n",
              "11       4/14/2016        Crime   \n",
              "12        8/1/2021        Crime   \n",
              "13      05/17/2015       Gender   \n",
              "14       11/8/2022       Gender   \n",
              "\n",
              "                                  highlighted_content  truthfulness  \\\n",
              "7   Already one of the hottest places on Earth, Qa...            90   \n",
              "8   Survival International today (Earth Day) launc...            47   \n",
              "9   President Joe Biden's ambitious plan to <span ...             5   \n",
              "10  \"<mark>Israeli police arrested a suspect in a ...            92   \n",
              "11  \"<span style='background-color:#00FEFE'>Here’s...            21   \n",
              "12  \"The U.S. military on Tuesday arrested Microso...             3   \n",
              "13  <mark>Vice President Joe Biden say today that ...            97   \n",
              "14  Boys should be <span style='background-color:#...            10   \n",
              "\n",
              "   readability                       natural_language_explanation  \\\n",
              "7       medium  Qatar is one of the hottest countries on earth...   \n",
              "8       medium  The statement by Survival International that 3...   \n",
              "9         easy  President Joe Biden’s climate plans do not inc...   \n",
              "10      medium  Israeli forces have allegedly been raiding hou...   \n",
              "11        easy  The article misleads the readers about the tim...   \n",
              "12        easy  Real Raw News is a website that contains humor...   \n",
              "13        easy  The NTEB headline misrepresented Biden's state...   \n",
              "14        hard  \"The State of UK Boys\" report has been release...   \n",
              "\n",
              "    is_false_positive  is_true_negative  is_qualification  is_fake_news  \n",
              "7               False             False             False         False  \n",
              "8               False             False             False          True  \n",
              "9               False             False             False          True  \n",
              "10              False             False              True         False  \n",
              "11              False             False             False          True  \n",
              "12              False             False              True          True  \n",
              "13               True             False             False          True  \n",
              "14              False              True             False         False  "
            ]
          },
          "execution_count": 11,
          "metadata": {},
          "output_type": "execute_result"
        }
      ],
      "source": [
        "newsitems"
      ]
    },
    {
      "attachments": {},
      "cell_type": "markdown",
      "metadata": {},
      "source": [
        "### Filtering out assumed cheaters"
      ]
    },
    {
      "attachments": {},
      "cell_type": "markdown",
      "metadata": {},
      "source": [
        "Assume that participants who did answer at least 5 out of 6 control questions correctly were paying attention and gave valid answers."
      ]
    },
    {
      "cell_type": "code",
      "execution_count": 12,
      "metadata": {},
      "outputs": [],
      "source": [
        "# participants who did not get 2 points in the qualification shouldn't be considered\n",
        "df = df[df['POINTS.qualification'] == 2]"
      ]
    },
    {
      "cell_type": "code",
      "execution_count": 13,
      "metadata": {},
      "outputs": [],
      "source": [
        "df = df[df[\"POINTS.main\"] >= 5]"
      ]
    },
    {
      "cell_type": "code",
      "execution_count": 14,
      "metadata": {},
      "outputs": [
        {
          "data": {
            "text/plain": [
              "salient         140\n",
              "basic           133\n",
              "explanations    133\n",
              "Name: METADATA.FEATURE, dtype: int64"
            ]
          },
          "execution_count": 14,
          "metadata": {},
          "output_type": "execute_result"
        }
      ],
      "source": [
        "df[\"METADATA.FEATURE\"].value_counts()"
      ]
    },
    {
      "attachments": {},
      "cell_type": "markdown",
      "metadata": {},
      "source": [
        "## Demographics"
      ]
    },
    {
      "cell_type": "code",
      "execution_count": 15,
      "metadata": {},
      "outputs": [
        {
          "data": {
            "text/plain": [
              "['demographics.age',\n",
              " 'demographics.country',\n",
              " 'demographics.education',\n",
              " 'demographics.employment',\n",
              " 'demographics.gender',\n",
              " 'demographics.income',\n",
              " 'demographics.nationality']"
            ]
          },
          "execution_count": 15,
          "metadata": {},
          "output_type": "execute_result"
        }
      ],
      "source": [
        "# get columns which start with \"demographics\"\n",
        "demographics_cols = [col for col in df.columns if col.startswith('demographics')]\n",
        "demographics_cols\n",
        "# country and nationality are not relevant, since the study was conducted in the US"
      ]
    },
    {
      "cell_type": "code",
      "execution_count": 16,
      "metadata": {},
      "outputs": [
        {
          "data": {
            "text/plain": [
              "18-20           3.940887\n",
              "21-29          25.862069\n",
              "30-39          38.423645\n",
              "40-49          22.906404\n",
              "50-59           6.896552\n",
              "60-or-older     1.970443\n",
              "Name: demographics.age, dtype: float64"
            ]
          },
          "execution_count": 16,
          "metadata": {},
          "output_type": "execute_result"
        }
      ],
      "source": [
        "df[\"demographics.age\"].value_counts(normalize=True).sort_index() * 100"
      ]
    },
    {
      "cell_type": "code",
      "execution_count": 17,
      "metadata": {},
      "outputs": [
        {
          "data": {
            "text/plain": [
              "university         54.187192\n",
              "high-school        39.655172\n",
              "no-degree           2.709360\n",
              "secondary           2.216749\n",
              "upper-secondary     1.231527\n",
              "Name: demographics.education, dtype: float64"
            ]
          },
          "execution_count": 17,
          "metadata": {},
          "output_type": "execute_result"
        }
      ],
      "source": [
        "df[\"demographics.education\"].value_counts(normalize=True) * 100\n",
        "# university degree is the most common education level, this is surprising"
      ]
    },
    {
      "cell_type": "code",
      "execution_count": 18,
      "metadata": {},
      "outputs": [
        {
          "data": {
            "text/plain": [
              "salaried-employee    36.453202\n",
              "self-employed        31.773399\n",
              "unemployed           13.546798\n",
              "student               9.852217\n",
              "other                 6.403941\n",
              "civil-servant         0.738916\n",
              "retiree-pensioner     0.738916\n",
              "apprentice            0.492611\n",
              "Name: demographics.employment, dtype: float64"
            ]
          },
          "execution_count": 18,
          "metadata": {},
          "output_type": "execute_result"
        }
      ],
      "source": [
        "df[\"demographics.employment\"].value_counts(normalize=True) * 100"
      ]
    },
    {
      "cell_type": "code",
      "execution_count": 19,
      "metadata": {},
      "outputs": [
        {
          "name": "stdout",
          "output_type": "stream",
          "text": [
            "less-than-20000-usd 14.285714285714285\n",
            "20000-34999-usd 17.733990147783253\n",
            "35000-49999-usd 10.83743842364532\n",
            "50000-74999-usd 20.44334975369458\n",
            "75000-99999-usd 12.068965517241379\n",
            "over-100000-usd 13.546798029556651\n",
            "no-answer 11.083743842364532\n"
          ]
        }
      ],
      "source": [
        "income_vc = df[\"demographics.income\"].value_counts(normalize=True)\n",
        "print(\"less-than-20000-usd\", income_vc[\"less-than-20000-usd\"] * 100)\n",
        "print(\"20000-34999-usd\", income_vc[\"20000-34999-usd\"] * 100)\n",
        "print(\"35000-49999-usd\", income_vc[\"35000-49999-usd\"] * 100)\n",
        "print(\"50000-74999-usd\", income_vc[\"50000-74999-usd\"] * 100)\n",
        "print(\"75000-99999-usd\", income_vc[\"75000-99999-usd\"] * 100)\n",
        "print(\"over-100000-usd\", income_vc[\"over-100000-usd\"] * 100)\n",
        "print(\"no-answer\", income_vc[\"no-answer\"] * 100)"
      ]
    },
    {
      "cell_type": "code",
      "execution_count": 20,
      "metadata": {},
      "outputs": [
        {
          "data": {
            "text/plain": [
              "female     63.546798\n",
              "male       35.714286\n",
              "diverse     0.738916\n",
              "Name: demographics.gender, dtype: float64"
            ]
          },
          "execution_count": 20,
          "metadata": {},
          "output_type": "execute_result"
        }
      ],
      "source": [
        "df[\"demographics.gender\"].value_counts(normalize=True) * 100"
      ]
    },
    {
      "attachments": {},
      "cell_type": "markdown",
      "metadata": {},
      "source": [
        "## Define Kruskal-Wallis test function"
      ]
    },
    {
      "cell_type": "code",
      "execution_count": 75,
      "metadata": {},
      "outputs": [],
      "source": [
        "def perform_kruskal_with_posthoc(df, col, print_results=True, between=\"METADATA.FEATURE\"):\n",
        "    if print_results:\n",
        "        print(\"Column name:\", col)\n",
        "\n",
        "    kruskal_test = pg.kruskal(df, dv=col, between=between, detailed=True)\n",
        "    kruskal_pval = kruskal_test[\"p-unc\"].values[0]\n",
        "\n",
        "    if print_results:\n",
        "        print(\"kruskal_pval\", kruskal_pval, \"\\n\")\n",
        "\n",
        "\n",
        "    posthoc = pg.pairwise_tests(df, dv=col, between=between, parametric=False, padjust=\"holm\")\n",
        "\n",
        "    # print stuff if p-corr is smaller than 0.05 in all the comparisons\n",
        "    if print_results:\n",
        "        print(posthoc, \"\\n\")\n",
        "\n",
        "    if print_results:\n",
        "        print(df.groupby(between)[col].describe()[[\"mean\", \"std\"]], \"\\n\")\n",
        "\n",
        "    return kruskal_test, posthoc, df.groupby(between)[col].describe()"
      ]
    },
    {
      "attachments": {},
      "cell_type": "markdown",
      "metadata": {},
      "source": [
        "## Performance"
      ]
    },
    {
      "attachments": {},
      "cell_type": "markdown",
      "metadata": {},
      "source": [
        "### AI vs Human vs Human-AI\n",
        "\n",
        "How does the AI system perform compared to humans and the combination of human and AI? \n",
        "\n",
        "The task is to judge whether a news item is fake news or not, thus this is a binary classification problem. Since both the AI and participants are asked to rate the news items on a 0-100 scale, we use a threshold of 50, where ratings of <50 are treated as predicted fake news and ratings >=50 are treated as predicted truthful news.\n",
        "\n",
        "The metrics for the AI are calculated over the 8 news items. Metrics are calculated for each participant seperately over the presented news items (e.g. a parcipant correctly judged 6 out of 8 news items, thus the accuracy is 6/8 = 0.75). Human-AI performance is measured after presenting the AI rating to the participants, this is also calculated for each participant seperately."
      ]
    },
    {
      "attachments": {},
      "cell_type": "markdown",
      "metadata": {},
      "source": [
        "#### Calculate performance metrics of the AI system"
      ]
    },
    {
      "cell_type": "code",
      "execution_count": 24,
      "metadata": {},
      "outputs": [],
      "source": [
        "RATING_THRESHOLD = 50\n",
        "\n",
        "newsitems[\"is_fake_news_pred\"] = newsitems[\"truthfulness\"] < RATING_THRESHOLD"
      ]
    },
    {
      "cell_type": "code",
      "execution_count": 25,
      "metadata": {},
      "outputs": [
        {
          "data": {
            "text/plain": [
              "True     5\n",
              "False    3\n",
              "Name: is_fake_news, dtype: int64"
            ]
          },
          "execution_count": 25,
          "metadata": {},
          "output_type": "execute_result"
        }
      ],
      "source": [
        "newsitems[\"is_fake_news\"].value_counts()"
      ]
    },
    {
      "attachments": {},
      "cell_type": "markdown",
      "metadata": {},
      "source": [
        "Since the dataset is unbalanced (5 fake news items and 3 truthful news items), we also use metrics that are more robust to unbalanced datasets than accuracy, such as precision, recall, F1-score and ROC AUC. Furthermore, a Brier score is calculated to measure the accuracy of the predicted probabilities."
      ]
    },
    {
      "cell_type": "code",
      "execution_count": 26,
      "metadata": {},
      "outputs": [
        {
          "data": {
            "text/html": [
              "<div>\n",
              "<style scoped>\n",
              "    .dataframe tbody tr th:only-of-type {\n",
              "        vertical-align: middle;\n",
              "    }\n",
              "\n",
              "    .dataframe tbody tr th {\n",
              "        vertical-align: top;\n",
              "    }\n",
              "\n",
              "    .dataframe thead th {\n",
              "        text-align: right;\n",
              "    }\n",
              "</style>\n",
              "<table border=\"1\" class=\"dataframe\">\n",
              "  <thead>\n",
              "    <tr style=\"text-align: right;\">\n",
              "      <th></th>\n",
              "      <th>accuracy</th>\n",
              "      <th>precision</th>\n",
              "      <th>recall</th>\n",
              "      <th>f1</th>\n",
              "      <th>roc_auc_score</th>\n",
              "      <th>brier_score</th>\n",
              "    </tr>\n",
              "  </thead>\n",
              "  <tbody>\n",
              "    <tr>\n",
              "      <th>0</th>\n",
              "      <td>0.75</td>\n",
              "      <td>0.8</td>\n",
              "      <td>0.8</td>\n",
              "      <td>0.8</td>\n",
              "      <td>0.666667</td>\n",
              "      <td>0.254462</td>\n",
              "    </tr>\n",
              "  </tbody>\n",
              "</table>\n",
              "</div>"
            ],
            "text/plain": [
              "   accuracy  precision  recall   f1  roc_auc_score  brier_score\n",
              "0      0.75        0.8     0.8  0.8       0.666667     0.254462"
            ]
          },
          "execution_count": 26,
          "metadata": {},
          "output_type": "execute_result"
        }
      ],
      "source": [
        "from sklearn.metrics import accuracy_score, precision_score, recall_score, f1_score, roc_auc_score, brier_score_loss, log_loss\n",
        "\n",
        "ai_accuracy = accuracy_score(newsitems[\"is_fake_news\"], newsitems[\"is_fake_news_pred\"])\n",
        "ai_precision = precision_score(newsitems[\"is_fake_news\"], newsitems[\"is_fake_news_pred\"])\n",
        "ai_recall = recall_score(newsitems[\"is_fake_news\"], newsitems[\"is_fake_news_pred\"])\n",
        "ai_f1 = f1_score(newsitems[\"is_fake_news\"], newsitems[\"is_fake_news_pred\"])\n",
        "ai_roc_auc = roc_auc_score(newsitems[\"is_fake_news\"], 1 - (newsitems[\"truthfulness\"] / 100))\n",
        "ai_brier_score = brier_score_loss(\n",
        "    newsitems[\"is_fake_news\"],\n",
        "    newsitems[\"truthfulness\"] / 100, \n",
        "    pos_label=0\n",
        ")\n",
        "\n",
        "ai_performance_df = pd.DataFrame({\n",
        "  \"accuracy\": [ai_accuracy],\n",
        "  \"precision\": [ai_precision],\n",
        "  \"recall\": [ai_recall],\n",
        "  \"f1\": [ai_f1],\n",
        "  \"roc_auc_score\": [ai_roc_auc],\n",
        "  \"brier_score\": [ai_brier_score]\n",
        "})\n",
        "\n",
        "ai_performance_df"
      ]
    },
    {
      "attachments": {},
      "cell_type": "markdown",
      "metadata": {},
      "source": [
        "#### Calculate performance metrics of the participants and Human-AI teams"
      ]
    },
    {
      "cell_type": "code",
      "execution_count": 27,
      "metadata": {},
      "outputs": [],
      "source": [
        "def calculate_human_metrics(row):\n",
        "    y_true = newsitems[\"is_fake_news\"]\n",
        "    y_pred_human = []\n",
        "    y_pred_human_prob = []\n",
        "    y_pred_human_ai = []\n",
        "    y_pred_human_ai_prob = []\n",
        "\n",
        "    for i in y_true.index:\n",
        "        y_pred_human.append(row[f\"newsitem.{i}.rating-before-xai\"] < 50)\n",
        "        y_pred_human_prob.append(row[f\"newsitem.{i}.rating-before-xai\"] / 100)\n",
        "        y_pred_human_ai.append(row[f\"newsitem.{i}.rating-after-xai\"] < 50)\n",
        "        y_pred_human_ai_prob.append(row[f\"newsitem.{i}.rating-after-xai\"] / 100)\n",
        "\n",
        "    for i, _id in enumerate(y_true.index):\n",
        "        # will be used later for comparing news items\n",
        "        row[f\"newsitem.{_id}.human-before-correct\"] = y_true[_id] == y_pred_human[i]\n",
        "        row[f\"newsitem.{_id}.human-after-correct\"] = y_true[_id] == y_pred_human_ai[i]\n",
        "\n",
        "    human_accuracy = accuracy_score(y_true, y_pred_human)\n",
        "    human_precision = precision_score(y_true, y_pred_human, zero_division=0)\n",
        "    human_recall = recall_score(y_true, y_pred_human)\n",
        "    human_f1 = f1_score(y_true, y_pred_human)\n",
        "    human_roc_auc = roc_auc_score(y_true, 1 - np.array(y_pred_human_prob))\n",
        "    human_brier_score = brier_score_loss(y_true, y_pred_human_prob, pos_label=0)\n",
        "\n",
        "    human_ai_accuracy = accuracy_score(y_true, y_pred_human_ai)\n",
        "    human_ai_precision = precision_score(y_true, y_pred_human_ai, zero_division=0)\n",
        "    human_ai_recall = recall_score(y_true, y_pred_human_ai)\n",
        "    human_ai_f1 = f1_score(y_true, y_pred_human_ai)\n",
        "    human_ai_roc_auc = roc_auc_score(y_true, 1 - np.array(y_pred_human_ai_prob))\n",
        "    human_ai_brier_score = brier_score_loss(y_true, y_pred_human_ai_prob, pos_label=0)\n",
        "\n",
        "    row[\"human_accuracy\"] = human_accuracy\n",
        "    row[\"human_precision\"] = human_precision\n",
        "    row[\"human_recall\"] = human_recall\n",
        "    row[\"human_f1\"] = human_f1\n",
        "    row[\"human_roc_auc_score\"] = human_roc_auc\n",
        "    row[\"human_brier_score\"] = human_brier_score\n",
        "\n",
        "    row[\"human_ai_accuracy\"] = human_ai_accuracy\n",
        "    row[\"human_ai_precision\"] = human_ai_precision\n",
        "    row[\"human_ai_recall\"] = human_ai_recall\n",
        "    row[\"human_ai_f1\"] = human_ai_f1\n",
        "    row[\"human_ai_roc_auc_score\"] = human_ai_roc_auc\n",
        "    row[\"human_ai_brier_score\"] = human_ai_brier_score\n",
        "\n",
        "    return row\n",
        "\n",
        "df = df.apply(calculate_human_metrics, axis=1)"
      ]
    },
    {
      "attachments": {},
      "cell_type": "markdown",
      "metadata": {},
      "source": [
        "#### Compare AI vs Human vs Human-AI"
      ]
    },
    {
      "attachments": {},
      "cell_type": "markdown",
      "metadata": {},
      "source": [
        "To compare the performance of the AI system to the performance of the participants and Human-AI teams, average the metrics over the participants."
      ]
    },
    {
      "cell_type": "code",
      "execution_count": 30,
      "metadata": {},
      "outputs": [],
      "source": [
        "# show mean human scores, mean human_ai scores and ai scores in one dataframe\n",
        "human_scores = df[[\n",
        "    \"human_accuracy\", \n",
        "    \"human_precision\", \n",
        "    \"human_recall\", \n",
        "    \"human_f1\", \n",
        "    \"human_roc_auc_score\",\n",
        "    \"human_brier_score\",\n",
        "]].copy()\n",
        "\n",
        "human_ai_scores = df[[\n",
        "    \"human_ai_accuracy\", \n",
        "    \"human_ai_precision\", \n",
        "    \"human_ai_recall\", \n",
        "    \"human_ai_f1\", \n",
        "    \"human_ai_roc_auc_score\",\n",
        "    \"human_ai_brier_score\",\n",
        "]].copy()\n",
        "\n",
        "human_scores = human_scores.rename(columns=lambda x: x.replace(\"human_\", \"\"))\n",
        "human_ai_scores = human_ai_scores.rename(columns=lambda x: x.replace(\"human_ai_\", \"\"))\n",
        "\n",
        "human_scores = human_scores.mean()\n",
        "human_ai_scores = human_ai_scores.mean()\n"
      ]
    },
    {
      "cell_type": "code",
      "execution_count": 33,
      "metadata": {},
      "outputs": [
        {
          "data": {
            "text/html": [
              "<div>\n",
              "<style scoped>\n",
              "    .dataframe tbody tr th:only-of-type {\n",
              "        vertical-align: middle;\n",
              "    }\n",
              "\n",
              "    .dataframe tbody tr th {\n",
              "        vertical-align: top;\n",
              "    }\n",
              "\n",
              "    .dataframe thead th {\n",
              "        text-align: right;\n",
              "    }\n",
              "</style>\n",
              "<table border=\"1\" class=\"dataframe\">\n",
              "  <thead>\n",
              "    <tr style=\"text-align: right;\">\n",
              "      <th></th>\n",
              "      <th>ai</th>\n",
              "      <th>human</th>\n",
              "      <th>human_ai</th>\n",
              "    </tr>\n",
              "  </thead>\n",
              "  <tbody>\n",
              "    <tr>\n",
              "      <th>accuracy</th>\n",
              "      <td>0.750000</td>\n",
              "      <td>0.730911</td>\n",
              "      <td>0.818350</td>\n",
              "    </tr>\n",
              "    <tr>\n",
              "      <th>precision</th>\n",
              "      <td>0.800000</td>\n",
              "      <td>0.849748</td>\n",
              "      <td>0.897223</td>\n",
              "    </tr>\n",
              "    <tr>\n",
              "      <th>recall</th>\n",
              "      <td>0.800000</td>\n",
              "      <td>0.706404</td>\n",
              "      <td>0.809360</td>\n",
              "    </tr>\n",
              "    <tr>\n",
              "      <th>f1</th>\n",
              "      <td>0.800000</td>\n",
              "      <td>0.749796</td>\n",
              "      <td>0.840796</td>\n",
              "    </tr>\n",
              "    <tr>\n",
              "      <th>roc_auc_score</th>\n",
              "      <td>0.666667</td>\n",
              "      <td>0.806076</td>\n",
              "      <td>0.884975</td>\n",
              "    </tr>\n",
              "    <tr>\n",
              "      <th>brier_score</th>\n",
              "      <td>0.254462</td>\n",
              "      <td>0.181032</td>\n",
              "      <td>0.134820</td>\n",
              "    </tr>\n",
              "  </tbody>\n",
              "</table>\n",
              "</div>"
            ],
            "text/plain": [
              "                     ai     human  human_ai\n",
              "accuracy       0.750000  0.730911  0.818350\n",
              "precision      0.800000  0.849748  0.897223\n",
              "recall         0.800000  0.706404  0.809360\n",
              "f1             0.800000  0.749796  0.840796\n",
              "roc_auc_score  0.666667  0.806076  0.884975\n",
              "brier_score    0.254462  0.181032  0.134820"
            ]
          },
          "execution_count": 33,
          "metadata": {},
          "output_type": "execute_result"
        }
      ],
      "source": [
        "scores_df = pd.DataFrame({\n",
        "  \"ai\": ai_performance_df.iloc[0],\n",
        "  \"human\": human_scores,\n",
        "  \"human_ai\": human_ai_scores,\n",
        "})\n",
        "\n",
        "scores_df"
      ]
    },
    {
      "cell_type": "code",
      "execution_count": 34,
      "metadata": {},
      "outputs": [],
      "source": [
        "scores_plot_df = pd.melt(\n",
        "  scores_df.drop([\"brier_score\"]).reset_index(), \n",
        "  id_vars=[\"index\"], \n",
        "  value_vars=[\"ai\", \"human\", \"human_ai\"]\n",
        ")"
      ]
    },
    {
      "cell_type": "code",
      "execution_count": 39,
      "metadata": {},
      "outputs": [
        {
          "data": {
            "image/png": "[encoded data removed]",
            "text/plain": [
              "<Figure size 647.875x500 with 1 Axes>"
            ]
          },
          "metadata": {},
          "output_type": "display_data"
        }
      ],
      "source": [
        "import matplotlib.pyplot as plt\n",
        "import seaborn as sns\n",
        "\n",
        "c = sns.catplot(x=\"variable\", y=\"value\", hue=\"index\", data=scores_plot_df,  palette=\"muted\", kind=\"bar\")\n",
        "plt.title(\"Performances of AI vs Humans vs Human-AI teams\")\n",
        "plt.ylabel(\"Score\")\n",
        "plt.xlabel(\"Model\")\n",
        "c._legend.set_title(\"Metric\")"
      ]
    },
    {
      "attachments": {},
      "cell_type": "markdown",
      "metadata": {},
      "source": [
        "We use a Wilcoxon signed-rank test to determine if there is a significant difference in performance of participans before and after seeing the AI scores (and explanations)."
      ]
    },
    {
      "cell_type": "code",
      "execution_count": 40,
      "metadata": {},
      "outputs": [
        {
          "data": {
            "text/html": [
              "<div>\n",
              "<style scoped>\n",
              "    .dataframe tbody tr th:only-of-type {\n",
              "        vertical-align: middle;\n",
              "    }\n",
              "\n",
              "    .dataframe tbody tr th {\n",
              "        vertical-align: top;\n",
              "    }\n",
              "\n",
              "    .dataframe thead th {\n",
              "        text-align: right;\n",
              "    }\n",
              "</style>\n",
              "<table border=\"1\" class=\"dataframe\">\n",
              "  <thead>\n",
              "    <tr style=\"text-align: right;\">\n",
              "      <th></th>\n",
              "      <th>W-val</th>\n",
              "      <th>alternative</th>\n",
              "      <th>p-val</th>\n",
              "      <th>RBC</th>\n",
              "      <th>CLES</th>\n",
              "    </tr>\n",
              "  </thead>\n",
              "  <tbody>\n",
              "    <tr>\n",
              "      <th>Wilcoxon</th>\n",
              "      <td>5429.5</td>\n",
              "      <td>two-sided</td>\n",
              "      <td>4.044244e-24</td>\n",
              "      <td>-0.694207</td>\n",
              "      <td>0.345625</td>\n",
              "    </tr>\n",
              "  </tbody>\n",
              "</table>\n",
              "</div>"
            ],
            "text/plain": [
              "           W-val alternative         p-val       RBC      CLES\n",
              "Wilcoxon  5429.5   two-sided  4.044244e-24 -0.694207  0.345625"
            ]
          },
          "execution_count": 40,
          "metadata": {},
          "output_type": "execute_result"
        }
      ],
      "source": [
        "wilcoxon_test = pg.wilcoxon(df[\"human_accuracy\"], df[\"human_ai_accuracy\"])\n",
        "wilcoxon_test"
      ]
    },
    {
      "cell_type": "code",
      "execution_count": 42,
      "metadata": {},
      "outputs": [
        {
          "data": {
            "text/html": [
              "<div>\n",
              "<style scoped>\n",
              "    .dataframe tbody tr th:only-of-type {\n",
              "        vertical-align: middle;\n",
              "    }\n",
              "\n",
              "    .dataframe tbody tr th {\n",
              "        vertical-align: top;\n",
              "    }\n",
              "\n",
              "    .dataframe thead th {\n",
              "        text-align: right;\n",
              "    }\n",
              "</style>\n",
              "<table border=\"1\" class=\"dataframe\">\n",
              "  <thead>\n",
              "    <tr style=\"text-align: right;\">\n",
              "      <th></th>\n",
              "      <th>human_accuracy</th>\n",
              "      <th>human_ai_accuracy</th>\n",
              "    </tr>\n",
              "  </thead>\n",
              "  <tbody>\n",
              "    <tr>\n",
              "      <th>count</th>\n",
              "      <td>406.000000</td>\n",
              "      <td>406.000000</td>\n",
              "    </tr>\n",
              "    <tr>\n",
              "      <th>mean</th>\n",
              "      <td>0.730911</td>\n",
              "      <td>0.818350</td>\n",
              "    </tr>\n",
              "    <tr>\n",
              "      <th>std</th>\n",
              "      <td>0.158179</td>\n",
              "      <td>0.137579</td>\n",
              "    </tr>\n",
              "    <tr>\n",
              "      <th>min</th>\n",
              "      <td>0.375000</td>\n",
              "      <td>0.375000</td>\n",
              "    </tr>\n",
              "    <tr>\n",
              "      <th>25%</th>\n",
              "      <td>0.625000</td>\n",
              "      <td>0.750000</td>\n",
              "    </tr>\n",
              "    <tr>\n",
              "      <th>50%</th>\n",
              "      <td>0.750000</td>\n",
              "      <td>0.875000</td>\n",
              "    </tr>\n",
              "    <tr>\n",
              "      <th>75%</th>\n",
              "      <td>0.875000</td>\n",
              "      <td>0.875000</td>\n",
              "    </tr>\n",
              "    <tr>\n",
              "      <th>max</th>\n",
              "      <td>1.000000</td>\n",
              "      <td>1.000000</td>\n",
              "    </tr>\n",
              "  </tbody>\n",
              "</table>\n",
              "</div>"
            ],
            "text/plain": [
              "       human_accuracy  human_ai_accuracy\n",
              "count      406.000000         406.000000\n",
              "mean         0.730911           0.818350\n",
              "std          0.158179           0.137579\n",
              "min          0.375000           0.375000\n",
              "25%          0.625000           0.750000\n",
              "50%          0.750000           0.875000\n",
              "75%          0.875000           0.875000\n",
              "max          1.000000           1.000000"
            ]
          },
          "execution_count": 42,
          "metadata": {},
          "output_type": "execute_result"
        }
      ],
      "source": [
        "df[[\"human_accuracy\", \"human_ai_accuracy\"]].describe()"
      ]
    },
    {
      "attachments": {},
      "cell_type": "markdown",
      "metadata": {},
      "source": [
        "Significant difference in accuracy before and after seeing the AI score. Human accuracy before is 0.730911. Human accuracy after (= Human-AI accuracy) is 0.818350. (AI accuracy is 0.750000)"
      ]
    },
    {
      "attachments": {},
      "cell_type": "markdown",
      "metadata": {},
      "source": [
        "### Compare Human-AI performance among groups (v1 vs v2 vs v3)"
      ]
    },
    {
      "attachments": {},
      "cell_type": "markdown",
      "metadata": {},
      "source": [
        "We use a Kruskal-Wallis H-test to determine if there is a significant difference in performance of the Human-AI teams among the groups."
      ]
    },
    {
      "cell_type": "code",
      "execution_count": 44,
      "metadata": {},
      "outputs": [],
      "source": [
        "kruskal, pairwise, stats = perform_kruskal_with_posthoc(df, \"human_ai_accuracy\", print_results=False);"
      ]
    },
    {
      "cell_type": "code",
      "execution_count": 45,
      "metadata": {},
      "outputs": [
        {
          "data": {
            "text/html": [
              "<div>\n",
              "<style scoped>\n",
              "    .dataframe tbody tr th:only-of-type {\n",
              "        vertical-align: middle;\n",
              "    }\n",
              "\n",
              "    .dataframe tbody tr th {\n",
              "        vertical-align: top;\n",
              "    }\n",
              "\n",
              "    .dataframe thead th {\n",
              "        text-align: right;\n",
              "    }\n",
              "</style>\n",
              "<table border=\"1\" class=\"dataframe\">\n",
              "  <thead>\n",
              "    <tr style=\"text-align: right;\">\n",
              "      <th></th>\n",
              "      <th>Source</th>\n",
              "      <th>ddof1</th>\n",
              "      <th>H</th>\n",
              "      <th>p-unc</th>\n",
              "    </tr>\n",
              "  </thead>\n",
              "  <tbody>\n",
              "    <tr>\n",
              "      <th>Kruskal</th>\n",
              "      <td>METADATA.FEATURE</td>\n",
              "      <td>2</td>\n",
              "      <td>0.320474</td>\n",
              "      <td>0.851942</td>\n",
              "    </tr>\n",
              "  </tbody>\n",
              "</table>\n",
              "</div>"
            ],
            "text/plain": [
              "                   Source  ddof1         H     p-unc\n",
              "Kruskal  METADATA.FEATURE      2  0.320474  0.851942"
            ]
          },
          "execution_count": 45,
          "metadata": {},
          "output_type": "execute_result"
        }
      ],
      "source": [
        "kruskal"
      ]
    },
    {
      "attachments": {},
      "cell_type": "markdown",
      "metadata": {},
      "source": [
        "High p-value (0.851942) indicates that there is no significant difference in performance among the groups."
      ]
    },
    {
      "cell_type": "code",
      "execution_count": 49,
      "metadata": {},
      "outputs": [
        {
          "data": {
            "image/png": "[encoded data removed]",
            "text/plain": [
              "<Figure size 640x480 with 1 Axes>"
            ]
          },
          "metadata": {},
          "output_type": "display_data"
        }
      ],
      "source": [
        "col = \"human_ai_accuracy\"\n",
        "\n",
        "accuracy_data = df.groupby(\"METADATA.FEATURE\")[col].describe()[[\"mean\", \"std\"]].reset_index()\n",
        "accuracy_data[\"METADATA.FEATURE\"] = pd.Categorical(accuracy_data[\"METADATA.FEATURE\"], categories=[\"basic\", \"salient\", \"explanations\"], ordered=True)\n",
        "accuracy_data = accuracy_data.sort_values(\"METADATA.FEATURE\")\n",
        "\n",
        "fig, ax = plt.subplots()\n",
        "sns.barplot(x=\"METADATA.FEATURE\", y=\"mean\", data=accuracy_data, ax=ax, palette=\"muted\", width=.4)\n",
        "ax.set_ylabel(f\"Mean {col}\")\n",
        "ax.set_xlabel(\"XAI Explanation type\")\n",
        "ax.set_ylim(0, 1)\n",
        "ax.set_title(f\"Mean {col} per AI explanation type\")\n",
        "ax.errorbar(x=accuracy_data[\"METADATA.FEATURE\"], y=accuracy_data[\"mean\"], yerr=accuracy_data[\"std\"], fmt='none', c='black', capsize=5)\n",
        "# have a grid on the y-axis\n",
        "ax.set_axisbelow(True)\n",
        "ax.yaxis.grid(True, which='major', color='grey', alpha=.25)"
      ]
    },
    {
      "attachments": {},
      "cell_type": "markdown",
      "metadata": {},
      "source": [
        "### Compare change in performance among groups (v1 vs v2 vs v3)"
      ]
    },
    {
      "cell_type": "code",
      "execution_count": 54,
      "metadata": {},
      "outputs": [],
      "source": [
        "df[\"accuracy_change\"] = df[\"human_ai_accuracy\"] - df[\"human_accuracy\"]"
      ]
    },
    {
      "cell_type": "code",
      "execution_count": 55,
      "metadata": {},
      "outputs": [
        {
          "data": {
            "text/plain": [
              "count    406.000000\n",
              "mean       0.087438\n",
              "std        0.152568\n",
              "min       -0.375000\n",
              "25%        0.000000\n",
              "50%        0.125000\n",
              "75%        0.125000\n",
              "max        0.625000\n",
              "Name: accuracy_change, dtype: float64"
            ]
          },
          "execution_count": 55,
          "metadata": {},
          "output_type": "execute_result"
        }
      ],
      "source": [
        "df[\"accuracy_change\"].describe()"
      ]
    },
    {
      "attachments": {},
      "cell_type": "markdown",
      "metadata": {},
      "source": [
        "On average, accuracy of the participants increased by 0.087438 after seeing the AI score. We use a Kruskal-Wallis H-test to determine if there is a significant difference in change in performance of the participants among the groups."
      ]
    },
    {
      "cell_type": "code",
      "execution_count": 59,
      "metadata": {},
      "outputs": [],
      "source": [
        "kruskal, pairwise, stats = perform_kruskal_with_posthoc(df, \"accuracy_change\", print_results=False);"
      ]
    },
    {
      "cell_type": "code",
      "execution_count": 62,
      "metadata": {},
      "outputs": [
        {
          "data": {
            "text/html": [
              "<div>\n",
              "<style scoped>\n",
              "    .dataframe tbody tr th:only-of-type {\n",
              "        vertical-align: middle;\n",
              "    }\n",
              "\n",
              "    .dataframe tbody tr th {\n",
              "        vertical-align: top;\n",
              "    }\n",
              "\n",
              "    .dataframe thead th {\n",
              "        text-align: right;\n",
              "    }\n",
              "</style>\n",
              "<table border=\"1\" class=\"dataframe\">\n",
              "  <thead>\n",
              "    <tr style=\"text-align: right;\">\n",
              "      <th></th>\n",
              "      <th>Source</th>\n",
              "      <th>ddof1</th>\n",
              "      <th>H</th>\n",
              "      <th>p-unc</th>\n",
              "    </tr>\n",
              "  </thead>\n",
              "  <tbody>\n",
              "    <tr>\n",
              "      <th>Kruskal</th>\n",
              "      <td>METADATA.FEATURE</td>\n",
              "      <td>2</td>\n",
              "      <td>5.674691</td>\n",
              "      <td>0.058581</td>\n",
              "    </tr>\n",
              "  </tbody>\n",
              "</table>\n",
              "</div>"
            ],
            "text/plain": [
              "                   Source  ddof1         H     p-unc\n",
              "Kruskal  METADATA.FEATURE      2  5.674691  0.058581"
            ]
          },
          "execution_count": 62,
          "metadata": {},
          "output_type": "execute_result"
        }
      ],
      "source": [
        "kruskal"
      ]
    },
    {
      "attachments": {},
      "cell_type": "markdown",
      "metadata": {},
      "source": [
        "There is no significant difference in change in performance among the groups."
      ]
    },
    {
      "attachments": {},
      "cell_type": "markdown",
      "metadata": {},
      "source": [
        "## Willingness to adjust judgments to match the AI system"
      ]
    },
    {
      "cell_type": "code",
      "execution_count": 67,
      "metadata": {},
      "outputs": [],
      "source": [
        "def agrees_with_ai(row, newsitem_id):\n",
        "    ai_rating = newsitems[newsitems[\"id\"] == newsitem_id][\"truthfulness\"].values[0]\n",
        "    human_rating = row[f\"newsitem.{newsitem_id}.rating-after-xai\"]\n",
        "    return (human_rating < 50) == (ai_rating < 50)\n",
        "\n",
        "def switched_ratings(row, newsitem_id):\n",
        "    ai_rating = newsitems[newsitems[\"id\"] == newsitem_id][\"truthfulness\"].values[0]\n",
        "    human_rating_before = row[f\"newsitem.{newsitem_id}.rating-before-xai\"]\n",
        "    human_rating_after = row[f\"newsitem.{newsitem_id}.rating-after-xai\"]\n",
        "    \n",
        "    return ((human_rating_before < 50) != (human_rating_after < 50)\n",
        "            ) and ((human_rating_after < 50) == (ai_rating < 50))\n",
        "\n",
        "def calculate_ai_preference(row, newsitem_id):\n",
        "    rating_before_col = f\"newsitem.{i}.rating-before-xai\"\n",
        "    rating_after_col = f\"newsitem.{i}.rating-after-xai\"\n",
        "    ai_rating = newsitems[newsitems[\"id\"] == newsitem_id][\"truthfulness\"].values[0]\n",
        "\n",
        "    if row[rating_before_col] == ai_rating:\n",
        "        if ai_rating == row[rating_after_col]:\n",
        "            return 1\n",
        "        else:\n",
        "            return 0\n",
        "    else:\n",
        "        return min(1, max(0, (row[rating_after_col] - row[rating_before_col]) / (ai_rating - row[rating_before_col])))\n",
        "    \n",
        "for i in range(7, 15):\n",
        "    df[f\"newsitem.{i}.agrees-with-ai\"] = df.apply(lambda row: agrees_with_ai(row, i), axis=1)\n",
        "    df[f\"newsitem.{i}.switched-to-ai\"] = df.apply(lambda row: switched_ratings(row, i), axis=1)\n",
        "    df[f\"newsitem.{i}.ai-preference\"] = df.apply(lambda row: calculate_ai_preference(row, i), axis=1)"
      ]
    },
    {
      "cell_type": "code",
      "execution_count": 68,
      "metadata": {},
      "outputs": [],
      "source": [
        "agrees_with_ai_cols = [col for col in df.columns if col.startswith('newsitem') and col.endswith('agrees-with-ai')]\n",
        "switched_to_ai_cols = [col for col in df.columns if col.startswith('newsitem') and col.endswith('switched-to-ai')]\n",
        "ai_preference_cols = [col for col in df.columns if col.startswith('newsitem') and col.endswith('ai-preference')]\n",
        "\n",
        "# calculate average AI preference over all newsitems\n",
        "df[\"agrees-with-ai\"] = df[agrees_with_ai_cols].mean(axis=1)\n",
        "df[\"switched-to-ai\"] = df[switched_to_ai_cols].mean(axis=1)\n",
        "df[\"ai-preference\"] = df[ai_preference_cols].mean(axis=1)"
      ]
    },
    {
      "cell_type": "code",
      "execution_count": 89,
      "metadata": {},
      "outputs": [
        {
          "name": "stdout",
          "output_type": "stream",
          "text": [
            "Column name: ai-preference\n",
            "kruskal_pval 0.000119669564317498 \n",
            "\n",
            "           Contrast             A             B  Paired  Parametric    U-val  \\\n",
            "0  METADATA.FEATURE         basic  explanations   False       False   7104.0   \n",
            "1  METADATA.FEATURE         basic       salient   False       False  10309.5   \n",
            "2  METADATA.FEATURE  explanations       salient   False       False  11998.0   \n",
            "\n",
            "  alternative     p-unc    p-corr p-adjust    hedges  \n",
            "0   two-sided  0.005545  0.011090     holm -0.325073  \n",
            "1   two-sided  0.125494  0.125494     holm  0.160249  \n",
            "2   two-sided  0.000038  0.000113     holm  0.482682   \n",
            "\n",
            "                      mean       std\n",
            "METADATA.FEATURE                    \n",
            "basic             0.509299  0.205499\n",
            "explanations      0.576165  0.204720\n",
            "salient           0.475976  0.209125 \n",
            "\n"
          ]
        }
      ],
      "source": [
        "kruskal, posthoc, stats = perform_kruskal_with_posthoc(df, \"ai-preference\");"
      ]
    },
    {
      "cell_type": "code",
      "execution_count": 90,
      "metadata": {},
      "outputs": [
        {
          "name": "stdout",
          "output_type": "stream",
          "text": [
            "Column name: agrees-with-ai\n",
            "kruskal_pval 0.005216588496215046 \n",
            "\n",
            "           Contrast             A             B  Paired  Parametric    U-val  \\\n",
            "0  METADATA.FEATURE         basic  explanations   False       False   7219.0   \n",
            "1  METADATA.FEATURE         basic       salient   False       False   9418.0   \n",
            "2  METADATA.FEATURE  explanations       salient   False       False  11140.0   \n",
            "\n",
            "  alternative     p-unc    p-corr p-adjust    hedges  \n",
            "0   two-sided  0.006941  0.013883     holm -0.321403  \n",
            "1   two-sided  0.864163  0.864163     holm  0.014156  \n",
            "2   two-sided  0.003469  0.010407     holm  0.345823   \n",
            "\n",
            "                      mean       std\n",
            "METADATA.FEATURE                    \n",
            "basic             0.736842  0.146182\n",
            "explanations      0.781015  0.127258\n",
            "salient           0.734821  0.138618 \n",
            "\n"
          ]
        }
      ],
      "source": [
        "perform_kruskal_with_posthoc(df, \"agrees-with-ai\");"
      ]
    },
    {
      "cell_type": "code",
      "execution_count": 91,
      "metadata": {},
      "outputs": [
        {
          "name": "stdout",
          "output_type": "stream",
          "text": [
            "Column name: switched-to-ai\n",
            "kruskal_pval 0.006381658943733156 \n",
            "\n",
            "           Contrast             A             B  Paired  Parametric    U-val  \\\n",
            "0  METADATA.FEATURE         basic  explanations   False       False   7899.5   \n",
            "1  METADATA.FEATURE         basic       salient   False       False  10357.5   \n",
            "2  METADATA.FEATURE  explanations       salient   False       False  11323.0   \n",
            "\n",
            "  alternative     p-unc    p-corr p-adjust    hedges  \n",
            "0   two-sided  0.123774  0.198357     holm -0.181025  \n",
            "1   two-sided  0.099179  0.198357     holm  0.217095  \n",
            "2   two-sided  0.001584  0.004753     holm  0.403911   \n",
            "\n",
            "                      mean       std\n",
            "METADATA.FEATURE                    \n",
            "basic             0.223684  0.178809\n",
            "explanations      0.256579  0.183554\n",
            "salient           0.186607  0.161836 \n",
            "\n"
          ]
        }
      ],
      "source": [
        "perform_kruskal_with_posthoc(df, \"switched-to-ai\");"
      ]
    },
    {
      "cell_type": "code",
      "execution_count": 92,
      "metadata": {},
      "outputs": [
        {
          "data": {
            "text/plain": [
              "(0.8186625030487245, array([0.786, 0.847]))"
            ]
          },
          "execution_count": 92,
          "metadata": {},
          "output_type": "execute_result"
        }
      ],
      "source": [
        "pg.cronbach_alpha(df[[\"ai-preference\", \"agrees-with-ai\", \"switched-to-ai\"]])"
      ]
    },
    {
      "cell_type": "code",
      "execution_count": 93,
      "metadata": {},
      "outputs": [
        {
          "data": {
            "image/png": "[encoded data removed]",
            "text/plain": [
              "<Figure size 600x600 with 1 Axes>"
            ]
          },
          "metadata": {},
          "output_type": "display_data"
        }
      ],
      "source": [
        "ai_pref_data = df.groupby(\"METADATA.FEATURE\")[\"ai-preference\"].describe()[[\"mean\", \"std\"]].reset_index()\n",
        "ai_pref_data[\"METADATA.FEATURE\"] = pd.Categorical(ai_pref_data[\"METADATA.FEATURE\"], categories=[\"basic\", \"salient\", \"explanations\"], ordered=True)\n",
        "ai_pref_data = ai_pref_data.sort_values(\"METADATA.FEATURE\")\n",
        "\n",
        "fig, ax = plt.subplots(figsize=(6, 6))\n",
        "sns.barplot(x=\"METADATA.FEATURE\", y=\"mean\", data=ai_pref_data, ax=ax, palette=\"muted\", width=.4)\n",
        "ax.set_ylabel(\"Mean AI preference\")\n",
        "ax.set_xlabel(\"XAI Explanation type\")\n",
        "ax.set_ylim(0, 1)\n",
        "ax.set_title(\"Mean AI preference per AI explanation type\")\n",
        "ax.errorbar(x=ai_pref_data[\"METADATA.FEATURE\"], y=ai_pref_data[\"mean\"], yerr=ai_pref_data[\"std\"], fmt='none', c='black', capsize=5)\n",
        "# have a grid on the y-axis\n",
        "ax.set_axisbelow(True)\n",
        "ax.yaxis.grid(True, which='major', color='grey', alpha=.25)"
      ]
    },
    {
      "attachments": {},
      "cell_type": "markdown",
      "metadata": {},
      "source": [
        "*TODO*: Interpretation of results"
      ]
    },
    {
      "attachments": {},
      "cell_type": "markdown",
      "metadata": {},
      "source": [
        "## Effects of mistakes of the system"
      ]
    },
    {
      "cell_type": "code",
      "execution_count": null,
      "metadata": {},
      "outputs": [],
      "source": [
        "# TODO"
      ]
    },
    {
      "cell_type": "code",
      "execution_count": null,
      "metadata": {},
      "outputs": [],
      "source": [
        "local_eval_data = []\n",
        "\n",
        "for ind, row in df.iterrows():\n",
        "    for i in range(7, 15):\n",
        "        local_eval_data.append(\n",
        "            {\n",
        "                \"newsitem\": i,\n",
        "                \"classified-correctly\": row[f\"newsitem.{i}.system-evaluation.classified-correctly\"],\n",
        "                # \"explanations-comprehensible-and-help-assess\": row[f\"newsitem.{i}.system-evaluation.explanations-comprehensible-and-help-assess\"],\n",
        "                # \"indications-useful\": row[f\"newsitem.{i}.system-evaluation.indications-useful\"],\n",
        "                # \"understand-what-system-does\": row[f\"newsitem.{i}.system-evaluation.understand-what-system-does\"],\n",
        "                # \"xai-features-useful\": row[f\"newsitem.{i}.system-evaluation.xai-features-useful\"],\n",
        "                # \"human-before-correct\": row[f\"newsitem.{i}.human-before-correct\"],\n",
        "                # \"human-after-correct\": row[f\"newsitem.{i}.human-after-correct\"],\n",
        "                # \"ai-preference\": row[f\"newsitem.{i}.ai-preference\"],\n",
        "                # \"switched-to-ai\": row[f\"newsitem.{i}.switched-to-ai\"],\n",
        "            }\n",
        "        )\n",
        "\n",
        "local_eval_df = pd.DataFrame(local_eval_data)\n"
      ]
    },
    {
      "cell_type": "code",
      "execution_count": null,
      "metadata": {},
      "outputs": [],
      "source": [
        "local_eval_means = local_eval_df.groupby(\"newsitem\").mean().reset_index()\n",
        "\n",
        "local_eval_means =  pd.melt(local_eval_means, id_vars=\"newsitem\", var_name=\"measure\")\n",
        "local_eval_means"
      ]
    },
    {
      "cell_type": "code",
      "execution_count": null,
      "metadata": {},
      "outputs": [],
      "source": [
        "sns.catplot(x=\"newsitem\", y=\"value\", hue=\"measure\", data=local_eval_means,  palette=\"muted\", kind=\"bar\")\n",
        "\n",
        "# show the numbers on the x axis for values 13 and 14 in red\n",
        "\n",
        "\n",
        "plt.show();"
      ]
    },
    {
      "attachments": {},
      "cell_type": "markdown",
      "metadata": {},
      "source": [
        "## Analysis of open questions"
      ]
    },
    {
      "cell_type": "code",
      "execution_count": null,
      "metadata": {},
      "outputs": [],
      "source": [
        "# TODO"
      ]
    }
  ],
  "metadata": {
    "kernelspec": {
      "display_name": "base",
      "language": "python",
      "name": "python3"
    },
    "language_info": {
      "codemirror_mode": {
        "name": "ipython",
        "version": 3
      },
      "file_extension": ".py",
      "mimetype": "text/x-python",
      "name": "python",
      "nbconvert_exporter": "python",
      "pygments_lexer": "ipython3",
      "version": "3.10.9"
    },
    "orig_nbformat": 4
  },
  "nbformat": 4,
  "nbformat_minor": 2
}
