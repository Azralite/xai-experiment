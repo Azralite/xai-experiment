{
 "cells": [
  {
   "cell_type": "code",
   "execution_count": 171,
   "metadata": {},
   "outputs": [],
   "source": [
    "import json\n",
    "import pandas as pd\n",
    "import requests\n",
    "import io\n",
    "from urllib.request import urlopen\n",
    "import json\n",
    "import logging\n",
    "import seaborn as sns\n",
    "import matplotlib.pyplot as plt\n",
    "import numpy as np\n",
    "from pandas.io.json import json_normalize"
   ]
  },
  {
   "cell_type": "code",
   "execution_count": 172,
   "metadata": {},
   "outputs": [],
   "source": [
    "df_v1 = pd.read_csv('data/v1_cleaned.csv')\n",
    "df_v2 = pd.read_csv('data/v2_cleaned.csv')"
   ]
  },
  {
   "cell_type": "code",
   "execution_count": 173,
   "metadata": {},
   "outputs": [],
   "source": [
    "# merge the two dataframes\n",
    "df = pd.concat([df_v1, df_v2], ignore_index=True)"
   ]
  },
  {
   "attachments": {},
   "cell_type": "markdown",
   "metadata": {},
   "source": [
    "## Filtering out assumed cheaters"
   ]
  },
  {
   "attachments": {},
   "cell_type": "markdown",
   "metadata": {},
   "source": [
    "Assume that participants who did answer at least 5 out of 6 control questions correctly were paying attention and gave valid answers."
   ]
  },
  {
   "cell_type": "code",
   "execution_count": 174,
   "metadata": {},
   "outputs": [],
   "source": [
    "# participants who did not get 2 points in the qualification shouldn't be considered\n",
    "df = df[df['POINTS.qualification'] == 2]"
   ]
  },
  {
   "cell_type": "code",
   "execution_count": 175,
   "metadata": {},
   "outputs": [],
   "source": [
    "df = df[df[\"POINTS.main\"] >= 5]"
   ]
  },
  {
   "cell_type": "code",
   "execution_count": 176,
   "metadata": {},
   "outputs": [
    {
     "data": {
      "text/plain": [
       "basic      133\n",
       "salient    105\n",
       "Name: METADATA.FEATURE, dtype: int64"
      ]
     },
     "execution_count": 176,
     "metadata": {},
     "output_type": "execute_result"
    }
   ],
   "source": [
    "df[\"METADATA.FEATURE\"].value_counts()"
   ]
  },
  {
   "attachments": {},
   "cell_type": "markdown",
   "metadata": {},
   "source": [
    "## Demographics"
   ]
  },
  {
   "cell_type": "code",
   "execution_count": 177,
   "metadata": {},
   "outputs": [
    {
     "data": {
      "text/plain": [
       "['demographics.age',\n",
       " 'demographics.country',\n",
       " 'demographics.education',\n",
       " 'demographics.employment',\n",
       " 'demographics.gender',\n",
       " 'demographics.income',\n",
       " 'demographics.nationality']"
      ]
     },
     "execution_count": 177,
     "metadata": {},
     "output_type": "execute_result"
    }
   ],
   "source": [
    "# get columns which start with \"demographics\"\n",
    "demographics_cols = [col for col in df.columns if col.startswith('demographics')]\n",
    "demographics_cols\n",
    "# country and nationality are not relevant, since the study was conducted in the US"
   ]
  },
  {
   "cell_type": "code",
   "execution_count": 178,
   "metadata": {},
   "outputs": [
    {
     "data": {
      "text/plain": [
       "18-20           2.941176\n",
       "21-29          28.991597\n",
       "30-39          38.235294\n",
       "40-49          21.008403\n",
       "50-59           6.722689\n",
       "60-or-older     2.100840\n",
       "Name: demographics.age, dtype: float64"
      ]
     },
     "execution_count": 178,
     "metadata": {},
     "output_type": "execute_result"
    }
   ],
   "source": [
    "df[\"demographics.age\"].value_counts(normalize=True).sort_index() * 100"
   ]
  },
  {
   "cell_type": "code",
   "execution_count": 179,
   "metadata": {},
   "outputs": [
    {
     "data": {
      "text/plain": [
       "university         55.462185\n",
       "high-school        39.495798\n",
       "no-degree           2.100840\n",
       "secondary           1.680672\n",
       "upper-secondary     1.260504\n",
       "Name: demographics.education, dtype: float64"
      ]
     },
     "execution_count": 179,
     "metadata": {},
     "output_type": "execute_result"
    }
   ],
   "source": [
    "df[\"demographics.education\"].value_counts(normalize=True) * 100\n",
    "# university degree is the most common education level, this is surprising"
   ]
  },
  {
   "cell_type": "code",
   "execution_count": 180,
   "metadata": {},
   "outputs": [
    {
     "data": {
      "text/plain": [
       "salaried-employee    35.714286\n",
       "self-employed        31.932773\n",
       "unemployed           12.605042\n",
       "student              10.924370\n",
       "other                 6.722689\n",
       "civil-servant         0.840336\n",
       "retiree-pensioner     0.840336\n",
       "apprentice            0.420168\n",
       "Name: demographics.employment, dtype: float64"
      ]
     },
     "execution_count": 180,
     "metadata": {},
     "output_type": "execute_result"
    }
   ],
   "source": [
    "df[\"demographics.employment\"].value_counts(normalize=True) * 100"
   ]
  },
  {
   "cell_type": "code",
   "execution_count": 181,
   "metadata": {},
   "outputs": [
    {
     "name": "stdout",
     "output_type": "stream",
     "text": [
      "less-than-20000-usd 16.80672268907563\n",
      "20000-34999-usd 17.22689075630252\n",
      "35000-49999-usd 12.605042016806722\n",
      "50000-74999-usd 18.487394957983195\n",
      "75000-99999-usd 12.605042016806722\n",
      "over-100000-usd 10.92436974789916\n",
      "no-answer 11.344537815126051\n"
     ]
    }
   ],
   "source": [
    "income_vc = df[\"demographics.income\"].value_counts(normalize=True)\n",
    "print(\"less-than-20000-usd\", income_vc[\"less-than-20000-usd\"] * 100)\n",
    "print(\"20000-34999-usd\", income_vc[\"20000-34999-usd\"] * 100)\n",
    "print(\"35000-49999-usd\", income_vc[\"35000-49999-usd\"] * 100)\n",
    "print(\"50000-74999-usd\", income_vc[\"50000-74999-usd\"] * 100)\n",
    "print(\"75000-99999-usd\", income_vc[\"75000-99999-usd\"] * 100)\n",
    "print(\"over-100000-usd\", income_vc[\"over-100000-usd\"] * 100)\n",
    "print(\"no-answer\", income_vc[\"no-answer\"] * 100)"
   ]
  },
  {
   "cell_type": "code",
   "execution_count": 182,
   "metadata": {},
   "outputs": [
    {
     "data": {
      "text/plain": [
       "female     67.647059\n",
       "male       31.092437\n",
       "diverse     1.260504\n",
       "Name: demographics.gender, dtype: float64"
      ]
     },
     "execution_count": 182,
     "metadata": {},
     "output_type": "execute_result"
    }
   ],
   "source": [
    "df[\"demographics.gender\"].value_counts(normalize=True) * 100"
   ]
  }
 ],
 "metadata": {
  "kernelspec": {
   "display_name": "base",
   "language": "python",
   "name": "python3"
  },
  "language_info": {
   "codemirror_mode": {
    "name": "ipython",
    "version": 3
   },
   "file_extension": ".py",
   "mimetype": "text/x-python",
   "name": "python",
   "nbconvert_exporter": "python",
   "pygments_lexer": "ipython3",
   "version": "3.10.9"
  },
  "orig_nbformat": 4
 },
 "nbformat": 4,
 "nbformat_minor": 2
}
